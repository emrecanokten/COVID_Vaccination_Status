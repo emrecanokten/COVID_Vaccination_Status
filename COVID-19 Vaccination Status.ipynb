{
 "cells": [
  {
   "cell_type": "markdown",
   "id": "operational-frequency",
   "metadata": {},
   "source": [
    "# Visualising the Current Status of COVID-19 Vaccination"
   ]
  },
  {
   "cell_type": "markdown",
   "id": "starting-meaning",
   "metadata": {},
   "source": [
    "## Introduction"
   ]
  },
  {
   "cell_type": "markdown",
   "id": "civic-radical",
   "metadata": {},
   "source": [
    "This notebook performs exploratory data analysis on multiple datasets and visualises the consolidated data.\n",
    "\n",
    "The main objective is to visualise COVID-19 vaccination process globally and monitor its progress.\n",
    "\n",
    "Plotly is used to visualise the data.\n",
    "\n",
    "Used datasets are:\n",
    "\n",
    "- COVID-19 World Vaccination Progress\n",
    "- Population by Country - 2020\n",
    "\n",
    "Visualisations answer three simple questions:\n",
    "\n",
    "- What vaccines are used and in which countries?\n",
    "- What country is vaccinated more people?\n",
    "- What country is vaccinated a larger percent from its population?"
   ]
  },
  {
   "cell_type": "markdown",
   "id": "incident-division",
   "metadata": {},
   "source": [
    "## 1. Import necessary libraries"
   ]
  },
  {
   "cell_type": "code",
   "execution_count": 1,
   "id": "premier-bouquet",
   "metadata": {},
   "outputs": [
    {
     "data": {
      "text/html": [
       "        <script type=\"text/javascript\">\n",
       "        window.PlotlyConfig = {MathJaxConfig: 'local'};\n",
       "        if (window.MathJax) {MathJax.Hub.Config({SVG: {font: \"STIX-Web\"}});}\n",
       "        if (typeof require !== 'undefined') {\n",
       "        require.undef(\"plotly\");\n",
       "        requirejs.config({\n",
       "            paths: {\n",
       "                'plotly': ['https://cdn.plot.ly/plotly-latest.min']\n",
       "            }\n",
       "        });\n",
       "        require(['plotly'], function(Plotly) {\n",
       "            window._Plotly = Plotly;\n",
       "        });\n",
       "        }\n",
       "        </script>\n",
       "        "
      ]
     },
     "metadata": {},
     "output_type": "display_data"
    },
    {
     "data": {
      "text/html": [
       "        <script type=\"text/javascript\">\n",
       "        window.PlotlyConfig = {MathJaxConfig: 'local'};\n",
       "        if (window.MathJax) {MathJax.Hub.Config({SVG: {font: \"STIX-Web\"}});}\n",
       "        if (typeof require !== 'undefined') {\n",
       "        require.undef(\"plotly\");\n",
       "        requirejs.config({\n",
       "            paths: {\n",
       "                'plotly': ['https://cdn.plot.ly/plotly-latest.min']\n",
       "            }\n",
       "        });\n",
       "        require(['plotly'], function(Plotly) {\n",
       "            window._Plotly = Plotly;\n",
       "        });\n",
       "        }\n",
       "        </script>\n",
       "        "
      ]
     },
     "metadata": {},
     "output_type": "display_data"
    }
   ],
   "source": [
    "import pandas as pd\n",
    "import numpy as np\n",
    "import math\n",
    "import chart_studio.plotly as py\n",
    "import cufflinks as cf\n",
    "import plotly\n",
    "import plotly.express as px\n",
    "import plotly.graph_objects as go\n",
    "%matplotlib inline\n",
    "\n",
    "from plotly.offline import download_plotlyjs, init_notebook_mode, plot, iplot \n",
    "init_notebook_mode(connected=True)\n",
    "cf.go_offline()"
   ]
  },
  {
   "cell_type": "markdown",
   "id": "streaming-visiting",
   "metadata": {},
   "source": [
    "## 2. EDA on Vaccine Data Frame"
   ]
  },
  {
   "cell_type": "markdown",
   "id": "martial-level",
   "metadata": {},
   "source": [
    "### Read the vaccine data frame with necessary columns & parsing the date column"
   ]
  },
  {
   "cell_type": "code",
   "execution_count": 2,
   "id": "interested-trading",
   "metadata": {
    "scrolled": false
   },
   "outputs": [],
   "source": [
    "df_vac = pd.read_csv('Country_Vaccinations.csv',\n",
    "                 usecols=[\"country\", \"iso_code\", \"date\",\"people_vaccinated\", \"vaccines\"],\n",
    "                 parse_dates = ['date'])"
   ]
  },
  {
   "cell_type": "markdown",
   "id": "spread-northern",
   "metadata": {},
   "source": [
    "### Inspect the vaccine data frame"
   ]
  },
  {
   "cell_type": "code",
   "execution_count": 3,
   "id": "progressive-sunday",
   "metadata": {},
   "outputs": [
    {
     "name": "stdout",
     "output_type": "stream",
     "text": [
      "<class 'pandas.core.frame.DataFrame'>\n",
      "RangeIndex: 6186 entries, 0 to 6185\n",
      "Data columns (total 5 columns):\n",
      " #   Column             Non-Null Count  Dtype         \n",
      "---  ------             --------------  -----         \n",
      " 0   country            6186 non-null   object        \n",
      " 1   iso_code           5826 non-null   object        \n",
      " 2   date               6186 non-null   datetime64[ns]\n",
      " 3   people_vaccinated  3542 non-null   float64       \n",
      " 4   vaccines           6186 non-null   object        \n",
      "dtypes: datetime64[ns](1), float64(1), object(3)\n",
      "memory usage: 241.8+ KB\n"
     ]
    }
   ],
   "source": [
    "df_vac.info()"
   ]
  },
  {
   "cell_type": "markdown",
   "id": "natural-combat",
   "metadata": {},
   "source": [
    "### See which rows do not have ISO Code"
   ]
  },
  {
   "cell_type": "code",
   "execution_count": 4,
   "id": "conscious-ratio",
   "metadata": {},
   "outputs": [
    {
     "data": {
      "text/plain": [
       "array(['England', 'Northern Ireland', 'Scotland', 'Wales'], dtype=object)"
      ]
     },
     "execution_count": 4,
     "metadata": {},
     "output_type": "execute_result"
    }
   ],
   "source": [
    "df_vac_na = df_vac[df_vac['iso_code'].isnull()]\n",
    "\n",
    "df_vac_na['country'].unique()"
   ]
  },
  {
   "cell_type": "markdown",
   "id": "robust-wallet",
   "metadata": {},
   "source": [
    "### Drop the rows including the countries above since they are already in the United Kingdom"
   ]
  },
  {
   "cell_type": "code",
   "execution_count": 5,
   "id": "german-billion",
   "metadata": {
    "scrolled": true
   },
   "outputs": [
    {
     "name": "stdout",
     "output_type": "stream",
     "text": [
      "<class 'pandas.core.frame.DataFrame'>\n",
      "Int64Index: 3280 entries, 0 to 6185\n",
      "Data columns (total 5 columns):\n",
      " #   Column             Non-Null Count  Dtype         \n",
      "---  ------             --------------  -----         \n",
      " 0   country            3280 non-null   object        \n",
      " 1   iso_code           3280 non-null   object        \n",
      " 2   date               3280 non-null   datetime64[ns]\n",
      " 3   people_vaccinated  3280 non-null   float64       \n",
      " 4   vaccines           3280 non-null   object        \n",
      "dtypes: datetime64[ns](1), float64(1), object(3)\n",
      "memory usage: 153.8+ KB\n"
     ]
    }
   ],
   "source": [
    "# This command will also drop the rows that has no value in their people vaccinated column\n",
    "# Since this column is cumulative sum, we are going to use max() function to find our value in final data frame\n",
    "\n",
    "df_vac = df_vac.dropna()\n",
    "df_vac.info()"
   ]
  },
  {
   "cell_type": "markdown",
   "id": "impossible-maria",
   "metadata": {},
   "source": [
    "### Create a dataframe that gets the maximum value of total vaccinations and groups by country"
   ]
  },
  {
   "cell_type": "code",
   "execution_count": 6,
   "id": "helpful-river",
   "metadata": {
    "scrolled": true
   },
   "outputs": [
    {
     "data": {
      "text/html": [
       "<div>\n",
       "<style scoped>\n",
       "    .dataframe tbody tr th:only-of-type {\n",
       "        vertical-align: middle;\n",
       "    }\n",
       "\n",
       "    .dataframe tbody tr th {\n",
       "        vertical-align: top;\n",
       "    }\n",
       "\n",
       "    .dataframe thead th {\n",
       "        text-align: right;\n",
       "    }\n",
       "</style>\n",
       "<table border=\"1\" class=\"dataframe\">\n",
       "  <thead>\n",
       "    <tr style=\"text-align: right;\">\n",
       "      <th></th>\n",
       "      <th>vaccines</th>\n",
       "      <th>iso_code</th>\n",
       "      <th>country</th>\n",
       "      <th>people_vaccinated</th>\n",
       "    </tr>\n",
       "  </thead>\n",
       "  <tbody>\n",
       "    <tr>\n",
       "      <th>0</th>\n",
       "      <td>Pfizer/BioNTech</td>\n",
       "      <td>ALB</td>\n",
       "      <td>Albania</td>\n",
       "      <td>6073.0</td>\n",
       "    </tr>\n",
       "    <tr>\n",
       "      <th>1</th>\n",
       "      <td>Pfizer/BioNTech</td>\n",
       "      <td>AND</td>\n",
       "      <td>Andorra</td>\n",
       "      <td>3650.0</td>\n",
       "    </tr>\n",
       "    <tr>\n",
       "      <th>2</th>\n",
       "      <td>Oxford/AstraZeneca</td>\n",
       "      <td>AGO</td>\n",
       "      <td>Angola</td>\n",
       "      <td>6169.0</td>\n",
       "    </tr>\n",
       "    <tr>\n",
       "      <th>3</th>\n",
       "      <td>Oxford/AstraZeneca</td>\n",
       "      <td>AIA</td>\n",
       "      <td>Anguilla</td>\n",
       "      <td>3929.0</td>\n",
       "    </tr>\n",
       "    <tr>\n",
       "      <th>4</th>\n",
       "      <td>Oxford/AstraZeneca, Sinopharm/Beijing, Sputnik V</td>\n",
       "      <td>ARG</td>\n",
       "      <td>Argentina</td>\n",
       "      <td>1876113.0</td>\n",
       "    </tr>\n",
       "  </tbody>\n",
       "</table>\n",
       "</div>"
      ],
      "text/plain": [
       "                                           vaccines iso_code    country  \\\n",
       "0                                   Pfizer/BioNTech      ALB    Albania   \n",
       "1                                   Pfizer/BioNTech      AND    Andorra   \n",
       "2                                Oxford/AstraZeneca      AGO     Angola   \n",
       "3                                Oxford/AstraZeneca      AIA   Anguilla   \n",
       "4  Oxford/AstraZeneca, Sinopharm/Beijing, Sputnik V      ARG  Argentina   \n",
       "\n",
       "   people_vaccinated  \n",
       "0             6073.0  \n",
       "1             3650.0  \n",
       "2             6169.0  \n",
       "3             3929.0  \n",
       "4          1876113.0  "
      ]
     },
     "execution_count": 6,
     "metadata": {},
     "output_type": "execute_result"
    }
   ],
   "source": [
    "df_vac = pd.DataFrame(df_vac.groupby([\"country\",\"iso_code\",'vaccines'])[\"people_vaccinated\"].max())\n",
    "\n",
    "# Resetting indexes to use the data frame in merge function\n",
    "\n",
    "df_vac.reset_index(level=0, inplace=True)\n",
    "df_vac.reset_index(level=0, inplace=True)\n",
    "df_vac.reset_index(level=0, inplace=True)\n",
    "\n",
    "df_vac.head()"
   ]
  },
  {
   "cell_type": "code",
   "execution_count": 7,
   "id": "present-cyprus",
   "metadata": {},
   "outputs": [
    {
     "name": "stdout",
     "output_type": "stream",
     "text": [
      "<class 'pandas.core.frame.DataFrame'>\n",
      "RangeIndex: 115 entries, 0 to 114\n",
      "Data columns (total 4 columns):\n",
      " #   Column             Non-Null Count  Dtype  \n",
      "---  ------             --------------  -----  \n",
      " 0   vaccines           115 non-null    object \n",
      " 1   iso_code           115 non-null    object \n",
      " 2   country            115 non-null    object \n",
      " 3   people_vaccinated  115 non-null    float64\n",
      "dtypes: float64(1), object(3)\n",
      "memory usage: 3.7+ KB\n"
     ]
    }
   ],
   "source": [
    "df_vac.info()"
   ]
  },
  {
   "cell_type": "markdown",
   "id": "sustained-grant",
   "metadata": {},
   "source": [
    "The vaccines data frame is ready for merge, now perform EDA on population data frame."
   ]
  },
  {
   "cell_type": "markdown",
   "id": "specified-copying",
   "metadata": {},
   "source": [
    "## 3. EDA on Population Data Frame"
   ]
  },
  {
   "cell_type": "markdown",
   "id": "muslim-suicide",
   "metadata": {},
   "source": [
    "### Read the population data frame with necessary columns & parsing the date column"
   ]
  },
  {
   "cell_type": "code",
   "execution_count": 8,
   "id": "spare-rescue",
   "metadata": {},
   "outputs": [
    {
     "name": "stdout",
     "output_type": "stream",
     "text": [
      "<class 'pandas.core.frame.DataFrame'>\n",
      "RangeIndex: 235 entries, 0 to 234\n",
      "Data columns (total 11 columns):\n",
      " #   Column             Non-Null Count  Dtype  \n",
      "---  ------             --------------  -----  \n",
      " 0   country            235 non-null    object \n",
      " 1   Population (2020)  235 non-null    int64  \n",
      " 2   Yearly Change      235 non-null    object \n",
      " 3   Net Change         235 non-null    int64  \n",
      " 4   Density (P/Km²)    235 non-null    int64  \n",
      " 5   Land Area (Km²)    235 non-null    int64  \n",
      " 6   Migrants (net)     201 non-null    float64\n",
      " 7   Fert. Rate         235 non-null    object \n",
      " 8   Med. Age           235 non-null    object \n",
      " 9   Urban Pop %        235 non-null    object \n",
      " 10  World Share        235 non-null    object \n",
      "dtypes: float64(1), int64(4), object(6)\n",
      "memory usage: 20.3+ KB\n"
     ]
    }
   ],
   "source": [
    "df_pop = pd.read_csv('Country_Population.csv')\n",
    "\n",
    "df_pop.rename(columns={'Country (or dependency)': 'country'}, inplace=True)\n",
    "\n",
    "df_pop.info()"
   ]
  },
  {
   "cell_type": "markdown",
   "id": "living-worker",
   "metadata": {},
   "source": [
    "### Merge two data frames"
   ]
  },
  {
   "cell_type": "code",
   "execution_count": 9,
   "id": "perfect-conflict",
   "metadata": {},
   "outputs": [],
   "source": [
    "df = pd.merge(df_vac, df_pop, how='left', on='country')"
   ]
  },
  {
   "cell_type": "code",
   "execution_count": 10,
   "id": "seasonal-tonight",
   "metadata": {
    "scrolled": false
   },
   "outputs": [
    {
     "name": "stdout",
     "output_type": "stream",
     "text": [
      "<class 'pandas.core.frame.DataFrame'>\n",
      "Int64Index: 115 entries, 0 to 114\n",
      "Data columns (total 14 columns):\n",
      " #   Column             Non-Null Count  Dtype  \n",
      "---  ------             --------------  -----  \n",
      " 0   vaccines           115 non-null    object \n",
      " 1   iso_code           115 non-null    object \n",
      " 2   country            115 non-null    object \n",
      " 3   people_vaccinated  115 non-null    float64\n",
      " 4   Population (2020)  110 non-null    float64\n",
      " 5   Yearly Change      110 non-null    object \n",
      " 6   Net Change         110 non-null    float64\n",
      " 7   Density (P/Km²)    110 non-null    float64\n",
      " 8   Land Area (Km²)    110 non-null    float64\n",
      " 9   Migrants (net)     98 non-null     float64\n",
      " 10  Fert. Rate         110 non-null    object \n",
      " 11  Med. Age           110 non-null    object \n",
      " 12  Urban Pop %        110 non-null    object \n",
      " 13  World Share        110 non-null    object \n",
      "dtypes: float64(6), object(8)\n",
      "memory usage: 13.5+ KB\n"
     ]
    }
   ],
   "source": [
    "df.info()"
   ]
  },
  {
   "cell_type": "markdown",
   "id": "proud-execution",
   "metadata": {},
   "source": [
    "### We have population missing for six different countries, let's have a look what they are"
   ]
  },
  {
   "cell_type": "code",
   "execution_count": 11,
   "id": "strong-separation",
   "metadata": {},
   "outputs": [
    {
     "data": {
      "text/plain": [
       "array([\"Cote d'Ivoire\", 'Czechia', 'Guernsey', 'Jersey',\n",
       "       'Turks and Caicos Islands'], dtype=object)"
      ]
     },
     "execution_count": 11,
     "metadata": {},
     "output_type": "execute_result"
    }
   ],
   "source": [
    "df_na = df[df['Population (2020)'].isnull()]\n",
    "\n",
    "df_na['country'].unique()"
   ]
  },
  {
   "cell_type": "markdown",
   "id": "random-collective",
   "metadata": {},
   "source": [
    "### Investigate the population data frame to see if we can find their equivalents"
   ]
  },
  {
   "cell_type": "code",
   "execution_count": 12,
   "id": "waiting-allergy",
   "metadata": {
    "scrolled": true
   },
   "outputs": [
    {
     "data": {
      "text/plain": [
       "array(['China', 'India', 'United States', 'Indonesia', 'Pakistan',\n",
       "       'Brazil', 'Nigeria', 'Bangladesh', 'Russia', 'Mexico', 'Japan',\n",
       "       'Ethiopia', 'Philippines', 'Egypt', 'Vietnam', 'DR Congo',\n",
       "       'Turkey', 'Iran', 'Germany', 'Thailand', 'United Kingdom',\n",
       "       'France', 'Italy', 'Tanzania', 'South Africa', 'Myanmar', 'Kenya',\n",
       "       'South Korea', 'Colombia', 'Spain', 'Uganda', 'Argentina',\n",
       "       'Algeria', 'Sudan', 'Ukraine', 'Iraq', 'Afghanistan', 'Poland',\n",
       "       'Canada', 'Morocco', 'Saudi Arabia', 'Uzbekistan', 'Peru',\n",
       "       'Angola', 'Malaysia', 'Mozambique', 'Ghana', 'Yemen', 'Nepal',\n",
       "       'Venezuela', 'Madagascar', 'Cameroon', \"Côte d'Ivoire\",\n",
       "       'North Korea', 'Australia', 'Niger', 'Taiwan', 'Sri Lanka',\n",
       "       'Burkina Faso', 'Mali', 'Romania', 'Malawi', 'Chile', 'Kazakhstan',\n",
       "       'Zambia', 'Guatemala', 'Ecuador', 'Syria', 'Netherlands',\n",
       "       'Senegal', 'Cambodia', 'Chad', 'Somalia', 'Zimbabwe', 'Guinea',\n",
       "       'Rwanda', 'Benin', 'Burundi', 'Tunisia', 'Bolivia', 'Belgium',\n",
       "       'Haiti', 'Cuba', 'South Sudan', 'Dominican Republic',\n",
       "       'Czech Republic (Czechia)', 'Greece', 'Jordan', 'Portugal',\n",
       "       'Azerbaijan', 'Sweden', 'Honduras', 'United Arab Emirates',\n",
       "       'Hungary', 'Tajikistan', 'Belarus', 'Austria', 'Papua New Guinea',\n",
       "       'Serbia', 'Israel', 'Switzerland', 'Togo', 'Sierra Leone',\n",
       "       'Hong Kong', 'Laos', 'Paraguay', 'Bulgaria', 'Libya', 'Lebanon',\n",
       "       'Nicaragua', 'Kyrgyzstan', 'El Salvador', 'Turkmenistan',\n",
       "       'Singapore', 'Denmark', 'Finland', 'Congo', 'Slovakia', 'Norway',\n",
       "       'Oman', 'State of Palestine', 'Costa Rica', 'Liberia', 'Ireland',\n",
       "       'Central African Republic', 'New Zealand', 'Mauritania', 'Panama',\n",
       "       'Kuwait', 'Croatia', 'Moldova', 'Georgia', 'Eritrea', 'Uruguay',\n",
       "       'Bosnia and Herzegovina', 'Mongolia', 'Armenia', 'Jamaica',\n",
       "       'Qatar', 'Albania', 'Puerto Rico', 'Lithuania', 'Namibia',\n",
       "       'Gambia', 'Botswana', 'Gabon', 'Lesotho', 'North Macedonia',\n",
       "       'Slovenia', 'Guinea-Bissau', 'Latvia', 'Bahrain',\n",
       "       'Equatorial Guinea', 'Trinidad and Tobago', 'Estonia',\n",
       "       'Timor-Leste', 'Mauritius', 'Cyprus', 'Eswatini', 'Djibouti',\n",
       "       'Fiji', 'Réunion', 'Comoros', 'Guyana', 'Bhutan',\n",
       "       'Solomon Islands', 'Macao', 'Montenegro', 'Luxembourg',\n",
       "       'Western Sahara', 'Suriname', 'Cabo Verde', 'Maldives', 'Malta',\n",
       "       'Brunei', 'Guadeloupe', 'Belize', 'Bahamas', 'Martinique',\n",
       "       'Iceland', 'Vanuatu', 'French Guiana', 'Barbados', 'New Caledonia',\n",
       "       'French Polynesia', 'Mayotte', 'Sao Tome & Principe', 'Samoa',\n",
       "       'Saint Lucia', 'Channel Islands', 'Guam', 'Curaçao', 'Kiribati',\n",
       "       'Micronesia', 'Grenada', 'St. Vincent & Grenadines', 'Aruba',\n",
       "       'Tonga', 'U.S. Virgin Islands', 'Seychelles',\n",
       "       'Antigua and Barbuda', 'Isle of Man', 'Andorra', 'Dominica',\n",
       "       'Cayman Islands', 'Bermuda', 'Marshall Islands',\n",
       "       'Northern Mariana Islands', 'Greenland', 'American Samoa',\n",
       "       'Saint Kitts & Nevis', 'Faeroe Islands', 'Sint Maarten', 'Monaco',\n",
       "       'Turks and Caicos', 'Saint Martin', 'Liechtenstein', 'San Marino',\n",
       "       'Gibraltar', 'British Virgin Islands', 'Caribbean Netherlands',\n",
       "       'Palau', 'Cook Islands', 'Anguilla', 'Tuvalu', 'Wallis & Futuna',\n",
       "       'Nauru', 'Saint Barthelemy', 'Saint Helena',\n",
       "       'Saint Pierre & Miquelon', 'Montserrat', 'Falkland Islands',\n",
       "       'Niue', 'Tokelau', 'Holy See'], dtype=object)"
      ]
     },
     "execution_count": 12,
     "metadata": {},
     "output_type": "execute_result"
    }
   ],
   "source": [
    "df_pop['country'].unique()"
   ]
  },
  {
   "cell_type": "markdown",
   "id": "convenient-failing",
   "metadata": {},
   "source": [
    "### Replace the countries in the population data frame with their corresponding name in the vaccine data frame, and follow the same steps"
   ]
  },
  {
   "cell_type": "code",
   "execution_count": 13,
   "id": "consolidated-english",
   "metadata": {},
   "outputs": [
    {
     "data": {
      "text/plain": [
       "array(['Guernsey', 'Jersey'], dtype=object)"
      ]
     },
     "execution_count": 13,
     "metadata": {},
     "output_type": "execute_result"
    }
   ],
   "source": [
    "df_pop.country = df_pop.country.replace().replace({\n",
    "    \"Côte d'Ivoire\": \"Cote d'Ivoire\", \n",
    "    \"Czech Republic (Czechia)\": \"Czechia\", \n",
    "    \"Turks and Caicos\": \"Turks and Caicos Islands\"})\n",
    "\n",
    "df = pd.merge(df_vac, df_pop, how='left', on='country')\n",
    "\n",
    "df_na = df[df['Population (2020)'].isnull()]\n",
    "\n",
    "df_na['country'].unique()"
   ]
  },
  {
   "cell_type": "code",
   "execution_count": 14,
   "id": "talented-sailing",
   "metadata": {},
   "outputs": [
    {
     "name": "stdout",
     "output_type": "stream",
     "text": [
      "<class 'pandas.core.frame.DataFrame'>\n",
      "Int64Index: 115 entries, 0 to 114\n",
      "Data columns (total 14 columns):\n",
      " #   Column             Non-Null Count  Dtype  \n",
      "---  ------             --------------  -----  \n",
      " 0   vaccines           115 non-null    object \n",
      " 1   iso_code           115 non-null    object \n",
      " 2   country            115 non-null    object \n",
      " 3   people_vaccinated  115 non-null    float64\n",
      " 4   Population (2020)  113 non-null    float64\n",
      " 5   Yearly Change      113 non-null    object \n",
      " 6   Net Change         113 non-null    float64\n",
      " 7   Density (P/Km²)    113 non-null    float64\n",
      " 8   Land Area (Km²)    113 non-null    float64\n",
      " 9   Migrants (net)     100 non-null    float64\n",
      " 10  Fert. Rate         113 non-null    object \n",
      " 11  Med. Age           113 non-null    object \n",
      " 12  Urban Pop %        113 non-null    object \n",
      " 13  World Share        113 non-null    object \n",
      "dtypes: float64(6), object(8)\n",
      "memory usage: 13.5+ KB\n"
     ]
    }
   ],
   "source": [
    "df.info()"
   ]
  },
  {
   "cell_type": "markdown",
   "id": "streaming-tourism",
   "metadata": {},
   "source": [
    "### Since we do not have these countries, we can drop the rows that include them"
   ]
  },
  {
   "cell_type": "code",
   "execution_count": 15,
   "id": "selected-compatibility",
   "metadata": {
    "scrolled": false
   },
   "outputs": [
    {
     "name": "stdout",
     "output_type": "stream",
     "text": [
      "<class 'pandas.core.frame.DataFrame'>\n",
      "Int64Index: 113 entries, 0 to 114\n",
      "Data columns (total 8 columns):\n",
      " #   Column             Non-Null Count  Dtype  \n",
      "---  ------             --------------  -----  \n",
      " 0   vaccines           113 non-null    object \n",
      " 1   iso_code           113 non-null    object \n",
      " 2   country            113 non-null    object \n",
      " 3   people_vaccinated  113 non-null    float64\n",
      " 4   Population (2020)  113 non-null    float64\n",
      " 5   Net Change         113 non-null    float64\n",
      " 6   Density (P/Km²)    113 non-null    float64\n",
      " 7   Land Area (Km²)    113 non-null    float64\n",
      "dtypes: float64(5), object(3)\n",
      "memory usage: 7.9+ KB\n"
     ]
    }
   ],
   "source": [
    "# Before dropping rows, drop the Migrants (net) column since it includes\n",
    "# more missing data and dropping NaN values will cause loss of data\n",
    "\n",
    "del df['Migrants (net)']\n",
    "\n",
    "# Delete the Yearly Change, Fert. Rate, Med. Age, Urban Pop %, World Share columnssince they are not relevant\n",
    "\n",
    "del df[\"Yearly Change\"]\n",
    "del df[\"Fert. Rate\"]\n",
    "del df[\"Med. Age\"]\n",
    "del df[\"Urban Pop %\"]\n",
    "del df[\"World Share\"]\n",
    "\n",
    "# Drop NaN columns one more time to remove the rows for Guernsey and Jersey\n",
    "\n",
    "df_f = df.dropna()\n",
    "\n",
    "df_f.info()"
   ]
  },
  {
   "cell_type": "markdown",
   "id": "beautiful-debate",
   "metadata": {},
   "source": [
    "### Have a look at the final data frame"
   ]
  },
  {
   "cell_type": "code",
   "execution_count": 16,
   "id": "engaging-place",
   "metadata": {
    "scrolled": false
   },
   "outputs": [
    {
     "data": {
      "text/html": [
       "<div>\n",
       "<style scoped>\n",
       "    .dataframe tbody tr th:only-of-type {\n",
       "        vertical-align: middle;\n",
       "    }\n",
       "\n",
       "    .dataframe tbody tr th {\n",
       "        vertical-align: top;\n",
       "    }\n",
       "\n",
       "    .dataframe thead th {\n",
       "        text-align: right;\n",
       "    }\n",
       "</style>\n",
       "<table border=\"1\" class=\"dataframe\">\n",
       "  <thead>\n",
       "    <tr style=\"text-align: right;\">\n",
       "      <th></th>\n",
       "      <th>vaccines</th>\n",
       "      <th>iso_code</th>\n",
       "      <th>country</th>\n",
       "      <th>people_vaccinated</th>\n",
       "      <th>Population (2020)</th>\n",
       "      <th>Net Change</th>\n",
       "      <th>Density (P/Km²)</th>\n",
       "      <th>Land Area (Km²)</th>\n",
       "    </tr>\n",
       "  </thead>\n",
       "  <tbody>\n",
       "    <tr>\n",
       "      <th>0</th>\n",
       "      <td>Pfizer/BioNTech</td>\n",
       "      <td>ALB</td>\n",
       "      <td>Albania</td>\n",
       "      <td>6073.0</td>\n",
       "      <td>2877239.0</td>\n",
       "      <td>-3120.0</td>\n",
       "      <td>105.0</td>\n",
       "      <td>27400.0</td>\n",
       "    </tr>\n",
       "    <tr>\n",
       "      <th>1</th>\n",
       "      <td>Pfizer/BioNTech</td>\n",
       "      <td>AND</td>\n",
       "      <td>Andorra</td>\n",
       "      <td>3650.0</td>\n",
       "      <td>77287.0</td>\n",
       "      <td>123.0</td>\n",
       "      <td>164.0</td>\n",
       "      <td>470.0</td>\n",
       "    </tr>\n",
       "    <tr>\n",
       "      <th>2</th>\n",
       "      <td>Oxford/AstraZeneca</td>\n",
       "      <td>AGO</td>\n",
       "      <td>Angola</td>\n",
       "      <td>6169.0</td>\n",
       "      <td>33032075.0</td>\n",
       "      <td>1040977.0</td>\n",
       "      <td>26.0</td>\n",
       "      <td>1246700.0</td>\n",
       "    </tr>\n",
       "    <tr>\n",
       "      <th>3</th>\n",
       "      <td>Oxford/AstraZeneca</td>\n",
       "      <td>AIA</td>\n",
       "      <td>Anguilla</td>\n",
       "      <td>3929.0</td>\n",
       "      <td>15026.0</td>\n",
       "      <td>134.0</td>\n",
       "      <td>167.0</td>\n",
       "      <td>90.0</td>\n",
       "    </tr>\n",
       "    <tr>\n",
       "      <th>4</th>\n",
       "      <td>Oxford/AstraZeneca, Sinopharm/Beijing, Sputnik V</td>\n",
       "      <td>ARG</td>\n",
       "      <td>Argentina</td>\n",
       "      <td>1876113.0</td>\n",
       "      <td>45267449.0</td>\n",
       "      <td>415097.0</td>\n",
       "      <td>17.0</td>\n",
       "      <td>2736690.0</td>\n",
       "    </tr>\n",
       "  </tbody>\n",
       "</table>\n",
       "</div>"
      ],
      "text/plain": [
       "                                           vaccines iso_code    country  \\\n",
       "0                                   Pfizer/BioNTech      ALB    Albania   \n",
       "1                                   Pfizer/BioNTech      AND    Andorra   \n",
       "2                                Oxford/AstraZeneca      AGO     Angola   \n",
       "3                                Oxford/AstraZeneca      AIA   Anguilla   \n",
       "4  Oxford/AstraZeneca, Sinopharm/Beijing, Sputnik V      ARG  Argentina   \n",
       "\n",
       "   people_vaccinated  Population (2020)  Net Change  Density (P/Km²)  \\\n",
       "0             6073.0          2877239.0     -3120.0            105.0   \n",
       "1             3650.0            77287.0       123.0            164.0   \n",
       "2             6169.0         33032075.0   1040977.0             26.0   \n",
       "3             3929.0            15026.0       134.0            167.0   \n",
       "4          1876113.0         45267449.0    415097.0             17.0   \n",
       "\n",
       "   Land Area (Km²)  \n",
       "0          27400.0  \n",
       "1            470.0  \n",
       "2        1246700.0  \n",
       "3             90.0  \n",
       "4        2736690.0  "
      ]
     },
     "execution_count": 16,
     "metadata": {},
     "output_type": "execute_result"
    }
   ],
   "source": [
    "df_f = df_f.reset_index(drop=True)\n",
    "\n",
    "df_f.head()"
   ]
  },
  {
   "cell_type": "markdown",
   "id": "impaired-presence",
   "metadata": {},
   "source": [
    "## 4. Creating a Detailed Vaccine Data Frame"
   ]
  },
  {
   "cell_type": "markdown",
   "id": "unauthorized-florida",
   "metadata": {},
   "source": [
    "### Have a look at the vaccines column to see how many unique vaccine groups are present"
   ]
  },
  {
   "cell_type": "code",
   "execution_count": 17,
   "id": "supported-headquarters",
   "metadata": {},
   "outputs": [
    {
     "data": {
      "text/plain": [
       "array(['Pfizer/BioNTech', 'Oxford/AstraZeneca',\n",
       "       'Oxford/AstraZeneca, Sinopharm/Beijing, Sputnik V',\n",
       "       'Oxford/AstraZeneca, Pfizer/BioNTech',\n",
       "       'Moderna, Oxford/AstraZeneca, Pfizer/BioNTech', 'Sinovac',\n",
       "       'Oxford/AstraZeneca, Pfizer/BioNTech, Sinopharm/Beijing, Sputnik V',\n",
       "       'Sputnik V', 'Oxford/AstraZeneca, Sinovac', 'Sinopharm/Beijing',\n",
       "       'Moderna, Pfizer/BioNTech', 'Pfizer/BioNTech, Sinovac', 'Moderna',\n",
       "       'Moderna, Oxford/AstraZeneca, Pfizer/BioNTech, Sinopharm/Beijing, Sputnik V',\n",
       "       'Covaxin, Oxford/AstraZeneca',\n",
       "       'Pfizer/BioNTech, Sinopharm/Beijing',\n",
       "       'Pfizer/ BioNTech, Sinopharm/Beijing',\n",
       "       'Oxford/AstraZeneca, Pfizer/BioNTech, Sputnik V',\n",
       "       'Sinopharm/Beijing, Sputnik V',\n",
       "       'Oxford/AstraZeneca, Sinopharm/Beijing', 'EpiVacCorona, Sputnik V',\n",
       "       'Johnson&Johnson',\n",
       "       'Oxford/AstraZeneca, Pfizer/BioNTech, Sinopharm/Beijing, Sinopharm/Wuhan, Sputnik V',\n",
       "       'Johnson&Johnson, Moderna, Pfizer/BioNTech'], dtype=object)"
      ]
     },
     "execution_count": 17,
     "metadata": {},
     "output_type": "execute_result"
    }
   ],
   "source": [
    "df_f['vaccines'].unique()"
   ]
  },
  {
   "cell_type": "markdown",
   "id": "sonic-honduras",
   "metadata": {},
   "source": [
    "### Create boolean columns for all vaccines and concatenate them in one data frame"
   ]
  },
  {
   "cell_type": "code",
   "execution_count": 18,
   "id": "assisted-holder",
   "metadata": {},
   "outputs": [
    {
     "data": {
      "text/html": [
       "<div>\n",
       "<style scoped>\n",
       "    .dataframe tbody tr th:only-of-type {\n",
       "        vertical-align: middle;\n",
       "    }\n",
       "\n",
       "    .dataframe tbody tr th {\n",
       "        vertical-align: top;\n",
       "    }\n",
       "\n",
       "    .dataframe thead th {\n",
       "        text-align: right;\n",
       "    }\n",
       "</style>\n",
       "<table border=\"1\" class=\"dataframe\">\n",
       "  <thead>\n",
       "    <tr style=\"text-align: right;\">\n",
       "      <th></th>\n",
       "      <th>Pfizer/BioNTech</th>\n",
       "      <th>Sputnik V</th>\n",
       "      <th>Oxford/AstraZeneca</th>\n",
       "      <th>Sinopharm/Beijing</th>\n",
       "      <th>Moderna</th>\n",
       "      <th>Sinovac</th>\n",
       "      <th>Covaxin</th>\n",
       "      <th>EpiVacCorona</th>\n",
       "      <th>Sinopharm/Wuhan</th>\n",
       "    </tr>\n",
       "  </thead>\n",
       "  <tbody>\n",
       "    <tr>\n",
       "      <th>0</th>\n",
       "      <td>1</td>\n",
       "      <td>0</td>\n",
       "      <td>0</td>\n",
       "      <td>0</td>\n",
       "      <td>0</td>\n",
       "      <td>0</td>\n",
       "      <td>0</td>\n",
       "      <td>0</td>\n",
       "      <td>0</td>\n",
       "    </tr>\n",
       "    <tr>\n",
       "      <th>1</th>\n",
       "      <td>1</td>\n",
       "      <td>0</td>\n",
       "      <td>0</td>\n",
       "      <td>0</td>\n",
       "      <td>0</td>\n",
       "      <td>0</td>\n",
       "      <td>0</td>\n",
       "      <td>0</td>\n",
       "      <td>0</td>\n",
       "    </tr>\n",
       "    <tr>\n",
       "      <th>2</th>\n",
       "      <td>0</td>\n",
       "      <td>0</td>\n",
       "      <td>1</td>\n",
       "      <td>0</td>\n",
       "      <td>0</td>\n",
       "      <td>0</td>\n",
       "      <td>0</td>\n",
       "      <td>0</td>\n",
       "      <td>0</td>\n",
       "    </tr>\n",
       "    <tr>\n",
       "      <th>3</th>\n",
       "      <td>0</td>\n",
       "      <td>0</td>\n",
       "      <td>1</td>\n",
       "      <td>0</td>\n",
       "      <td>0</td>\n",
       "      <td>0</td>\n",
       "      <td>0</td>\n",
       "      <td>0</td>\n",
       "      <td>0</td>\n",
       "    </tr>\n",
       "    <tr>\n",
       "      <th>4</th>\n",
       "      <td>0</td>\n",
       "      <td>1</td>\n",
       "      <td>1</td>\n",
       "      <td>1</td>\n",
       "      <td>0</td>\n",
       "      <td>0</td>\n",
       "      <td>0</td>\n",
       "      <td>0</td>\n",
       "      <td>0</td>\n",
       "    </tr>\n",
       "  </tbody>\n",
       "</table>\n",
       "</div>"
      ],
      "text/plain": [
       "   Pfizer/BioNTech  Sputnik V  Oxford/AstraZeneca  Sinopharm/Beijing  Moderna  \\\n",
       "0                1          0                   0                  0        0   \n",
       "1                1          0                   0                  0        0   \n",
       "2                0          0                   1                  0        0   \n",
       "3                0          0                   1                  0        0   \n",
       "4                0          1                   1                  1        0   \n",
       "\n",
       "   Sinovac  Covaxin  EpiVacCorona  Sinopharm/Wuhan  \n",
       "0        0        0             0                0  \n",
       "1        0        0             0                0  \n",
       "2        0        0             0                0  \n",
       "3        0        0             0                0  \n",
       "4        0        0             0                0  "
      ]
     },
     "execution_count": 18,
     "metadata": {},
     "output_type": "execute_result"
    }
   ],
   "source": [
    "boo1 = df_f['vaccines'].str.contains('Pfizer/BioNTech')\n",
    "df_boo1 = pd.DataFrame(boo1).reset_index(drop=True)\n",
    "df_boo1.rename(columns={'vaccines': 'Pfizer/BioNTech'}, inplace=True)\n",
    "\n",
    "boo2 = df_f['vaccines'].str.contains('Sputnik V')\n",
    "df_boo2 = pd.DataFrame(boo2).reset_index(drop=True)\n",
    "df_boo2.rename(columns={'vaccines': 'Sputnik V'}, inplace=True)\n",
    "\n",
    "boo3 = df_f['vaccines'].str.contains('Oxford/AstraZeneca')\n",
    "df_boo3 = pd.DataFrame(boo3).reset_index(drop=True)\n",
    "df_boo3.rename(columns={'vaccines': 'Oxford/AstraZeneca'}, inplace=True)\n",
    "\n",
    "boo4 = df_f['vaccines'].str.contains('Sinopharm/Beijing')\n",
    "df_boo4 = pd.DataFrame(boo4).reset_index(drop=True)\n",
    "df_boo4.rename(columns={'vaccines': 'Sinopharm/Beijing'}, inplace=True)\n",
    "\n",
    "boo5 = df_f['vaccines'].str.contains('Moderna')\n",
    "df_boo5 = pd.DataFrame(boo5).reset_index(drop=True)\n",
    "df_boo5.rename(columns={'vaccines': 'Moderna'}, inplace=True)\n",
    "\n",
    "boo6 = df_f['vaccines'].str.contains('Sinovac')\n",
    "df_boo6 = pd.DataFrame(boo6).reset_index(drop=True)\n",
    "df_boo6.rename(columns={'vaccines': 'Sinovac'}, inplace=True)\n",
    "\n",
    "boo7 = df_f['vaccines'].str.contains('Covaxin')\n",
    "df_boo7 = pd.DataFrame(boo7).reset_index(drop=True)\n",
    "df_boo7.rename(columns={'vaccines': 'Covaxin'}, inplace=True)\n",
    "\n",
    "boo8 = df_f['vaccines'].str.contains('EpiVacCorona')\n",
    "df_boo8 = pd.DataFrame(boo8).reset_index(drop=True)\n",
    "df_boo8.rename(columns={'vaccines': 'EpiVacCorona'}, inplace=True)\n",
    "\n",
    "boo9 = df_f['vaccines'].str.contains('Sinopharm/Wuhan')\n",
    "df_boo9 = pd.DataFrame(boo9).reset_index(drop=True)\n",
    "df_boo9.rename(columns={'vaccines': 'Sinopharm/Wuhan'}, inplace=True)\n",
    "\n",
    "result = pd.concat([df_boo1, df_boo2, df_boo3, df_boo4, df_boo5, df_boo6, df_boo7, df_boo8, df_boo9], axis=1)\n",
    "\n",
    "result = result.astype(int)\n",
    "\n",
    "result.head()"
   ]
  },
  {
   "cell_type": "markdown",
   "id": "infectious-fighter",
   "metadata": {},
   "source": [
    "### Merge detailed vaccine data frame to the main data frame and delete the vaccines column, then add a column for the total number of different vaccines"
   ]
  },
  {
   "cell_type": "code",
   "execution_count": 19,
   "id": "intelligent-publisher",
   "metadata": {
    "scrolled": false
   },
   "outputs": [
    {
     "data": {
      "text/html": [
       "<div>\n",
       "<style scoped>\n",
       "    .dataframe tbody tr th:only-of-type {\n",
       "        vertical-align: middle;\n",
       "    }\n",
       "\n",
       "    .dataframe tbody tr th {\n",
       "        vertical-align: top;\n",
       "    }\n",
       "\n",
       "    .dataframe thead th {\n",
       "        text-align: right;\n",
       "    }\n",
       "</style>\n",
       "<table border=\"1\" class=\"dataframe\">\n",
       "  <thead>\n",
       "    <tr style=\"text-align: right;\">\n",
       "      <th></th>\n",
       "      <th>vaccines</th>\n",
       "      <th>iso_code</th>\n",
       "      <th>country</th>\n",
       "      <th>people_vaccinated</th>\n",
       "      <th>Population (2020)</th>\n",
       "      <th>Net Change</th>\n",
       "      <th>Density (P/Km²)</th>\n",
       "      <th>Land Area (Km²)</th>\n",
       "      <th>Pfizer/BioNTech</th>\n",
       "      <th>Sputnik V</th>\n",
       "      <th>Oxford/AstraZeneca</th>\n",
       "      <th>Sinopharm/Beijing</th>\n",
       "      <th>Moderna</th>\n",
       "      <th>Sinovac</th>\n",
       "      <th>Covaxin</th>\n",
       "      <th>EpiVacCorona</th>\n",
       "      <th>Sinopharm/Wuhan</th>\n",
       "      <th>Different Vaccines</th>\n",
       "    </tr>\n",
       "  </thead>\n",
       "  <tbody>\n",
       "    <tr>\n",
       "      <th>0</th>\n",
       "      <td>Pfizer/BioNTech</td>\n",
       "      <td>ALB</td>\n",
       "      <td>Albania</td>\n",
       "      <td>6073.0</td>\n",
       "      <td>2877239.0</td>\n",
       "      <td>-3120.0</td>\n",
       "      <td>105.0</td>\n",
       "      <td>27400.0</td>\n",
       "      <td>1</td>\n",
       "      <td>0</td>\n",
       "      <td>0</td>\n",
       "      <td>0</td>\n",
       "      <td>0</td>\n",
       "      <td>0</td>\n",
       "      <td>0</td>\n",
       "      <td>0</td>\n",
       "      <td>0</td>\n",
       "      <td>1</td>\n",
       "    </tr>\n",
       "    <tr>\n",
       "      <th>1</th>\n",
       "      <td>Pfizer/BioNTech</td>\n",
       "      <td>AND</td>\n",
       "      <td>Andorra</td>\n",
       "      <td>3650.0</td>\n",
       "      <td>77287.0</td>\n",
       "      <td>123.0</td>\n",
       "      <td>164.0</td>\n",
       "      <td>470.0</td>\n",
       "      <td>1</td>\n",
       "      <td>0</td>\n",
       "      <td>0</td>\n",
       "      <td>0</td>\n",
       "      <td>0</td>\n",
       "      <td>0</td>\n",
       "      <td>0</td>\n",
       "      <td>0</td>\n",
       "      <td>0</td>\n",
       "      <td>1</td>\n",
       "    </tr>\n",
       "    <tr>\n",
       "      <th>2</th>\n",
       "      <td>Oxford/AstraZeneca</td>\n",
       "      <td>AGO</td>\n",
       "      <td>Angola</td>\n",
       "      <td>6169.0</td>\n",
       "      <td>33032075.0</td>\n",
       "      <td>1040977.0</td>\n",
       "      <td>26.0</td>\n",
       "      <td>1246700.0</td>\n",
       "      <td>0</td>\n",
       "      <td>0</td>\n",
       "      <td>1</td>\n",
       "      <td>0</td>\n",
       "      <td>0</td>\n",
       "      <td>0</td>\n",
       "      <td>0</td>\n",
       "      <td>0</td>\n",
       "      <td>0</td>\n",
       "      <td>1</td>\n",
       "    </tr>\n",
       "    <tr>\n",
       "      <th>3</th>\n",
       "      <td>Oxford/AstraZeneca</td>\n",
       "      <td>AIA</td>\n",
       "      <td>Anguilla</td>\n",
       "      <td>3929.0</td>\n",
       "      <td>15026.0</td>\n",
       "      <td>134.0</td>\n",
       "      <td>167.0</td>\n",
       "      <td>90.0</td>\n",
       "      <td>0</td>\n",
       "      <td>0</td>\n",
       "      <td>1</td>\n",
       "      <td>0</td>\n",
       "      <td>0</td>\n",
       "      <td>0</td>\n",
       "      <td>0</td>\n",
       "      <td>0</td>\n",
       "      <td>0</td>\n",
       "      <td>1</td>\n",
       "    </tr>\n",
       "    <tr>\n",
       "      <th>4</th>\n",
       "      <td>Oxford/AstraZeneca, Sinopharm/Beijing, Sputnik V</td>\n",
       "      <td>ARG</td>\n",
       "      <td>Argentina</td>\n",
       "      <td>1876113.0</td>\n",
       "      <td>45267449.0</td>\n",
       "      <td>415097.0</td>\n",
       "      <td>17.0</td>\n",
       "      <td>2736690.0</td>\n",
       "      <td>0</td>\n",
       "      <td>1</td>\n",
       "      <td>1</td>\n",
       "      <td>1</td>\n",
       "      <td>0</td>\n",
       "      <td>0</td>\n",
       "      <td>0</td>\n",
       "      <td>0</td>\n",
       "      <td>0</td>\n",
       "      <td>3</td>\n",
       "    </tr>\n",
       "  </tbody>\n",
       "</table>\n",
       "</div>"
      ],
      "text/plain": [
       "                                           vaccines iso_code    country  \\\n",
       "0                                   Pfizer/BioNTech      ALB    Albania   \n",
       "1                                   Pfizer/BioNTech      AND    Andorra   \n",
       "2                                Oxford/AstraZeneca      AGO     Angola   \n",
       "3                                Oxford/AstraZeneca      AIA   Anguilla   \n",
       "4  Oxford/AstraZeneca, Sinopharm/Beijing, Sputnik V      ARG  Argentina   \n",
       "\n",
       "   people_vaccinated  Population (2020)  Net Change  Density (P/Km²)  \\\n",
       "0             6073.0          2877239.0     -3120.0            105.0   \n",
       "1             3650.0            77287.0       123.0            164.0   \n",
       "2             6169.0         33032075.0   1040977.0             26.0   \n",
       "3             3929.0            15026.0       134.0            167.0   \n",
       "4          1876113.0         45267449.0    415097.0             17.0   \n",
       "\n",
       "   Land Area (Km²)  Pfizer/BioNTech  Sputnik V  Oxford/AstraZeneca  \\\n",
       "0          27400.0                1          0                   0   \n",
       "1            470.0                1          0                   0   \n",
       "2        1246700.0                0          0                   1   \n",
       "3             90.0                0          0                   1   \n",
       "4        2736690.0                0          1                   1   \n",
       "\n",
       "   Sinopharm/Beijing  Moderna  Sinovac  Covaxin  EpiVacCorona  \\\n",
       "0                  0        0        0        0             0   \n",
       "1                  0        0        0        0             0   \n",
       "2                  0        0        0        0             0   \n",
       "3                  0        0        0        0             0   \n",
       "4                  1        0        0        0             0   \n",
       "\n",
       "   Sinopharm/Wuhan  Different Vaccines  \n",
       "0                0                   1  \n",
       "1                0                   1  \n",
       "2                0                   1  \n",
       "3                0                   1  \n",
       "4                0                   3  "
      ]
     },
     "execution_count": 19,
     "metadata": {},
     "output_type": "execute_result"
    }
   ],
   "source": [
    "df_f = pd.concat([df_f, result], axis=1)\n",
    "\n",
    "df_f['Different Vaccines'] = df_f['Pfizer/BioNTech'] + df_f['Sputnik V']+ df_f['Oxford/AstraZeneca']+ df_f['Sinopharm/Beijing']+ df_f['Moderna']+ df_f['Sinovac']+ df_f['Covaxin']+ df_f['EpiVacCorona']+ df_f['Sinopharm/Wuhan']\n",
    "\n",
    "df_f.head()"
   ]
  },
  {
   "cell_type": "markdown",
   "id": "exciting-chuck",
   "metadata": {},
   "source": [
    "Now we have our final data frame with no missing values, so we can start visualizing the data."
   ]
  },
  {
   "cell_type": "markdown",
   "id": "atomic-detection",
   "metadata": {},
   "source": [
    "## 5. Data Visualisation"
   ]
  },
  {
   "cell_type": "markdown",
   "id": "italic-student",
   "metadata": {},
   "source": [
    "### Which vaccine is most commonly used around the world?"
   ]
  },
  {
   "cell_type": "code",
   "execution_count": 20,
   "id": "given-immunology",
   "metadata": {
    "scrolled": false
   },
   "outputs": [
    {
     "data": {
      "application/vnd.plotly.v1+json": {
       "config": {
        "plotlyServerURL": "https://plot.ly"
       },
       "data": [
        {
         "alignmentgroup": "True",
         "hovertemplate": "<b>%{hovertext}</b><br><br>Vaccine=%{x}<br># of Countries Using=%{marker.color}<extra></extra>",
         "hovertext": [
          "Pfizer/BioNTech",
          "Oxford/AstraZeneca",
          "Moderna",
          "Sputnik V",
          "Sinopharm/Beijing",
          "Sinovac",
          "Covaxin",
          "EpiVacCorona",
          "Sinopharm/Wuhan"
         ],
         "legendgroup": "",
         "marker": {
          "color": [
           65,
           61,
           31,
           16,
           15,
           9,
           1,
           1,
           1
          ],
          "coloraxis": "coloraxis"
         },
         "name": "",
         "offsetgroup": "",
         "orientation": "v",
         "showlegend": false,
         "text": [
          65,
          61,
          31,
          16,
          15,
          9,
          1,
          1,
          1
         ],
         "textposition": "outside",
         "texttemplate": "%{text:.2s}",
         "type": "bar",
         "x": [
          "Pfizer/BioNTech",
          "Oxford/AstraZeneca",
          "Moderna",
          "Sputnik V",
          "Sinopharm/Beijing",
          "Sinovac",
          "Covaxin",
          "EpiVacCorona",
          "Sinopharm/Wuhan"
         ],
         "xaxis": "x",
         "y": [
          65,
          61,
          31,
          16,
          15,
          9,
          1,
          1,
          1
         ],
         "yaxis": "y"
        }
       ],
       "layout": {
        "barmode": "relative",
        "coloraxis": {
         "colorbar": {
          "title": {
           "text": "# of Countries Using"
          }
         },
         "colorscale": [
          [
           0,
           "rgb(243, 203, 211)"
          ],
          [
           0.16666666666666666,
           "rgb(234, 169, 189)"
          ],
          [
           0.3333333333333333,
           "rgb(221, 136, 172)"
          ],
          [
           0.5,
           "rgb(202, 105, 157)"
          ],
          [
           0.6666666666666666,
           "rgb(177, 77, 142)"
          ],
          [
           0.8333333333333334,
           "rgb(145, 53, 125)"
          ],
          [
           1,
           "rgb(108, 33, 103)"
          ]
         ],
         "showscale": false
        },
        "height": 500,
        "legend": {
         "tracegroupgap": 0
        },
        "margin": {
         "t": 60
        },
        "paper_bgcolor": "rgba(0, 0, 0, 0)",
        "plot_bgcolor": "rgba(0, 0, 0, 0)",
        "showlegend": false,
        "template": {
         "data": {
          "bar": [
           {
            "error_x": {
             "color": "#2a3f5f"
            },
            "error_y": {
             "color": "#2a3f5f"
            },
            "marker": {
             "line": {
              "color": "#E5ECF6",
              "width": 0.5
             }
            },
            "type": "bar"
           }
          ],
          "barpolar": [
           {
            "marker": {
             "line": {
              "color": "#E5ECF6",
              "width": 0.5
             }
            },
            "type": "barpolar"
           }
          ],
          "carpet": [
           {
            "aaxis": {
             "endlinecolor": "#2a3f5f",
             "gridcolor": "white",
             "linecolor": "white",
             "minorgridcolor": "white",
             "startlinecolor": "#2a3f5f"
            },
            "baxis": {
             "endlinecolor": "#2a3f5f",
             "gridcolor": "white",
             "linecolor": "white",
             "minorgridcolor": "white",
             "startlinecolor": "#2a3f5f"
            },
            "type": "carpet"
           }
          ],
          "choropleth": [
           {
            "colorbar": {
             "outlinewidth": 0,
             "ticks": ""
            },
            "type": "choropleth"
           }
          ],
          "contour": [
           {
            "colorbar": {
             "outlinewidth": 0,
             "ticks": ""
            },
            "colorscale": [
             [
              0,
              "#0d0887"
             ],
             [
              0.1111111111111111,
              "#46039f"
             ],
             [
              0.2222222222222222,
              "#7201a8"
             ],
             [
              0.3333333333333333,
              "#9c179e"
             ],
             [
              0.4444444444444444,
              "#bd3786"
             ],
             [
              0.5555555555555556,
              "#d8576b"
             ],
             [
              0.6666666666666666,
              "#ed7953"
             ],
             [
              0.7777777777777778,
              "#fb9f3a"
             ],
             [
              0.8888888888888888,
              "#fdca26"
             ],
             [
              1,
              "#f0f921"
             ]
            ],
            "type": "contour"
           }
          ],
          "contourcarpet": [
           {
            "colorbar": {
             "outlinewidth": 0,
             "ticks": ""
            },
            "type": "contourcarpet"
           }
          ],
          "heatmap": [
           {
            "colorbar": {
             "outlinewidth": 0,
             "ticks": ""
            },
            "colorscale": [
             [
              0,
              "#0d0887"
             ],
             [
              0.1111111111111111,
              "#46039f"
             ],
             [
              0.2222222222222222,
              "#7201a8"
             ],
             [
              0.3333333333333333,
              "#9c179e"
             ],
             [
              0.4444444444444444,
              "#bd3786"
             ],
             [
              0.5555555555555556,
              "#d8576b"
             ],
             [
              0.6666666666666666,
              "#ed7953"
             ],
             [
              0.7777777777777778,
              "#fb9f3a"
             ],
             [
              0.8888888888888888,
              "#fdca26"
             ],
             [
              1,
              "#f0f921"
             ]
            ],
            "type": "heatmap"
           }
          ],
          "heatmapgl": [
           {
            "colorbar": {
             "outlinewidth": 0,
             "ticks": ""
            },
            "colorscale": [
             [
              0,
              "#0d0887"
             ],
             [
              0.1111111111111111,
              "#46039f"
             ],
             [
              0.2222222222222222,
              "#7201a8"
             ],
             [
              0.3333333333333333,
              "#9c179e"
             ],
             [
              0.4444444444444444,
              "#bd3786"
             ],
             [
              0.5555555555555556,
              "#d8576b"
             ],
             [
              0.6666666666666666,
              "#ed7953"
             ],
             [
              0.7777777777777778,
              "#fb9f3a"
             ],
             [
              0.8888888888888888,
              "#fdca26"
             ],
             [
              1,
              "#f0f921"
             ]
            ],
            "type": "heatmapgl"
           }
          ],
          "histogram": [
           {
            "marker": {
             "colorbar": {
              "outlinewidth": 0,
              "ticks": ""
             }
            },
            "type": "histogram"
           }
          ],
          "histogram2d": [
           {
            "colorbar": {
             "outlinewidth": 0,
             "ticks": ""
            },
            "colorscale": [
             [
              0,
              "#0d0887"
             ],
             [
              0.1111111111111111,
              "#46039f"
             ],
             [
              0.2222222222222222,
              "#7201a8"
             ],
             [
              0.3333333333333333,
              "#9c179e"
             ],
             [
              0.4444444444444444,
              "#bd3786"
             ],
             [
              0.5555555555555556,
              "#d8576b"
             ],
             [
              0.6666666666666666,
              "#ed7953"
             ],
             [
              0.7777777777777778,
              "#fb9f3a"
             ],
             [
              0.8888888888888888,
              "#fdca26"
             ],
             [
              1,
              "#f0f921"
             ]
            ],
            "type": "histogram2d"
           }
          ],
          "histogram2dcontour": [
           {
            "colorbar": {
             "outlinewidth": 0,
             "ticks": ""
            },
            "colorscale": [
             [
              0,
              "#0d0887"
             ],
             [
              0.1111111111111111,
              "#46039f"
             ],
             [
              0.2222222222222222,
              "#7201a8"
             ],
             [
              0.3333333333333333,
              "#9c179e"
             ],
             [
              0.4444444444444444,
              "#bd3786"
             ],
             [
              0.5555555555555556,
              "#d8576b"
             ],
             [
              0.6666666666666666,
              "#ed7953"
             ],
             [
              0.7777777777777778,
              "#fb9f3a"
             ],
             [
              0.8888888888888888,
              "#fdca26"
             ],
             [
              1,
              "#f0f921"
             ]
            ],
            "type": "histogram2dcontour"
           }
          ],
          "mesh3d": [
           {
            "colorbar": {
             "outlinewidth": 0,
             "ticks": ""
            },
            "type": "mesh3d"
           }
          ],
          "parcoords": [
           {
            "line": {
             "colorbar": {
              "outlinewidth": 0,
              "ticks": ""
             }
            },
            "type": "parcoords"
           }
          ],
          "pie": [
           {
            "automargin": true,
            "type": "pie"
           }
          ],
          "scatter": [
           {
            "marker": {
             "colorbar": {
              "outlinewidth": 0,
              "ticks": ""
             }
            },
            "type": "scatter"
           }
          ],
          "scatter3d": [
           {
            "line": {
             "colorbar": {
              "outlinewidth": 0,
              "ticks": ""
             }
            },
            "marker": {
             "colorbar": {
              "outlinewidth": 0,
              "ticks": ""
             }
            },
            "type": "scatter3d"
           }
          ],
          "scattercarpet": [
           {
            "marker": {
             "colorbar": {
              "outlinewidth": 0,
              "ticks": ""
             }
            },
            "type": "scattercarpet"
           }
          ],
          "scattergeo": [
           {
            "marker": {
             "colorbar": {
              "outlinewidth": 0,
              "ticks": ""
             }
            },
            "type": "scattergeo"
           }
          ],
          "scattergl": [
           {
            "marker": {
             "colorbar": {
              "outlinewidth": 0,
              "ticks": ""
             }
            },
            "type": "scattergl"
           }
          ],
          "scattermapbox": [
           {
            "marker": {
             "colorbar": {
              "outlinewidth": 0,
              "ticks": ""
             }
            },
            "type": "scattermapbox"
           }
          ],
          "scatterpolar": [
           {
            "marker": {
             "colorbar": {
              "outlinewidth": 0,
              "ticks": ""
             }
            },
            "type": "scatterpolar"
           }
          ],
          "scatterpolargl": [
           {
            "marker": {
             "colorbar": {
              "outlinewidth": 0,
              "ticks": ""
             }
            },
            "type": "scatterpolargl"
           }
          ],
          "scatterternary": [
           {
            "marker": {
             "colorbar": {
              "outlinewidth": 0,
              "ticks": ""
             }
            },
            "type": "scatterternary"
           }
          ],
          "surface": [
           {
            "colorbar": {
             "outlinewidth": 0,
             "ticks": ""
            },
            "colorscale": [
             [
              0,
              "#0d0887"
             ],
             [
              0.1111111111111111,
              "#46039f"
             ],
             [
              0.2222222222222222,
              "#7201a8"
             ],
             [
              0.3333333333333333,
              "#9c179e"
             ],
             [
              0.4444444444444444,
              "#bd3786"
             ],
             [
              0.5555555555555556,
              "#d8576b"
             ],
             [
              0.6666666666666666,
              "#ed7953"
             ],
             [
              0.7777777777777778,
              "#fb9f3a"
             ],
             [
              0.8888888888888888,
              "#fdca26"
             ],
             [
              1,
              "#f0f921"
             ]
            ],
            "type": "surface"
           }
          ],
          "table": [
           {
            "cells": {
             "fill": {
              "color": "#EBF0F8"
             },
             "line": {
              "color": "white"
             }
            },
            "header": {
             "fill": {
              "color": "#C8D4E3"
             },
             "line": {
              "color": "white"
             }
            },
            "type": "table"
           }
          ]
         },
         "layout": {
          "annotationdefaults": {
           "arrowcolor": "#2a3f5f",
           "arrowhead": 0,
           "arrowwidth": 1
          },
          "autotypenumbers": "strict",
          "coloraxis": {
           "colorbar": {
            "outlinewidth": 0,
            "ticks": ""
           }
          },
          "colorscale": {
           "diverging": [
            [
             0,
             "#8e0152"
            ],
            [
             0.1,
             "#c51b7d"
            ],
            [
             0.2,
             "#de77ae"
            ],
            [
             0.3,
             "#f1b6da"
            ],
            [
             0.4,
             "#fde0ef"
            ],
            [
             0.5,
             "#f7f7f7"
            ],
            [
             0.6,
             "#e6f5d0"
            ],
            [
             0.7,
             "#b8e186"
            ],
            [
             0.8,
             "#7fbc41"
            ],
            [
             0.9,
             "#4d9221"
            ],
            [
             1,
             "#276419"
            ]
           ],
           "sequential": [
            [
             0,
             "#0d0887"
            ],
            [
             0.1111111111111111,
             "#46039f"
            ],
            [
             0.2222222222222222,
             "#7201a8"
            ],
            [
             0.3333333333333333,
             "#9c179e"
            ],
            [
             0.4444444444444444,
             "#bd3786"
            ],
            [
             0.5555555555555556,
             "#d8576b"
            ],
            [
             0.6666666666666666,
             "#ed7953"
            ],
            [
             0.7777777777777778,
             "#fb9f3a"
            ],
            [
             0.8888888888888888,
             "#fdca26"
            ],
            [
             1,
             "#f0f921"
            ]
           ],
           "sequentialminus": [
            [
             0,
             "#0d0887"
            ],
            [
             0.1111111111111111,
             "#46039f"
            ],
            [
             0.2222222222222222,
             "#7201a8"
            ],
            [
             0.3333333333333333,
             "#9c179e"
            ],
            [
             0.4444444444444444,
             "#bd3786"
            ],
            [
             0.5555555555555556,
             "#d8576b"
            ],
            [
             0.6666666666666666,
             "#ed7953"
            ],
            [
             0.7777777777777778,
             "#fb9f3a"
            ],
            [
             0.8888888888888888,
             "#fdca26"
            ],
            [
             1,
             "#f0f921"
            ]
           ]
          },
          "colorway": [
           "#636efa",
           "#EF553B",
           "#00cc96",
           "#ab63fa",
           "#FFA15A",
           "#19d3f3",
           "#FF6692",
           "#B6E880",
           "#FF97FF",
           "#FECB52"
          ],
          "font": {
           "color": "#2a3f5f"
          },
          "geo": {
           "bgcolor": "white",
           "lakecolor": "white",
           "landcolor": "#E5ECF6",
           "showlakes": true,
           "showland": true,
           "subunitcolor": "white"
          },
          "hoverlabel": {
           "align": "left"
          },
          "hovermode": "closest",
          "mapbox": {
           "style": "light"
          },
          "paper_bgcolor": "white",
          "plot_bgcolor": "#E5ECF6",
          "polar": {
           "angularaxis": {
            "gridcolor": "white",
            "linecolor": "white",
            "ticks": ""
           },
           "bgcolor": "#E5ECF6",
           "radialaxis": {
            "gridcolor": "white",
            "linecolor": "white",
            "ticks": ""
           }
          },
          "scene": {
           "xaxis": {
            "backgroundcolor": "#E5ECF6",
            "gridcolor": "white",
            "gridwidth": 2,
            "linecolor": "white",
            "showbackground": true,
            "ticks": "",
            "zerolinecolor": "white"
           },
           "yaxis": {
            "backgroundcolor": "#E5ECF6",
            "gridcolor": "white",
            "gridwidth": 2,
            "linecolor": "white",
            "showbackground": true,
            "ticks": "",
            "zerolinecolor": "white"
           },
           "zaxis": {
            "backgroundcolor": "#E5ECF6",
            "gridcolor": "white",
            "gridwidth": 2,
            "linecolor": "white",
            "showbackground": true,
            "ticks": "",
            "zerolinecolor": "white"
           }
          },
          "shapedefaults": {
           "line": {
            "color": "#2a3f5f"
           }
          },
          "ternary": {
           "aaxis": {
            "gridcolor": "white",
            "linecolor": "white",
            "ticks": ""
           },
           "baxis": {
            "gridcolor": "white",
            "linecolor": "white",
            "ticks": ""
           },
           "bgcolor": "#E5ECF6",
           "caxis": {
            "gridcolor": "white",
            "linecolor": "white",
            "ticks": ""
           }
          },
          "title": {
           "x": 0.05
          },
          "xaxis": {
           "automargin": true,
           "gridcolor": "white",
           "linecolor": "white",
           "ticks": "",
           "title": {
            "standoff": 15
           },
           "zerolinecolor": "white",
           "zerolinewidth": 2
          },
          "yaxis": {
           "automargin": true,
           "gridcolor": "white",
           "linecolor": "white",
           "ticks": "",
           "title": {
            "standoff": 15
           },
           "zerolinecolor": "white",
           "zerolinewidth": 2
          }
         }
        },
        "title": {
         "text": "Usage of Vaccines by Countries",
         "x": 0.5
        },
        "uniformtext": {
         "minsize": 8,
         "mode": "hide"
        },
        "xaxis": {
         "anchor": "y",
         "domain": [
          0,
          1
         ],
         "tickangle": -45,
         "title": {
          "text": "Vaccine"
         }
        },
        "yaxis": {
         "anchor": "x",
         "domain": [
          0,
          1
         ],
         "title": {
          "text": "# of Countries Using"
         }
        }
       }
      },
      "text/html": [
       "<div>                            <div id=\"dc3bcaaa-fddd-484f-af23-0b9ebf7b2c0c\" class=\"plotly-graph-div\" style=\"height:500px; width:100%;\"></div>            <script type=\"text/javascript\">                require([\"plotly\"], function(Plotly) {                    window.PLOTLYENV=window.PLOTLYENV || {};                                    if (document.getElementById(\"dc3bcaaa-fddd-484f-af23-0b9ebf7b2c0c\")) {                    Plotly.newPlot(                        \"dc3bcaaa-fddd-484f-af23-0b9ebf7b2c0c\",                        [{\"alignmentgroup\": \"True\", \"hovertemplate\": \"<b>%{hovertext}</b><br><br>Vaccine=%{x}<br># of Countries Using=%{marker.color}<extra></extra>\", \"hovertext\": [\"Pfizer/BioNTech\", \"Oxford/AstraZeneca\", \"Moderna\", \"Sputnik V\", \"Sinopharm/Beijing\", \"Sinovac\", \"Covaxin\", \"EpiVacCorona\", \"Sinopharm/Wuhan\"], \"legendgroup\": \"\", \"marker\": {\"color\": [65, 61, 31, 16, 15, 9, 1, 1, 1], \"coloraxis\": \"coloraxis\"}, \"name\": \"\", \"offsetgroup\": \"\", \"orientation\": \"v\", \"showlegend\": false, \"text\": [65.0, 61.0, 31.0, 16.0, 15.0, 9.0, 1.0, 1.0, 1.0], \"textposition\": \"outside\", \"texttemplate\": \"%{text:.2s}\", \"type\": \"bar\", \"x\": [\"Pfizer/BioNTech\", \"Oxford/AstraZeneca\", \"Moderna\", \"Sputnik V\", \"Sinopharm/Beijing\", \"Sinovac\", \"Covaxin\", \"EpiVacCorona\", \"Sinopharm/Wuhan\"], \"xaxis\": \"x\", \"y\": [65, 61, 31, 16, 15, 9, 1, 1, 1], \"yaxis\": \"y\"}],                        {\"barmode\": \"relative\", \"coloraxis\": {\"colorbar\": {\"title\": {\"text\": \"# of Countries Using\"}}, \"colorscale\": [[0.0, \"rgb(243, 203, 211)\"], [0.16666666666666666, \"rgb(234, 169, 189)\"], [0.3333333333333333, \"rgb(221, 136, 172)\"], [0.5, \"rgb(202, 105, 157)\"], [0.6666666666666666, \"rgb(177, 77, 142)\"], [0.8333333333333334, \"rgb(145, 53, 125)\"], [1.0, \"rgb(108, 33, 103)\"]], \"showscale\": false}, \"height\": 500, \"legend\": {\"tracegroupgap\": 0}, \"margin\": {\"t\": 60}, \"paper_bgcolor\": \"rgba(0, 0, 0, 0)\", \"plot_bgcolor\": \"rgba(0, 0, 0, 0)\", \"showlegend\": false, \"template\": {\"data\": {\"bar\": [{\"error_x\": {\"color\": \"#2a3f5f\"}, \"error_y\": {\"color\": \"#2a3f5f\"}, \"marker\": {\"line\": {\"color\": \"#E5ECF6\", \"width\": 0.5}}, \"type\": \"bar\"}], \"barpolar\": [{\"marker\": {\"line\": {\"color\": \"#E5ECF6\", \"width\": 0.5}}, \"type\": \"barpolar\"}], \"carpet\": [{\"aaxis\": {\"endlinecolor\": \"#2a3f5f\", \"gridcolor\": \"white\", \"linecolor\": \"white\", \"minorgridcolor\": \"white\", \"startlinecolor\": \"#2a3f5f\"}, \"baxis\": {\"endlinecolor\": \"#2a3f5f\", \"gridcolor\": \"white\", \"linecolor\": \"white\", \"minorgridcolor\": \"white\", \"startlinecolor\": \"#2a3f5f\"}, \"type\": \"carpet\"}], \"choropleth\": [{\"colorbar\": {\"outlinewidth\": 0, \"ticks\": \"\"}, \"type\": \"choropleth\"}], \"contour\": [{\"colorbar\": {\"outlinewidth\": 0, \"ticks\": \"\"}, \"colorscale\": [[0.0, \"#0d0887\"], [0.1111111111111111, \"#46039f\"], [0.2222222222222222, \"#7201a8\"], [0.3333333333333333, \"#9c179e\"], [0.4444444444444444, \"#bd3786\"], [0.5555555555555556, \"#d8576b\"], [0.6666666666666666, \"#ed7953\"], [0.7777777777777778, \"#fb9f3a\"], [0.8888888888888888, \"#fdca26\"], [1.0, \"#f0f921\"]], \"type\": \"contour\"}], \"contourcarpet\": [{\"colorbar\": {\"outlinewidth\": 0, \"ticks\": \"\"}, \"type\": \"contourcarpet\"}], \"heatmap\": [{\"colorbar\": {\"outlinewidth\": 0, \"ticks\": \"\"}, \"colorscale\": [[0.0, \"#0d0887\"], [0.1111111111111111, \"#46039f\"], [0.2222222222222222, \"#7201a8\"], [0.3333333333333333, \"#9c179e\"], [0.4444444444444444, \"#bd3786\"], [0.5555555555555556, \"#d8576b\"], [0.6666666666666666, \"#ed7953\"], [0.7777777777777778, \"#fb9f3a\"], [0.8888888888888888, \"#fdca26\"], [1.0, \"#f0f921\"]], \"type\": \"heatmap\"}], \"heatmapgl\": [{\"colorbar\": {\"outlinewidth\": 0, \"ticks\": \"\"}, \"colorscale\": [[0.0, \"#0d0887\"], [0.1111111111111111, \"#46039f\"], [0.2222222222222222, \"#7201a8\"], [0.3333333333333333, \"#9c179e\"], [0.4444444444444444, \"#bd3786\"], [0.5555555555555556, \"#d8576b\"], [0.6666666666666666, \"#ed7953\"], [0.7777777777777778, \"#fb9f3a\"], [0.8888888888888888, \"#fdca26\"], [1.0, \"#f0f921\"]], \"type\": \"heatmapgl\"}], \"histogram\": [{\"marker\": {\"colorbar\": {\"outlinewidth\": 0, \"ticks\": \"\"}}, \"type\": \"histogram\"}], \"histogram2d\": [{\"colorbar\": {\"outlinewidth\": 0, \"ticks\": \"\"}, \"colorscale\": [[0.0, \"#0d0887\"], [0.1111111111111111, \"#46039f\"], [0.2222222222222222, \"#7201a8\"], [0.3333333333333333, \"#9c179e\"], [0.4444444444444444, \"#bd3786\"], [0.5555555555555556, \"#d8576b\"], [0.6666666666666666, \"#ed7953\"], [0.7777777777777778, \"#fb9f3a\"], [0.8888888888888888, \"#fdca26\"], [1.0, \"#f0f921\"]], \"type\": \"histogram2d\"}], \"histogram2dcontour\": [{\"colorbar\": {\"outlinewidth\": 0, \"ticks\": \"\"}, \"colorscale\": [[0.0, \"#0d0887\"], [0.1111111111111111, \"#46039f\"], [0.2222222222222222, \"#7201a8\"], [0.3333333333333333, \"#9c179e\"], [0.4444444444444444, \"#bd3786\"], [0.5555555555555556, \"#d8576b\"], [0.6666666666666666, \"#ed7953\"], [0.7777777777777778, \"#fb9f3a\"], [0.8888888888888888, \"#fdca26\"], [1.0, \"#f0f921\"]], \"type\": \"histogram2dcontour\"}], \"mesh3d\": [{\"colorbar\": {\"outlinewidth\": 0, \"ticks\": \"\"}, \"type\": \"mesh3d\"}], \"parcoords\": [{\"line\": {\"colorbar\": {\"outlinewidth\": 0, \"ticks\": \"\"}}, \"type\": \"parcoords\"}], \"pie\": [{\"automargin\": true, \"type\": \"pie\"}], \"scatter\": [{\"marker\": {\"colorbar\": {\"outlinewidth\": 0, \"ticks\": \"\"}}, \"type\": \"scatter\"}], \"scatter3d\": [{\"line\": {\"colorbar\": {\"outlinewidth\": 0, \"ticks\": \"\"}}, \"marker\": {\"colorbar\": {\"outlinewidth\": 0, \"ticks\": \"\"}}, \"type\": \"scatter3d\"}], \"scattercarpet\": [{\"marker\": {\"colorbar\": {\"outlinewidth\": 0, \"ticks\": \"\"}}, \"type\": \"scattercarpet\"}], \"scattergeo\": [{\"marker\": {\"colorbar\": {\"outlinewidth\": 0, \"ticks\": \"\"}}, \"type\": \"scattergeo\"}], \"scattergl\": [{\"marker\": {\"colorbar\": {\"outlinewidth\": 0, \"ticks\": \"\"}}, \"type\": \"scattergl\"}], \"scattermapbox\": [{\"marker\": {\"colorbar\": {\"outlinewidth\": 0, \"ticks\": \"\"}}, \"type\": \"scattermapbox\"}], \"scatterpolar\": [{\"marker\": {\"colorbar\": {\"outlinewidth\": 0, \"ticks\": \"\"}}, \"type\": \"scatterpolar\"}], \"scatterpolargl\": [{\"marker\": {\"colorbar\": {\"outlinewidth\": 0, \"ticks\": \"\"}}, \"type\": \"scatterpolargl\"}], \"scatterternary\": [{\"marker\": {\"colorbar\": {\"outlinewidth\": 0, \"ticks\": \"\"}}, \"type\": \"scatterternary\"}], \"surface\": [{\"colorbar\": {\"outlinewidth\": 0, \"ticks\": \"\"}, \"colorscale\": [[0.0, \"#0d0887\"], [0.1111111111111111, \"#46039f\"], [0.2222222222222222, \"#7201a8\"], [0.3333333333333333, \"#9c179e\"], [0.4444444444444444, \"#bd3786\"], [0.5555555555555556, \"#d8576b\"], [0.6666666666666666, \"#ed7953\"], [0.7777777777777778, \"#fb9f3a\"], [0.8888888888888888, \"#fdca26\"], [1.0, \"#f0f921\"]], \"type\": \"surface\"}], \"table\": [{\"cells\": {\"fill\": {\"color\": \"#EBF0F8\"}, \"line\": {\"color\": \"white\"}}, \"header\": {\"fill\": {\"color\": \"#C8D4E3\"}, \"line\": {\"color\": \"white\"}}, \"type\": \"table\"}]}, \"layout\": {\"annotationdefaults\": {\"arrowcolor\": \"#2a3f5f\", \"arrowhead\": 0, \"arrowwidth\": 1}, \"autotypenumbers\": \"strict\", \"coloraxis\": {\"colorbar\": {\"outlinewidth\": 0, \"ticks\": \"\"}}, \"colorscale\": {\"diverging\": [[0, \"#8e0152\"], [0.1, \"#c51b7d\"], [0.2, \"#de77ae\"], [0.3, \"#f1b6da\"], [0.4, \"#fde0ef\"], [0.5, \"#f7f7f7\"], [0.6, \"#e6f5d0\"], [0.7, \"#b8e186\"], [0.8, \"#7fbc41\"], [0.9, \"#4d9221\"], [1, \"#276419\"]], \"sequential\": [[0.0, \"#0d0887\"], [0.1111111111111111, \"#46039f\"], [0.2222222222222222, \"#7201a8\"], [0.3333333333333333, \"#9c179e\"], [0.4444444444444444, \"#bd3786\"], [0.5555555555555556, \"#d8576b\"], [0.6666666666666666, \"#ed7953\"], [0.7777777777777778, \"#fb9f3a\"], [0.8888888888888888, \"#fdca26\"], [1.0, \"#f0f921\"]], \"sequentialminus\": [[0.0, \"#0d0887\"], [0.1111111111111111, \"#46039f\"], [0.2222222222222222, \"#7201a8\"], [0.3333333333333333, \"#9c179e\"], [0.4444444444444444, \"#bd3786\"], [0.5555555555555556, \"#d8576b\"], [0.6666666666666666, \"#ed7953\"], [0.7777777777777778, \"#fb9f3a\"], [0.8888888888888888, \"#fdca26\"], [1.0, \"#f0f921\"]]}, \"colorway\": [\"#636efa\", \"#EF553B\", \"#00cc96\", \"#ab63fa\", \"#FFA15A\", \"#19d3f3\", \"#FF6692\", \"#B6E880\", \"#FF97FF\", \"#FECB52\"], \"font\": {\"color\": \"#2a3f5f\"}, \"geo\": {\"bgcolor\": \"white\", \"lakecolor\": \"white\", \"landcolor\": \"#E5ECF6\", \"showlakes\": true, \"showland\": true, \"subunitcolor\": \"white\"}, \"hoverlabel\": {\"align\": \"left\"}, \"hovermode\": \"closest\", \"mapbox\": {\"style\": \"light\"}, \"paper_bgcolor\": \"white\", \"plot_bgcolor\": \"#E5ECF6\", \"polar\": {\"angularaxis\": {\"gridcolor\": \"white\", \"linecolor\": \"white\", \"ticks\": \"\"}, \"bgcolor\": \"#E5ECF6\", \"radialaxis\": {\"gridcolor\": \"white\", \"linecolor\": \"white\", \"ticks\": \"\"}}, \"scene\": {\"xaxis\": {\"backgroundcolor\": \"#E5ECF6\", \"gridcolor\": \"white\", \"gridwidth\": 2, \"linecolor\": \"white\", \"showbackground\": true, \"ticks\": \"\", \"zerolinecolor\": \"white\"}, \"yaxis\": {\"backgroundcolor\": \"#E5ECF6\", \"gridcolor\": \"white\", \"gridwidth\": 2, \"linecolor\": \"white\", \"showbackground\": true, \"ticks\": \"\", \"zerolinecolor\": \"white\"}, \"zaxis\": {\"backgroundcolor\": \"#E5ECF6\", \"gridcolor\": \"white\", \"gridwidth\": 2, \"linecolor\": \"white\", \"showbackground\": true, \"ticks\": \"\", \"zerolinecolor\": \"white\"}}, \"shapedefaults\": {\"line\": {\"color\": \"#2a3f5f\"}}, \"ternary\": {\"aaxis\": {\"gridcolor\": \"white\", \"linecolor\": \"white\", \"ticks\": \"\"}, \"baxis\": {\"gridcolor\": \"white\", \"linecolor\": \"white\", \"ticks\": \"\"}, \"bgcolor\": \"#E5ECF6\", \"caxis\": {\"gridcolor\": \"white\", \"linecolor\": \"white\", \"ticks\": \"\"}}, \"title\": {\"x\": 0.05}, \"xaxis\": {\"automargin\": true, \"gridcolor\": \"white\", \"linecolor\": \"white\", \"ticks\": \"\", \"title\": {\"standoff\": 15}, \"zerolinecolor\": \"white\", \"zerolinewidth\": 2}, \"yaxis\": {\"automargin\": true, \"gridcolor\": \"white\", \"linecolor\": \"white\", \"ticks\": \"\", \"title\": {\"standoff\": 15}, \"zerolinecolor\": \"white\", \"zerolinewidth\": 2}}}, \"title\": {\"text\": \"Usage of Vaccines by Countries\", \"x\": 0.5}, \"uniformtext\": {\"minsize\": 8, \"mode\": \"hide\"}, \"xaxis\": {\"anchor\": \"y\", \"domain\": [0.0, 1.0], \"tickangle\": -45, \"title\": {\"text\": \"Vaccine\"}}, \"yaxis\": {\"anchor\": \"x\", \"domain\": [0.0, 1.0], \"title\": {\"text\": \"# of Countries Using\"}}},                        {\"responsive\": true}                    ).then(function(){\n",
       "                            \n",
       "var gd = document.getElementById('dc3bcaaa-fddd-484f-af23-0b9ebf7b2c0c');\n",
       "var x = new MutationObserver(function (mutations, observer) {{\n",
       "        var display = window.getComputedStyle(gd).display;\n",
       "        if (!display || display === 'none') {{\n",
       "            console.log([gd, 'removed!']);\n",
       "            Plotly.purge(gd);\n",
       "            observer.disconnect();\n",
       "        }}\n",
       "}});\n",
       "\n",
       "// Listen for the removal of the full notebook cells\n",
       "var notebookContainer = gd.closest('#notebook-container');\n",
       "if (notebookContainer) {{\n",
       "    x.observe(notebookContainer, {childList: true});\n",
       "}}\n",
       "\n",
       "// Listen for the clearing of the current output cell\n",
       "var outputEl = gd.closest('.output');\n",
       "if (outputEl) {{\n",
       "    x.observe(outputEl, {childList: true});\n",
       "}}\n",
       "\n",
       "                        })                };                });            </script>        </div>"
      ]
     },
     "metadata": {},
     "output_type": "display_data"
    }
   ],
   "source": [
    "# Create a data frame to calculate the usage of every individual vaccine in different countries\n",
    "\n",
    "summ = df_f.iloc[:,8:17].sum()\n",
    "df_vacc = pd.DataFrame(summ, columns=['Usage'])\n",
    "df_vacc = df_vacc.sort_values('Usage', ascending=False)\n",
    "df_vacc.reset_index(level=0, inplace=True)\n",
    "\n",
    "# Visualise the vaccine usage\n",
    "\n",
    "fig = px.bar(df_vacc,\n",
    "              x = 'index',\n",
    "              y = 'Usage',\n",
    "              color='Usage',\n",
    "              hover_name = 'index',\n",
    "              hover_data = ['Usage'],\n",
    "              color_continuous_scale = 'Magenta',\n",
    "              labels = {'index':'Vaccine','Usage':'# of Countries Using'},\n",
    "              height=500,\n",
    "              text = 'Usage')\n",
    "\n",
    "fig.update_layout(uniformtext_minsize = 15,\n",
    "                   xaxis_tickangle = -45,\n",
    "                   title = 'Usage of Vaccines by Countries',\n",
    "                   title_x = 0.5,\n",
    "                   showlegend=False)\n",
    "\n",
    "fig.update_traces(texttemplate='%{text:.2s}', textposition='outside')\n",
    "fig.update_layout(uniformtext_minsize=8, uniformtext_mode='hide')\n",
    "\n",
    "fig.update(layout_coloraxis_showscale=False)\n",
    "fig.update_layout({'plot_bgcolor': 'rgba(0, 0, 0, 0)', 'paper_bgcolor': 'rgba(0, 0, 0, 0)',})\n",
    "\n",
    "fig.show()"
   ]
  },
  {
   "cell_type": "markdown",
   "id": "identical-research",
   "metadata": {},
   "source": [
    "### Vaccination Race\n",
    "\n",
    "It appears that the vaccine developed by Pfizer/Biontech benefits being first in the market. Although the vaccine developed by Oxford/AstraZeneca was released some time after the one developed by Pfizer/Biontech, it is a strong competent in the vaccination race since it is easier to roll out in terms of handling and transportation. Currently These two are the most common COVID-19 vaccines around the world by stepping in more than 60 countries."
   ]
  },
  {
   "cell_type": "markdown",
   "id": "brilliant-heater",
   "metadata": {},
   "source": [
    "### What vaccines are used and in which countries?"
   ]
  },
  {
   "cell_type": "code",
   "execution_count": 21,
   "id": "returning-cosmetic",
   "metadata": {
    "scrolled": false
   },
   "outputs": [
    {
     "data": {
      "application/vnd.plotly.v1+json": {
       "config": {
        "plotlyServerURL": "https://plot.ly"
       },
       "data": [
        {
         "alignmentgroup": "True",
         "customdata": [
          [
           "Oxford/AstraZeneca, Pfizer/BioNTech, Sinopharm/Beijing, Sinopharm/Wuhan, Sputnik V"
          ],
          [
           "Moderna, Oxford/AstraZeneca, Pfizer/BioNTech, Sinopharm/Beijing, Sputnik V"
          ],
          [
           "Oxford/AstraZeneca, Pfizer/BioNTech, Sinopharm/Beijing, Sputnik V"
          ],
          [
           "Oxford/AstraZeneca, Pfizer/BioNTech, Sinopharm/Beijing, Sputnik V"
          ],
          [
           "Moderna, Oxford/AstraZeneca, Pfizer/BioNTech"
          ],
          [
           "Moderna, Oxford/AstraZeneca, Pfizer/BioNTech"
          ],
          [
           "Moderna, Oxford/AstraZeneca, Pfizer/BioNTech"
          ],
          [
           "Moderna, Oxford/AstraZeneca, Pfizer/BioNTech"
          ],
          [
           "Moderna, Oxford/AstraZeneca, Pfizer/BioNTech"
          ],
          [
           "Moderna, Oxford/AstraZeneca, Pfizer/BioNTech"
          ],
          [
           "Moderna, Oxford/AstraZeneca, Pfizer/BioNTech"
          ],
          [
           "Moderna, Oxford/AstraZeneca, Pfizer/BioNTech"
          ],
          [
           "Moderna, Oxford/AstraZeneca, Pfizer/BioNTech"
          ],
          [
           "Moderna, Oxford/AstraZeneca, Pfizer/BioNTech"
          ],
          [
           "Moderna, Oxford/AstraZeneca, Pfizer/BioNTech"
          ],
          [
           "Moderna, Oxford/AstraZeneca, Pfizer/BioNTech"
          ],
          [
           "Oxford/AstraZeneca, Sinopharm/Beijing, Sputnik V"
          ],
          [
           "Moderna, Oxford/AstraZeneca, Pfizer/BioNTech"
          ],
          [
           "Moderna, Oxford/AstraZeneca, Pfizer/BioNTech"
          ],
          [
           "Moderna, Oxford/AstraZeneca, Pfizer/BioNTech"
          ],
          [
           "Moderna, Oxford/AstraZeneca, Pfizer/BioNTech"
          ],
          [
           "Moderna, Oxford/AstraZeneca, Pfizer/BioNTech"
          ],
          [
           "Moderna, Oxford/AstraZeneca, Pfizer/BioNTech"
          ],
          [
           "Oxford/AstraZeneca, Pfizer/BioNTech, Sputnik V"
          ],
          [
           "Moderna, Oxford/AstraZeneca, Pfizer/BioNTech"
          ],
          [
           "Moderna, Oxford/AstraZeneca, Pfizer/BioNTech"
          ],
          [
           "Oxford/AstraZeneca, Sinopharm/Beijing, Sputnik V"
          ],
          [
           "Moderna, Oxford/AstraZeneca, Pfizer/BioNTech"
          ],
          [
           "Moderna, Oxford/AstraZeneca, Pfizer/BioNTech"
          ],
          [
           "Oxford/AstraZeneca, Pfizer/BioNTech"
          ],
          [
           "Johnson&Johnson, Moderna, Pfizer/BioNTech"
          ],
          [
           "Covaxin, Oxford/AstraZeneca"
          ],
          [
           "Oxford/AstraZeneca, Pfizer/BioNTech"
          ],
          [
           "Oxford/AstraZeneca, Pfizer/BioNTech"
          ],
          [
           "Moderna, Pfizer/BioNTech"
          ],
          [
           "Oxford/AstraZeneca, Pfizer/BioNTech"
          ],
          [
           "Pfizer/BioNTech, Sinopharm/Beijing"
          ],
          [
           "Moderna, Pfizer/BioNTech"
          ],
          [
           "Oxford/AstraZeneca, Pfizer/BioNTech"
          ],
          [
           "Pfizer/BioNTech, Sinovac"
          ],
          [
           "Oxford/AstraZeneca, Sinopharm/Beijing"
          ],
          [
           "Sinopharm/Beijing, Sputnik V"
          ],
          [
           "Oxford/AstraZeneca, Pfizer/BioNTech"
          ],
          [
           "Pfizer/BioNTech, Sinovac"
          ],
          [
           "EpiVacCorona, Sputnik V"
          ],
          [
           "Pfizer/BioNTech, Sinovac"
          ],
          [
           "Oxford/AstraZeneca, Sinovac"
          ],
          [
           "Moderna, Pfizer/BioNTech"
          ],
          [
           "Moderna, Pfizer/BioNTech"
          ],
          [
           "Oxford/AstraZeneca, Sinopharm/Beijing"
          ],
          [
           "Pfizer/BioNTech, Sinovac"
          ],
          [
           "Moderna, Pfizer/BioNTech"
          ],
          [
           "Oxford/AstraZeneca, Pfizer/BioNTech"
          ],
          [
           "Pfizer/BioNTech"
          ],
          [
           "Pfizer/BioNTech"
          ],
          [
           "Pfizer/BioNTech"
          ],
          [
           "Oxford/AstraZeneca"
          ],
          [
           "Oxford/AstraZeneca"
          ],
          [
           "Sputnik V"
          ],
          [
           "Pfizer/BioNTech"
          ],
          [
           "Oxford/AstraZeneca"
          ],
          [
           "Sinopharm/Beijing"
          ],
          [
           "Sinovac"
          ],
          [
           "Sputnik V"
          ],
          [
           "Oxford/AstraZeneca"
          ],
          [
           "Sinopharm/Beijing"
          ],
          [
           "Sinovac"
          ],
          [
           "Oxford/AstraZeneca"
          ],
          [
           "Oxford/AstraZeneca"
          ],
          [
           "Pfizer/BioNTech"
          ],
          [
           "Sputnik V"
          ],
          [
           "Pfizer/BioNTech"
          ],
          [
           "Oxford/AstraZeneca"
          ],
          [
           "Pfizer/BioNTech"
          ],
          [
           "Oxford/AstraZeneca"
          ],
          [
           "Oxford/AstraZeneca"
          ],
          [
           "Pfizer/BioNTech"
          ],
          [
           "Pfizer/BioNTech"
          ],
          [
           "Oxford/AstraZeneca"
          ],
          [
           "Pfizer/BioNTech"
          ],
          [
           "Pfizer/BioNTech"
          ],
          [
           "Sinopharm/Beijing"
          ],
          [
           "Sputnik V"
          ],
          [
           "Pfizer/BioNTech"
          ],
          [
           "Oxford/AstraZeneca"
          ],
          [
           "Sputnik V"
          ],
          [
           "Oxford/AstraZeneca"
          ],
          [
           "Oxford/AstraZeneca"
          ],
          [
           "Sinovac"
          ],
          [
           "Oxford/AstraZeneca"
          ],
          [
           "Oxford/AstraZeneca"
          ],
          [
           "Pfizer/BioNTech"
          ],
          [
           "Oxford/AstraZeneca"
          ],
          [
           "Oxford/AstraZeneca"
          ],
          [
           "Oxford/AstraZeneca"
          ],
          [
           "Pfizer/BioNTech"
          ],
          [
           "Pfizer/ BioNTech, Sinopharm/Beijing"
          ],
          [
           "Pfizer/BioNTech"
          ],
          [
           "Pfizer/BioNTech"
          ],
          [
           "Oxford/AstraZeneca"
          ],
          [
           "Sputnik V"
          ],
          [
           "Pfizer/BioNTech"
          ],
          [
           "Pfizer/BioNTech"
          ],
          [
           "Sputnik V"
          ],
          [
           "Sinovac"
          ],
          [
           "Moderna"
          ],
          [
           "Oxford/AstraZeneca"
          ],
          [
           "Moderna"
          ],
          [
           "Oxford/AstraZeneca"
          ],
          [
           "Pfizer/BioNTech"
          ],
          [
           "Pfizer/BioNTech"
          ],
          [
           "Sinopharm/Beijing"
          ],
          [
           "Johnson&Johnson"
          ]
         ],
         "hovertemplate": "<b>%{hovertext}</b><br><br>Country=%{x}<br>Different Vaccines=%{marker.color}<br>Used Vaccines=%{customdata[0]}<extra></extra>",
         "hovertext": [
          "United Arab Emirates",
          "Hungary",
          "Serbia",
          "Bahrain",
          "Italy",
          "Poland",
          "Estonia",
          "Finland",
          "France",
          "Germany",
          "Rwanda",
          "Greece",
          "Romania",
          "Iceland",
          "Czechia",
          "Ireland",
          "Pakistan",
          "Norway",
          "Latvia",
          "Netherlands",
          "Lithuania",
          "Luxembourg",
          "Denmark",
          "Mexico",
          "Belgium",
          "Spain",
          "Argentina",
          "Bulgaria",
          "Austria",
          "South Korea",
          "United States",
          "India",
          "United Kingdom",
          "Isle of Man",
          "Israel",
          "Oman",
          "Jordan",
          "Portugal",
          "Australia",
          "Uruguay",
          "Morocco",
          "Montenegro",
          "Slovenia",
          "Hong Kong",
          "Russia",
          "Colombia",
          "Brazil",
          "Switzerland",
          "Canada",
          "Seychelles",
          "Chile",
          "Faeroe Islands",
          "Sweden",
          "Qatar",
          "New Zealand",
          "Slovakia",
          "Montserrat",
          "Myanmar",
          "Venezuela",
          "Singapore",
          "Moldova",
          "Senegal",
          "Turkey",
          "Paraguay",
          "Saint Lucia",
          "Peru",
          "Philippines",
          "Ukraine",
          "Trinidad and Tobago",
          "Turks and Caicos Islands",
          "San Marino",
          "Albania",
          "Mauritius",
          "Malta",
          "Dominican Republic",
          "Dominica",
          "Cyprus",
          "Croatia",
          "Cote d'Ivoire",
          "Costa Rica",
          "Cayman Islands",
          "Cambodia",
          "Bolivia",
          "Bermuda",
          "Belize",
          "Belarus",
          "Barbados",
          "Bangladesh",
          "Azerbaijan",
          "Anguilla",
          "Angola",
          "Ecuador",
          "El Salvador",
          "Falkland Islands",
          "Ghana",
          "Malaysia",
          "Macao",
          "Lebanon",
          "Kuwait",
          "Kenya",
          "Kazakhstan",
          "Japan",
          "Andorra",
          "Iran",
          "Indonesia",
          "Honduras",
          "Guyana",
          "Guatemala",
          "Grenada",
          "Greenland",
          "Gibraltar",
          "Zimbabwe",
          "South Africa"
         ],
         "legendgroup": "",
         "marker": {
          "color": [
           5,
           5,
           4,
           4,
           3,
           3,
           3,
           3,
           3,
           3,
           3,
           3,
           3,
           3,
           3,
           3,
           3,
           3,
           3,
           3,
           3,
           3,
           3,
           3,
           3,
           3,
           3,
           3,
           3,
           2,
           2,
           2,
           2,
           2,
           2,
           2,
           2,
           2,
           2,
           2,
           2,
           2,
           2,
           2,
           2,
           2,
           2,
           2,
           2,
           2,
           2,
           2,
           2,
           1,
           1,
           1,
           1,
           1,
           1,
           1,
           1,
           1,
           1,
           1,
           1,
           1,
           1,
           1,
           1,
           1,
           1,
           1,
           1,
           1,
           1,
           1,
           1,
           1,
           1,
           1,
           1,
           1,
           1,
           1,
           1,
           1,
           1,
           1,
           1,
           1,
           1,
           1,
           1,
           1,
           1,
           1,
           1,
           1,
           1,
           1,
           1,
           1,
           1,
           1,
           1,
           1,
           1,
           1,
           1,
           1,
           1,
           1,
           0
          ],
          "coloraxis": "coloraxis"
         },
         "name": "",
         "offsetgroup": "",
         "orientation": "v",
         "showlegend": false,
         "textposition": "auto",
         "type": "bar",
         "x": [
          "United Arab Emirates",
          "Hungary",
          "Serbia",
          "Bahrain",
          "Italy",
          "Poland",
          "Estonia",
          "Finland",
          "France",
          "Germany",
          "Rwanda",
          "Greece",
          "Romania",
          "Iceland",
          "Czechia",
          "Ireland",
          "Pakistan",
          "Norway",
          "Latvia",
          "Netherlands",
          "Lithuania",
          "Luxembourg",
          "Denmark",
          "Mexico",
          "Belgium",
          "Spain",
          "Argentina",
          "Bulgaria",
          "Austria",
          "South Korea",
          "United States",
          "India",
          "United Kingdom",
          "Isle of Man",
          "Israel",
          "Oman",
          "Jordan",
          "Portugal",
          "Australia",
          "Uruguay",
          "Morocco",
          "Montenegro",
          "Slovenia",
          "Hong Kong",
          "Russia",
          "Colombia",
          "Brazil",
          "Switzerland",
          "Canada",
          "Seychelles",
          "Chile",
          "Faeroe Islands",
          "Sweden",
          "Qatar",
          "New Zealand",
          "Slovakia",
          "Montserrat",
          "Myanmar",
          "Venezuela",
          "Singapore",
          "Moldova",
          "Senegal",
          "Turkey",
          "Paraguay",
          "Saint Lucia",
          "Peru",
          "Philippines",
          "Ukraine",
          "Trinidad and Tobago",
          "Turks and Caicos Islands",
          "San Marino",
          "Albania",
          "Mauritius",
          "Malta",
          "Dominican Republic",
          "Dominica",
          "Cyprus",
          "Croatia",
          "Cote d'Ivoire",
          "Costa Rica",
          "Cayman Islands",
          "Cambodia",
          "Bolivia",
          "Bermuda",
          "Belize",
          "Belarus",
          "Barbados",
          "Bangladesh",
          "Azerbaijan",
          "Anguilla",
          "Angola",
          "Ecuador",
          "El Salvador",
          "Falkland Islands",
          "Ghana",
          "Malaysia",
          "Macao",
          "Lebanon",
          "Kuwait",
          "Kenya",
          "Kazakhstan",
          "Japan",
          "Andorra",
          "Iran",
          "Indonesia",
          "Honduras",
          "Guyana",
          "Guatemala",
          "Grenada",
          "Greenland",
          "Gibraltar",
          "Zimbabwe",
          "South Africa"
         ],
         "xaxis": "x",
         "y": [
          5,
          5,
          4,
          4,
          3,
          3,
          3,
          3,
          3,
          3,
          3,
          3,
          3,
          3,
          3,
          3,
          3,
          3,
          3,
          3,
          3,
          3,
          3,
          3,
          3,
          3,
          3,
          3,
          3,
          2,
          2,
          2,
          2,
          2,
          2,
          2,
          2,
          2,
          2,
          2,
          2,
          2,
          2,
          2,
          2,
          2,
          2,
          2,
          2,
          2,
          2,
          2,
          2,
          1,
          1,
          1,
          1,
          1,
          1,
          1,
          1,
          1,
          1,
          1,
          1,
          1,
          1,
          1,
          1,
          1,
          1,
          1,
          1,
          1,
          1,
          1,
          1,
          1,
          1,
          1,
          1,
          1,
          1,
          1,
          1,
          1,
          1,
          1,
          1,
          1,
          1,
          1,
          1,
          1,
          1,
          1,
          1,
          1,
          1,
          1,
          1,
          1,
          1,
          1,
          1,
          1,
          1,
          1,
          1,
          1,
          1,
          1,
          0
         ],
         "yaxis": "y"
        }
       ],
       "layout": {
        "barmode": "relative",
        "coloraxis": {
         "colorbar": {
          "title": {
           "text": "Different Vaccines"
          }
         },
         "colorscale": [
          [
           0,
           "rgb(247,251,255)"
          ],
          [
           0.125,
           "rgb(222,235,247)"
          ],
          [
           0.25,
           "rgb(198,219,239)"
          ],
          [
           0.375,
           "rgb(158,202,225)"
          ],
          [
           0.5,
           "rgb(107,174,214)"
          ],
          [
           0.625,
           "rgb(66,146,198)"
          ],
          [
           0.75,
           "rgb(33,113,181)"
          ],
          [
           0.875,
           "rgb(8,81,156)"
          ],
          [
           1,
           "rgb(8,48,107)"
          ]
         ],
         "showscale": false
        },
        "height": 500,
        "legend": {
         "tracegroupgap": 0
        },
        "margin": {
         "t": 60
        },
        "paper_bgcolor": "rgba(0, 0, 0, 0)",
        "plot_bgcolor": "rgba(0, 0, 0, 0)",
        "template": {
         "data": {
          "bar": [
           {
            "error_x": {
             "color": "#2a3f5f"
            },
            "error_y": {
             "color": "#2a3f5f"
            },
            "marker": {
             "line": {
              "color": "#E5ECF6",
              "width": 0.5
             }
            },
            "type": "bar"
           }
          ],
          "barpolar": [
           {
            "marker": {
             "line": {
              "color": "#E5ECF6",
              "width": 0.5
             }
            },
            "type": "barpolar"
           }
          ],
          "carpet": [
           {
            "aaxis": {
             "endlinecolor": "#2a3f5f",
             "gridcolor": "white",
             "linecolor": "white",
             "minorgridcolor": "white",
             "startlinecolor": "#2a3f5f"
            },
            "baxis": {
             "endlinecolor": "#2a3f5f",
             "gridcolor": "white",
             "linecolor": "white",
             "minorgridcolor": "white",
             "startlinecolor": "#2a3f5f"
            },
            "type": "carpet"
           }
          ],
          "choropleth": [
           {
            "colorbar": {
             "outlinewidth": 0,
             "ticks": ""
            },
            "type": "choropleth"
           }
          ],
          "contour": [
           {
            "colorbar": {
             "outlinewidth": 0,
             "ticks": ""
            },
            "colorscale": [
             [
              0,
              "#0d0887"
             ],
             [
              0.1111111111111111,
              "#46039f"
             ],
             [
              0.2222222222222222,
              "#7201a8"
             ],
             [
              0.3333333333333333,
              "#9c179e"
             ],
             [
              0.4444444444444444,
              "#bd3786"
             ],
             [
              0.5555555555555556,
              "#d8576b"
             ],
             [
              0.6666666666666666,
              "#ed7953"
             ],
             [
              0.7777777777777778,
              "#fb9f3a"
             ],
             [
              0.8888888888888888,
              "#fdca26"
             ],
             [
              1,
              "#f0f921"
             ]
            ],
            "type": "contour"
           }
          ],
          "contourcarpet": [
           {
            "colorbar": {
             "outlinewidth": 0,
             "ticks": ""
            },
            "type": "contourcarpet"
           }
          ],
          "heatmap": [
           {
            "colorbar": {
             "outlinewidth": 0,
             "ticks": ""
            },
            "colorscale": [
             [
              0,
              "#0d0887"
             ],
             [
              0.1111111111111111,
              "#46039f"
             ],
             [
              0.2222222222222222,
              "#7201a8"
             ],
             [
              0.3333333333333333,
              "#9c179e"
             ],
             [
              0.4444444444444444,
              "#bd3786"
             ],
             [
              0.5555555555555556,
              "#d8576b"
             ],
             [
              0.6666666666666666,
              "#ed7953"
             ],
             [
              0.7777777777777778,
              "#fb9f3a"
             ],
             [
              0.8888888888888888,
              "#fdca26"
             ],
             [
              1,
              "#f0f921"
             ]
            ],
            "type": "heatmap"
           }
          ],
          "heatmapgl": [
           {
            "colorbar": {
             "outlinewidth": 0,
             "ticks": ""
            },
            "colorscale": [
             [
              0,
              "#0d0887"
             ],
             [
              0.1111111111111111,
              "#46039f"
             ],
             [
              0.2222222222222222,
              "#7201a8"
             ],
             [
              0.3333333333333333,
              "#9c179e"
             ],
             [
              0.4444444444444444,
              "#bd3786"
             ],
             [
              0.5555555555555556,
              "#d8576b"
             ],
             [
              0.6666666666666666,
              "#ed7953"
             ],
             [
              0.7777777777777778,
              "#fb9f3a"
             ],
             [
              0.8888888888888888,
              "#fdca26"
             ],
             [
              1,
              "#f0f921"
             ]
            ],
            "type": "heatmapgl"
           }
          ],
          "histogram": [
           {
            "marker": {
             "colorbar": {
              "outlinewidth": 0,
              "ticks": ""
             }
            },
            "type": "histogram"
           }
          ],
          "histogram2d": [
           {
            "colorbar": {
             "outlinewidth": 0,
             "ticks": ""
            },
            "colorscale": [
             [
              0,
              "#0d0887"
             ],
             [
              0.1111111111111111,
              "#46039f"
             ],
             [
              0.2222222222222222,
              "#7201a8"
             ],
             [
              0.3333333333333333,
              "#9c179e"
             ],
             [
              0.4444444444444444,
              "#bd3786"
             ],
             [
              0.5555555555555556,
              "#d8576b"
             ],
             [
              0.6666666666666666,
              "#ed7953"
             ],
             [
              0.7777777777777778,
              "#fb9f3a"
             ],
             [
              0.8888888888888888,
              "#fdca26"
             ],
             [
              1,
              "#f0f921"
             ]
            ],
            "type": "histogram2d"
           }
          ],
          "histogram2dcontour": [
           {
            "colorbar": {
             "outlinewidth": 0,
             "ticks": ""
            },
            "colorscale": [
             [
              0,
              "#0d0887"
             ],
             [
              0.1111111111111111,
              "#46039f"
             ],
             [
              0.2222222222222222,
              "#7201a8"
             ],
             [
              0.3333333333333333,
              "#9c179e"
             ],
             [
              0.4444444444444444,
              "#bd3786"
             ],
             [
              0.5555555555555556,
              "#d8576b"
             ],
             [
              0.6666666666666666,
              "#ed7953"
             ],
             [
              0.7777777777777778,
              "#fb9f3a"
             ],
             [
              0.8888888888888888,
              "#fdca26"
             ],
             [
              1,
              "#f0f921"
             ]
            ],
            "type": "histogram2dcontour"
           }
          ],
          "mesh3d": [
           {
            "colorbar": {
             "outlinewidth": 0,
             "ticks": ""
            },
            "type": "mesh3d"
           }
          ],
          "parcoords": [
           {
            "line": {
             "colorbar": {
              "outlinewidth": 0,
              "ticks": ""
             }
            },
            "type": "parcoords"
           }
          ],
          "pie": [
           {
            "automargin": true,
            "type": "pie"
           }
          ],
          "scatter": [
           {
            "marker": {
             "colorbar": {
              "outlinewidth": 0,
              "ticks": ""
             }
            },
            "type": "scatter"
           }
          ],
          "scatter3d": [
           {
            "line": {
             "colorbar": {
              "outlinewidth": 0,
              "ticks": ""
             }
            },
            "marker": {
             "colorbar": {
              "outlinewidth": 0,
              "ticks": ""
             }
            },
            "type": "scatter3d"
           }
          ],
          "scattercarpet": [
           {
            "marker": {
             "colorbar": {
              "outlinewidth": 0,
              "ticks": ""
             }
            },
            "type": "scattercarpet"
           }
          ],
          "scattergeo": [
           {
            "marker": {
             "colorbar": {
              "outlinewidth": 0,
              "ticks": ""
             }
            },
            "type": "scattergeo"
           }
          ],
          "scattergl": [
           {
            "marker": {
             "colorbar": {
              "outlinewidth": 0,
              "ticks": ""
             }
            },
            "type": "scattergl"
           }
          ],
          "scattermapbox": [
           {
            "marker": {
             "colorbar": {
              "outlinewidth": 0,
              "ticks": ""
             }
            },
            "type": "scattermapbox"
           }
          ],
          "scatterpolar": [
           {
            "marker": {
             "colorbar": {
              "outlinewidth": 0,
              "ticks": ""
             }
            },
            "type": "scatterpolar"
           }
          ],
          "scatterpolargl": [
           {
            "marker": {
             "colorbar": {
              "outlinewidth": 0,
              "ticks": ""
             }
            },
            "type": "scatterpolargl"
           }
          ],
          "scatterternary": [
           {
            "marker": {
             "colorbar": {
              "outlinewidth": 0,
              "ticks": ""
             }
            },
            "type": "scatterternary"
           }
          ],
          "surface": [
           {
            "colorbar": {
             "outlinewidth": 0,
             "ticks": ""
            },
            "colorscale": [
             [
              0,
              "#0d0887"
             ],
             [
              0.1111111111111111,
              "#46039f"
             ],
             [
              0.2222222222222222,
              "#7201a8"
             ],
             [
              0.3333333333333333,
              "#9c179e"
             ],
             [
              0.4444444444444444,
              "#bd3786"
             ],
             [
              0.5555555555555556,
              "#d8576b"
             ],
             [
              0.6666666666666666,
              "#ed7953"
             ],
             [
              0.7777777777777778,
              "#fb9f3a"
             ],
             [
              0.8888888888888888,
              "#fdca26"
             ],
             [
              1,
              "#f0f921"
             ]
            ],
            "type": "surface"
           }
          ],
          "table": [
           {
            "cells": {
             "fill": {
              "color": "#EBF0F8"
             },
             "line": {
              "color": "white"
             }
            },
            "header": {
             "fill": {
              "color": "#C8D4E3"
             },
             "line": {
              "color": "white"
             }
            },
            "type": "table"
           }
          ]
         },
         "layout": {
          "annotationdefaults": {
           "arrowcolor": "#2a3f5f",
           "arrowhead": 0,
           "arrowwidth": 1
          },
          "autotypenumbers": "strict",
          "coloraxis": {
           "colorbar": {
            "outlinewidth": 0,
            "ticks": ""
           }
          },
          "colorscale": {
           "diverging": [
            [
             0,
             "#8e0152"
            ],
            [
             0.1,
             "#c51b7d"
            ],
            [
             0.2,
             "#de77ae"
            ],
            [
             0.3,
             "#f1b6da"
            ],
            [
             0.4,
             "#fde0ef"
            ],
            [
             0.5,
             "#f7f7f7"
            ],
            [
             0.6,
             "#e6f5d0"
            ],
            [
             0.7,
             "#b8e186"
            ],
            [
             0.8,
             "#7fbc41"
            ],
            [
             0.9,
             "#4d9221"
            ],
            [
             1,
             "#276419"
            ]
           ],
           "sequential": [
            [
             0,
             "#0d0887"
            ],
            [
             0.1111111111111111,
             "#46039f"
            ],
            [
             0.2222222222222222,
             "#7201a8"
            ],
            [
             0.3333333333333333,
             "#9c179e"
            ],
            [
             0.4444444444444444,
             "#bd3786"
            ],
            [
             0.5555555555555556,
             "#d8576b"
            ],
            [
             0.6666666666666666,
             "#ed7953"
            ],
            [
             0.7777777777777778,
             "#fb9f3a"
            ],
            [
             0.8888888888888888,
             "#fdca26"
            ],
            [
             1,
             "#f0f921"
            ]
           ],
           "sequentialminus": [
            [
             0,
             "#0d0887"
            ],
            [
             0.1111111111111111,
             "#46039f"
            ],
            [
             0.2222222222222222,
             "#7201a8"
            ],
            [
             0.3333333333333333,
             "#9c179e"
            ],
            [
             0.4444444444444444,
             "#bd3786"
            ],
            [
             0.5555555555555556,
             "#d8576b"
            ],
            [
             0.6666666666666666,
             "#ed7953"
            ],
            [
             0.7777777777777778,
             "#fb9f3a"
            ],
            [
             0.8888888888888888,
             "#fdca26"
            ],
            [
             1,
             "#f0f921"
            ]
           ]
          },
          "colorway": [
           "#636efa",
           "#EF553B",
           "#00cc96",
           "#ab63fa",
           "#FFA15A",
           "#19d3f3",
           "#FF6692",
           "#B6E880",
           "#FF97FF",
           "#FECB52"
          ],
          "font": {
           "color": "#2a3f5f"
          },
          "geo": {
           "bgcolor": "white",
           "lakecolor": "white",
           "landcolor": "#E5ECF6",
           "showlakes": true,
           "showland": true,
           "subunitcolor": "white"
          },
          "hoverlabel": {
           "align": "left"
          },
          "hovermode": "closest",
          "mapbox": {
           "style": "light"
          },
          "paper_bgcolor": "white",
          "plot_bgcolor": "#E5ECF6",
          "polar": {
           "angularaxis": {
            "gridcolor": "white",
            "linecolor": "white",
            "ticks": ""
           },
           "bgcolor": "#E5ECF6",
           "radialaxis": {
            "gridcolor": "white",
            "linecolor": "white",
            "ticks": ""
           }
          },
          "scene": {
           "xaxis": {
            "backgroundcolor": "#E5ECF6",
            "gridcolor": "white",
            "gridwidth": 2,
            "linecolor": "white",
            "showbackground": true,
            "ticks": "",
            "zerolinecolor": "white"
           },
           "yaxis": {
            "backgroundcolor": "#E5ECF6",
            "gridcolor": "white",
            "gridwidth": 2,
            "linecolor": "white",
            "showbackground": true,
            "ticks": "",
            "zerolinecolor": "white"
           },
           "zaxis": {
            "backgroundcolor": "#E5ECF6",
            "gridcolor": "white",
            "gridwidth": 2,
            "linecolor": "white",
            "showbackground": true,
            "ticks": "",
            "zerolinecolor": "white"
           }
          },
          "shapedefaults": {
           "line": {
            "color": "#2a3f5f"
           }
          },
          "ternary": {
           "aaxis": {
            "gridcolor": "white",
            "linecolor": "white",
            "ticks": ""
           },
           "baxis": {
            "gridcolor": "white",
            "linecolor": "white",
            "ticks": ""
           },
           "bgcolor": "#E5ECF6",
           "caxis": {
            "gridcolor": "white",
            "linecolor": "white",
            "ticks": ""
           }
          },
          "title": {
           "x": 0.05
          },
          "xaxis": {
           "automargin": true,
           "gridcolor": "white",
           "linecolor": "white",
           "ticks": "",
           "title": {
            "standoff": 15
           },
           "zerolinecolor": "white",
           "zerolinewidth": 2
          },
          "yaxis": {
           "automargin": true,
           "gridcolor": "white",
           "linecolor": "white",
           "ticks": "",
           "title": {
            "standoff": 15
           },
           "zerolinecolor": "white",
           "zerolinewidth": 2
          }
         }
        },
        "title": {
         "text": "Total Number of Different Vaccines Used by Countries",
         "x": 0.5
        },
        "uniformtext": {
         "minsize": 15
        },
        "xaxis": {
         "anchor": "y",
         "domain": [
          0,
          1
         ],
         "tickangle": -45,
         "title": {
          "text": "Country"
         }
        },
        "yaxis": {
         "anchor": "x",
         "domain": [
          0,
          1
         ],
         "title": {
          "text": "Different Vaccines"
         }
        }
       }
      },
      "text/html": [
       "<div>                            <div id=\"a891e014-0b79-4523-9efc-174e2f1451c4\" class=\"plotly-graph-div\" style=\"height:500px; width:100%;\"></div>            <script type=\"text/javascript\">                require([\"plotly\"], function(Plotly) {                    window.PLOTLYENV=window.PLOTLYENV || {};                                    if (document.getElementById(\"a891e014-0b79-4523-9efc-174e2f1451c4\")) {                    Plotly.newPlot(                        \"a891e014-0b79-4523-9efc-174e2f1451c4\",                        [{\"alignmentgroup\": \"True\", \"customdata\": [[\"Oxford/AstraZeneca, Pfizer/BioNTech, Sinopharm/Beijing, Sinopharm/Wuhan, Sputnik V\"], [\"Moderna, Oxford/AstraZeneca, Pfizer/BioNTech, Sinopharm/Beijing, Sputnik V\"], [\"Oxford/AstraZeneca, Pfizer/BioNTech, Sinopharm/Beijing, Sputnik V\"], [\"Oxford/AstraZeneca, Pfizer/BioNTech, Sinopharm/Beijing, Sputnik V\"], [\"Moderna, Oxford/AstraZeneca, Pfizer/BioNTech\"], [\"Moderna, Oxford/AstraZeneca, Pfizer/BioNTech\"], [\"Moderna, Oxford/AstraZeneca, Pfizer/BioNTech\"], [\"Moderna, Oxford/AstraZeneca, Pfizer/BioNTech\"], [\"Moderna, Oxford/AstraZeneca, Pfizer/BioNTech\"], [\"Moderna, Oxford/AstraZeneca, Pfizer/BioNTech\"], [\"Moderna, Oxford/AstraZeneca, Pfizer/BioNTech\"], [\"Moderna, Oxford/AstraZeneca, Pfizer/BioNTech\"], [\"Moderna, Oxford/AstraZeneca, Pfizer/BioNTech\"], [\"Moderna, Oxford/AstraZeneca, Pfizer/BioNTech\"], [\"Moderna, Oxford/AstraZeneca, Pfizer/BioNTech\"], [\"Moderna, Oxford/AstraZeneca, Pfizer/BioNTech\"], [\"Oxford/AstraZeneca, Sinopharm/Beijing, Sputnik V\"], [\"Moderna, Oxford/AstraZeneca, Pfizer/BioNTech\"], [\"Moderna, Oxford/AstraZeneca, Pfizer/BioNTech\"], [\"Moderna, Oxford/AstraZeneca, Pfizer/BioNTech\"], [\"Moderna, Oxford/AstraZeneca, Pfizer/BioNTech\"], [\"Moderna, Oxford/AstraZeneca, Pfizer/BioNTech\"], [\"Moderna, Oxford/AstraZeneca, Pfizer/BioNTech\"], [\"Oxford/AstraZeneca, Pfizer/BioNTech, Sputnik V\"], [\"Moderna, Oxford/AstraZeneca, Pfizer/BioNTech\"], [\"Moderna, Oxford/AstraZeneca, Pfizer/BioNTech\"], [\"Oxford/AstraZeneca, Sinopharm/Beijing, Sputnik V\"], [\"Moderna, Oxford/AstraZeneca, Pfizer/BioNTech\"], [\"Moderna, Oxford/AstraZeneca, Pfizer/BioNTech\"], [\"Oxford/AstraZeneca, Pfizer/BioNTech\"], [\"Johnson&Johnson, Moderna, Pfizer/BioNTech\"], [\"Covaxin, Oxford/AstraZeneca\"], [\"Oxford/AstraZeneca, Pfizer/BioNTech\"], [\"Oxford/AstraZeneca, Pfizer/BioNTech\"], [\"Moderna, Pfizer/BioNTech\"], [\"Oxford/AstraZeneca, Pfizer/BioNTech\"], [\"Pfizer/BioNTech, Sinopharm/Beijing\"], [\"Moderna, Pfizer/BioNTech\"], [\"Oxford/AstraZeneca, Pfizer/BioNTech\"], [\"Pfizer/BioNTech, Sinovac\"], [\"Oxford/AstraZeneca, Sinopharm/Beijing\"], [\"Sinopharm/Beijing, Sputnik V\"], [\"Oxford/AstraZeneca, Pfizer/BioNTech\"], [\"Pfizer/BioNTech, Sinovac\"], [\"EpiVacCorona, Sputnik V\"], [\"Pfizer/BioNTech, Sinovac\"], [\"Oxford/AstraZeneca, Sinovac\"], [\"Moderna, Pfizer/BioNTech\"], [\"Moderna, Pfizer/BioNTech\"], [\"Oxford/AstraZeneca, Sinopharm/Beijing\"], [\"Pfizer/BioNTech, Sinovac\"], [\"Moderna, Pfizer/BioNTech\"], [\"Oxford/AstraZeneca, Pfizer/BioNTech\"], [\"Pfizer/BioNTech\"], [\"Pfizer/BioNTech\"], [\"Pfizer/BioNTech\"], [\"Oxford/AstraZeneca\"], [\"Oxford/AstraZeneca\"], [\"Sputnik V\"], [\"Pfizer/BioNTech\"], [\"Oxford/AstraZeneca\"], [\"Sinopharm/Beijing\"], [\"Sinovac\"], [\"Sputnik V\"], [\"Oxford/AstraZeneca\"], [\"Sinopharm/Beijing\"], [\"Sinovac\"], [\"Oxford/AstraZeneca\"], [\"Oxford/AstraZeneca\"], [\"Pfizer/BioNTech\"], [\"Sputnik V\"], [\"Pfizer/BioNTech\"], [\"Oxford/AstraZeneca\"], [\"Pfizer/BioNTech\"], [\"Oxford/AstraZeneca\"], [\"Oxford/AstraZeneca\"], [\"Pfizer/BioNTech\"], [\"Pfizer/BioNTech\"], [\"Oxford/AstraZeneca\"], [\"Pfizer/BioNTech\"], [\"Pfizer/BioNTech\"], [\"Sinopharm/Beijing\"], [\"Sputnik V\"], [\"Pfizer/BioNTech\"], [\"Oxford/AstraZeneca\"], [\"Sputnik V\"], [\"Oxford/AstraZeneca\"], [\"Oxford/AstraZeneca\"], [\"Sinovac\"], [\"Oxford/AstraZeneca\"], [\"Oxford/AstraZeneca\"], [\"Pfizer/BioNTech\"], [\"Oxford/AstraZeneca\"], [\"Oxford/AstraZeneca\"], [\"Oxford/AstraZeneca\"], [\"Pfizer/BioNTech\"], [\"Pfizer/ BioNTech, Sinopharm/Beijing\"], [\"Pfizer/BioNTech\"], [\"Pfizer/BioNTech\"], [\"Oxford/AstraZeneca\"], [\"Sputnik V\"], [\"Pfizer/BioNTech\"], [\"Pfizer/BioNTech\"], [\"Sputnik V\"], [\"Sinovac\"], [\"Moderna\"], [\"Oxford/AstraZeneca\"], [\"Moderna\"], [\"Oxford/AstraZeneca\"], [\"Pfizer/BioNTech\"], [\"Pfizer/BioNTech\"], [\"Sinopharm/Beijing\"], [\"Johnson&Johnson\"]], \"hovertemplate\": \"<b>%{hovertext}</b><br><br>Country=%{x}<br>Different Vaccines=%{marker.color}<br>Used Vaccines=%{customdata[0]}<extra></extra>\", \"hovertext\": [\"United Arab Emirates\", \"Hungary\", \"Serbia\", \"Bahrain\", \"Italy\", \"Poland\", \"Estonia\", \"Finland\", \"France\", \"Germany\", \"Rwanda\", \"Greece\", \"Romania\", \"Iceland\", \"Czechia\", \"Ireland\", \"Pakistan\", \"Norway\", \"Latvia\", \"Netherlands\", \"Lithuania\", \"Luxembourg\", \"Denmark\", \"Mexico\", \"Belgium\", \"Spain\", \"Argentina\", \"Bulgaria\", \"Austria\", \"South Korea\", \"United States\", \"India\", \"United Kingdom\", \"Isle of Man\", \"Israel\", \"Oman\", \"Jordan\", \"Portugal\", \"Australia\", \"Uruguay\", \"Morocco\", \"Montenegro\", \"Slovenia\", \"Hong Kong\", \"Russia\", \"Colombia\", \"Brazil\", \"Switzerland\", \"Canada\", \"Seychelles\", \"Chile\", \"Faeroe Islands\", \"Sweden\", \"Qatar\", \"New Zealand\", \"Slovakia\", \"Montserrat\", \"Myanmar\", \"Venezuela\", \"Singapore\", \"Moldova\", \"Senegal\", \"Turkey\", \"Paraguay\", \"Saint Lucia\", \"Peru\", \"Philippines\", \"Ukraine\", \"Trinidad and Tobago\", \"Turks and Caicos Islands\", \"San Marino\", \"Albania\", \"Mauritius\", \"Malta\", \"Dominican Republic\", \"Dominica\", \"Cyprus\", \"Croatia\", \"Cote d'Ivoire\", \"Costa Rica\", \"Cayman Islands\", \"Cambodia\", \"Bolivia\", \"Bermuda\", \"Belize\", \"Belarus\", \"Barbados\", \"Bangladesh\", \"Azerbaijan\", \"Anguilla\", \"Angola\", \"Ecuador\", \"El Salvador\", \"Falkland Islands\", \"Ghana\", \"Malaysia\", \"Macao\", \"Lebanon\", \"Kuwait\", \"Kenya\", \"Kazakhstan\", \"Japan\", \"Andorra\", \"Iran\", \"Indonesia\", \"Honduras\", \"Guyana\", \"Guatemala\", \"Grenada\", \"Greenland\", \"Gibraltar\", \"Zimbabwe\", \"South Africa\"], \"legendgroup\": \"\", \"marker\": {\"color\": [5, 5, 4, 4, 3, 3, 3, 3, 3, 3, 3, 3, 3, 3, 3, 3, 3, 3, 3, 3, 3, 3, 3, 3, 3, 3, 3, 3, 3, 2, 2, 2, 2, 2, 2, 2, 2, 2, 2, 2, 2, 2, 2, 2, 2, 2, 2, 2, 2, 2, 2, 2, 2, 1, 1, 1, 1, 1, 1, 1, 1, 1, 1, 1, 1, 1, 1, 1, 1, 1, 1, 1, 1, 1, 1, 1, 1, 1, 1, 1, 1, 1, 1, 1, 1, 1, 1, 1, 1, 1, 1, 1, 1, 1, 1, 1, 1, 1, 1, 1, 1, 1, 1, 1, 1, 1, 1, 1, 1, 1, 1, 1, 0], \"coloraxis\": \"coloraxis\"}, \"name\": \"\", \"offsetgroup\": \"\", \"orientation\": \"v\", \"showlegend\": false, \"textposition\": \"auto\", \"type\": \"bar\", \"x\": [\"United Arab Emirates\", \"Hungary\", \"Serbia\", \"Bahrain\", \"Italy\", \"Poland\", \"Estonia\", \"Finland\", \"France\", \"Germany\", \"Rwanda\", \"Greece\", \"Romania\", \"Iceland\", \"Czechia\", \"Ireland\", \"Pakistan\", \"Norway\", \"Latvia\", \"Netherlands\", \"Lithuania\", \"Luxembourg\", \"Denmark\", \"Mexico\", \"Belgium\", \"Spain\", \"Argentina\", \"Bulgaria\", \"Austria\", \"South Korea\", \"United States\", \"India\", \"United Kingdom\", \"Isle of Man\", \"Israel\", \"Oman\", \"Jordan\", \"Portugal\", \"Australia\", \"Uruguay\", \"Morocco\", \"Montenegro\", \"Slovenia\", \"Hong Kong\", \"Russia\", \"Colombia\", \"Brazil\", \"Switzerland\", \"Canada\", \"Seychelles\", \"Chile\", \"Faeroe Islands\", \"Sweden\", \"Qatar\", \"New Zealand\", \"Slovakia\", \"Montserrat\", \"Myanmar\", \"Venezuela\", \"Singapore\", \"Moldova\", \"Senegal\", \"Turkey\", \"Paraguay\", \"Saint Lucia\", \"Peru\", \"Philippines\", \"Ukraine\", \"Trinidad and Tobago\", \"Turks and Caicos Islands\", \"San Marino\", \"Albania\", \"Mauritius\", \"Malta\", \"Dominican Republic\", \"Dominica\", \"Cyprus\", \"Croatia\", \"Cote d'Ivoire\", \"Costa Rica\", \"Cayman Islands\", \"Cambodia\", \"Bolivia\", \"Bermuda\", \"Belize\", \"Belarus\", \"Barbados\", \"Bangladesh\", \"Azerbaijan\", \"Anguilla\", \"Angola\", \"Ecuador\", \"El Salvador\", \"Falkland Islands\", \"Ghana\", \"Malaysia\", \"Macao\", \"Lebanon\", \"Kuwait\", \"Kenya\", \"Kazakhstan\", \"Japan\", \"Andorra\", \"Iran\", \"Indonesia\", \"Honduras\", \"Guyana\", \"Guatemala\", \"Grenada\", \"Greenland\", \"Gibraltar\", \"Zimbabwe\", \"South Africa\"], \"xaxis\": \"x\", \"y\": [5, 5, 4, 4, 3, 3, 3, 3, 3, 3, 3, 3, 3, 3, 3, 3, 3, 3, 3, 3, 3, 3, 3, 3, 3, 3, 3, 3, 3, 2, 2, 2, 2, 2, 2, 2, 2, 2, 2, 2, 2, 2, 2, 2, 2, 2, 2, 2, 2, 2, 2, 2, 2, 1, 1, 1, 1, 1, 1, 1, 1, 1, 1, 1, 1, 1, 1, 1, 1, 1, 1, 1, 1, 1, 1, 1, 1, 1, 1, 1, 1, 1, 1, 1, 1, 1, 1, 1, 1, 1, 1, 1, 1, 1, 1, 1, 1, 1, 1, 1, 1, 1, 1, 1, 1, 1, 1, 1, 1, 1, 1, 1, 0], \"yaxis\": \"y\"}],                        {\"barmode\": \"relative\", \"coloraxis\": {\"colorbar\": {\"title\": {\"text\": \"Different Vaccines\"}}, \"colorscale\": [[0.0, \"rgb(247,251,255)\"], [0.125, \"rgb(222,235,247)\"], [0.25, \"rgb(198,219,239)\"], [0.375, \"rgb(158,202,225)\"], [0.5, \"rgb(107,174,214)\"], [0.625, \"rgb(66,146,198)\"], [0.75, \"rgb(33,113,181)\"], [0.875, \"rgb(8,81,156)\"], [1.0, \"rgb(8,48,107)\"]], \"showscale\": false}, \"height\": 500, \"legend\": {\"tracegroupgap\": 0}, \"margin\": {\"t\": 60}, \"paper_bgcolor\": \"rgba(0, 0, 0, 0)\", \"plot_bgcolor\": \"rgba(0, 0, 0, 0)\", \"template\": {\"data\": {\"bar\": [{\"error_x\": {\"color\": \"#2a3f5f\"}, \"error_y\": {\"color\": \"#2a3f5f\"}, \"marker\": {\"line\": {\"color\": \"#E5ECF6\", \"width\": 0.5}}, \"type\": \"bar\"}], \"barpolar\": [{\"marker\": {\"line\": {\"color\": \"#E5ECF6\", \"width\": 0.5}}, \"type\": \"barpolar\"}], \"carpet\": [{\"aaxis\": {\"endlinecolor\": \"#2a3f5f\", \"gridcolor\": \"white\", \"linecolor\": \"white\", \"minorgridcolor\": \"white\", \"startlinecolor\": \"#2a3f5f\"}, \"baxis\": {\"endlinecolor\": \"#2a3f5f\", \"gridcolor\": \"white\", \"linecolor\": \"white\", \"minorgridcolor\": \"white\", \"startlinecolor\": \"#2a3f5f\"}, \"type\": \"carpet\"}], \"choropleth\": [{\"colorbar\": {\"outlinewidth\": 0, \"ticks\": \"\"}, \"type\": \"choropleth\"}], \"contour\": [{\"colorbar\": {\"outlinewidth\": 0, \"ticks\": \"\"}, \"colorscale\": [[0.0, \"#0d0887\"], [0.1111111111111111, \"#46039f\"], [0.2222222222222222, \"#7201a8\"], [0.3333333333333333, \"#9c179e\"], [0.4444444444444444, \"#bd3786\"], [0.5555555555555556, \"#d8576b\"], [0.6666666666666666, \"#ed7953\"], [0.7777777777777778, \"#fb9f3a\"], [0.8888888888888888, \"#fdca26\"], [1.0, \"#f0f921\"]], \"type\": \"contour\"}], \"contourcarpet\": [{\"colorbar\": {\"outlinewidth\": 0, \"ticks\": \"\"}, \"type\": \"contourcarpet\"}], \"heatmap\": [{\"colorbar\": {\"outlinewidth\": 0, \"ticks\": \"\"}, \"colorscale\": [[0.0, \"#0d0887\"], [0.1111111111111111, \"#46039f\"], [0.2222222222222222, \"#7201a8\"], [0.3333333333333333, \"#9c179e\"], [0.4444444444444444, \"#bd3786\"], [0.5555555555555556, \"#d8576b\"], [0.6666666666666666, \"#ed7953\"], [0.7777777777777778, \"#fb9f3a\"], [0.8888888888888888, \"#fdca26\"], [1.0, \"#f0f921\"]], \"type\": \"heatmap\"}], \"heatmapgl\": [{\"colorbar\": {\"outlinewidth\": 0, \"ticks\": \"\"}, \"colorscale\": [[0.0, \"#0d0887\"], [0.1111111111111111, \"#46039f\"], [0.2222222222222222, \"#7201a8\"], [0.3333333333333333, \"#9c179e\"], [0.4444444444444444, \"#bd3786\"], [0.5555555555555556, \"#d8576b\"], [0.6666666666666666, \"#ed7953\"], [0.7777777777777778, \"#fb9f3a\"], [0.8888888888888888, \"#fdca26\"], [1.0, \"#f0f921\"]], \"type\": \"heatmapgl\"}], \"histogram\": [{\"marker\": {\"colorbar\": {\"outlinewidth\": 0, \"ticks\": \"\"}}, \"type\": \"histogram\"}], \"histogram2d\": [{\"colorbar\": {\"outlinewidth\": 0, \"ticks\": \"\"}, \"colorscale\": [[0.0, \"#0d0887\"], [0.1111111111111111, \"#46039f\"], [0.2222222222222222, \"#7201a8\"], [0.3333333333333333, \"#9c179e\"], [0.4444444444444444, \"#bd3786\"], [0.5555555555555556, \"#d8576b\"], [0.6666666666666666, \"#ed7953\"], [0.7777777777777778, \"#fb9f3a\"], [0.8888888888888888, \"#fdca26\"], [1.0, \"#f0f921\"]], \"type\": \"histogram2d\"}], \"histogram2dcontour\": [{\"colorbar\": {\"outlinewidth\": 0, \"ticks\": \"\"}, \"colorscale\": [[0.0, \"#0d0887\"], [0.1111111111111111, \"#46039f\"], [0.2222222222222222, \"#7201a8\"], [0.3333333333333333, \"#9c179e\"], [0.4444444444444444, \"#bd3786\"], [0.5555555555555556, \"#d8576b\"], [0.6666666666666666, \"#ed7953\"], [0.7777777777777778, \"#fb9f3a\"], [0.8888888888888888, \"#fdca26\"], [1.0, \"#f0f921\"]], \"type\": \"histogram2dcontour\"}], \"mesh3d\": [{\"colorbar\": {\"outlinewidth\": 0, \"ticks\": \"\"}, \"type\": \"mesh3d\"}], \"parcoords\": [{\"line\": {\"colorbar\": {\"outlinewidth\": 0, \"ticks\": \"\"}}, \"type\": \"parcoords\"}], \"pie\": [{\"automargin\": true, \"type\": \"pie\"}], \"scatter\": [{\"marker\": {\"colorbar\": {\"outlinewidth\": 0, \"ticks\": \"\"}}, \"type\": \"scatter\"}], \"scatter3d\": [{\"line\": {\"colorbar\": {\"outlinewidth\": 0, \"ticks\": \"\"}}, \"marker\": {\"colorbar\": {\"outlinewidth\": 0, \"ticks\": \"\"}}, \"type\": \"scatter3d\"}], \"scattercarpet\": [{\"marker\": {\"colorbar\": {\"outlinewidth\": 0, \"ticks\": \"\"}}, \"type\": \"scattercarpet\"}], \"scattergeo\": [{\"marker\": {\"colorbar\": {\"outlinewidth\": 0, \"ticks\": \"\"}}, \"type\": \"scattergeo\"}], \"scattergl\": [{\"marker\": {\"colorbar\": {\"outlinewidth\": 0, \"ticks\": \"\"}}, \"type\": \"scattergl\"}], \"scattermapbox\": [{\"marker\": {\"colorbar\": {\"outlinewidth\": 0, \"ticks\": \"\"}}, \"type\": \"scattermapbox\"}], \"scatterpolar\": [{\"marker\": {\"colorbar\": {\"outlinewidth\": 0, \"ticks\": \"\"}}, \"type\": \"scatterpolar\"}], \"scatterpolargl\": [{\"marker\": {\"colorbar\": {\"outlinewidth\": 0, \"ticks\": \"\"}}, \"type\": \"scatterpolargl\"}], \"scatterternary\": [{\"marker\": {\"colorbar\": {\"outlinewidth\": 0, \"ticks\": \"\"}}, \"type\": \"scatterternary\"}], \"surface\": [{\"colorbar\": {\"outlinewidth\": 0, \"ticks\": \"\"}, \"colorscale\": [[0.0, \"#0d0887\"], [0.1111111111111111, \"#46039f\"], [0.2222222222222222, \"#7201a8\"], [0.3333333333333333, \"#9c179e\"], [0.4444444444444444, \"#bd3786\"], [0.5555555555555556, \"#d8576b\"], [0.6666666666666666, \"#ed7953\"], [0.7777777777777778, \"#fb9f3a\"], [0.8888888888888888, \"#fdca26\"], [1.0, \"#f0f921\"]], \"type\": \"surface\"}], \"table\": [{\"cells\": {\"fill\": {\"color\": \"#EBF0F8\"}, \"line\": {\"color\": \"white\"}}, \"header\": {\"fill\": {\"color\": \"#C8D4E3\"}, \"line\": {\"color\": \"white\"}}, \"type\": \"table\"}]}, \"layout\": {\"annotationdefaults\": {\"arrowcolor\": \"#2a3f5f\", \"arrowhead\": 0, \"arrowwidth\": 1}, \"autotypenumbers\": \"strict\", \"coloraxis\": {\"colorbar\": {\"outlinewidth\": 0, \"ticks\": \"\"}}, \"colorscale\": {\"diverging\": [[0, \"#8e0152\"], [0.1, \"#c51b7d\"], [0.2, \"#de77ae\"], [0.3, \"#f1b6da\"], [0.4, \"#fde0ef\"], [0.5, \"#f7f7f7\"], [0.6, \"#e6f5d0\"], [0.7, \"#b8e186\"], [0.8, \"#7fbc41\"], [0.9, \"#4d9221\"], [1, \"#276419\"]], \"sequential\": [[0.0, \"#0d0887\"], [0.1111111111111111, \"#46039f\"], [0.2222222222222222, \"#7201a8\"], [0.3333333333333333, \"#9c179e\"], [0.4444444444444444, \"#bd3786\"], [0.5555555555555556, \"#d8576b\"], [0.6666666666666666, \"#ed7953\"], [0.7777777777777778, \"#fb9f3a\"], [0.8888888888888888, \"#fdca26\"], [1.0, \"#f0f921\"]], \"sequentialminus\": [[0.0, \"#0d0887\"], [0.1111111111111111, \"#46039f\"], [0.2222222222222222, \"#7201a8\"], [0.3333333333333333, \"#9c179e\"], [0.4444444444444444, \"#bd3786\"], [0.5555555555555556, \"#d8576b\"], [0.6666666666666666, \"#ed7953\"], [0.7777777777777778, \"#fb9f3a\"], [0.8888888888888888, \"#fdca26\"], [1.0, \"#f0f921\"]]}, \"colorway\": [\"#636efa\", \"#EF553B\", \"#00cc96\", \"#ab63fa\", \"#FFA15A\", \"#19d3f3\", \"#FF6692\", \"#B6E880\", \"#FF97FF\", \"#FECB52\"], \"font\": {\"color\": \"#2a3f5f\"}, \"geo\": {\"bgcolor\": \"white\", \"lakecolor\": \"white\", \"landcolor\": \"#E5ECF6\", \"showlakes\": true, \"showland\": true, \"subunitcolor\": \"white\"}, \"hoverlabel\": {\"align\": \"left\"}, \"hovermode\": \"closest\", \"mapbox\": {\"style\": \"light\"}, \"paper_bgcolor\": \"white\", \"plot_bgcolor\": \"#E5ECF6\", \"polar\": {\"angularaxis\": {\"gridcolor\": \"white\", \"linecolor\": \"white\", \"ticks\": \"\"}, \"bgcolor\": \"#E5ECF6\", \"radialaxis\": {\"gridcolor\": \"white\", \"linecolor\": \"white\", \"ticks\": \"\"}}, \"scene\": {\"xaxis\": {\"backgroundcolor\": \"#E5ECF6\", \"gridcolor\": \"white\", \"gridwidth\": 2, \"linecolor\": \"white\", \"showbackground\": true, \"ticks\": \"\", \"zerolinecolor\": \"white\"}, \"yaxis\": {\"backgroundcolor\": \"#E5ECF6\", \"gridcolor\": \"white\", \"gridwidth\": 2, \"linecolor\": \"white\", \"showbackground\": true, \"ticks\": \"\", \"zerolinecolor\": \"white\"}, \"zaxis\": {\"backgroundcolor\": \"#E5ECF6\", \"gridcolor\": \"white\", \"gridwidth\": 2, \"linecolor\": \"white\", \"showbackground\": true, \"ticks\": \"\", \"zerolinecolor\": \"white\"}}, \"shapedefaults\": {\"line\": {\"color\": \"#2a3f5f\"}}, \"ternary\": {\"aaxis\": {\"gridcolor\": \"white\", \"linecolor\": \"white\", \"ticks\": \"\"}, \"baxis\": {\"gridcolor\": \"white\", \"linecolor\": \"white\", \"ticks\": \"\"}, \"bgcolor\": \"#E5ECF6\", \"caxis\": {\"gridcolor\": \"white\", \"linecolor\": \"white\", \"ticks\": \"\"}}, \"title\": {\"x\": 0.05}, \"xaxis\": {\"automargin\": true, \"gridcolor\": \"white\", \"linecolor\": \"white\", \"ticks\": \"\", \"title\": {\"standoff\": 15}, \"zerolinecolor\": \"white\", \"zerolinewidth\": 2}, \"yaxis\": {\"automargin\": true, \"gridcolor\": \"white\", \"linecolor\": \"white\", \"ticks\": \"\", \"title\": {\"standoff\": 15}, \"zerolinecolor\": \"white\", \"zerolinewidth\": 2}}}, \"title\": {\"text\": \"Total Number of Different Vaccines Used by Countries\", \"x\": 0.5}, \"uniformtext\": {\"minsize\": 15}, \"xaxis\": {\"anchor\": \"y\", \"domain\": [0.0, 1.0], \"tickangle\": -45, \"title\": {\"text\": \"Country\"}}, \"yaxis\": {\"anchor\": \"x\", \"domain\": [0.0, 1.0], \"title\": {\"text\": \"Different Vaccines\"}}},                        {\"responsive\": true}                    ).then(function(){\n",
       "                            \n",
       "var gd = document.getElementById('a891e014-0b79-4523-9efc-174e2f1451c4');\n",
       "var x = new MutationObserver(function (mutations, observer) {{\n",
       "        var display = window.getComputedStyle(gd).display;\n",
       "        if (!display || display === 'none') {{\n",
       "            console.log([gd, 'removed!']);\n",
       "            Plotly.purge(gd);\n",
       "            observer.disconnect();\n",
       "        }}\n",
       "}});\n",
       "\n",
       "// Listen for the removal of the full notebook cells\n",
       "var notebookContainer = gd.closest('#notebook-container');\n",
       "if (notebookContainer) {{\n",
       "    x.observe(notebookContainer, {childList: true});\n",
       "}}\n",
       "\n",
       "// Listen for the clearing of the current output cell\n",
       "var outputEl = gd.closest('.output');\n",
       "if (outputEl) {{\n",
       "    x.observe(outputEl, {childList: true});\n",
       "}}\n",
       "\n",
       "                        })                };                });            </script>        </div>"
      ]
     },
     "metadata": {},
     "output_type": "display_data"
    }
   ],
   "source": [
    "df_f['Log Scale'] = df_f['people_vaccinated'].apply(lambda x : math.log2(x+1))\n",
    "\n",
    "df_f_sorted = df_f.sort_values('Different Vaccines', ascending = False)\n",
    "\n",
    "fig = px.bar(df_f_sorted,\n",
    "              x = 'country',\n",
    "              y = 'Different Vaccines',\n",
    "              color='Different Vaccines',\n",
    "              hover_name = 'country',\n",
    "              hover_data = ['vaccines'],\n",
    "              color_continuous_scale = 'Blues',\n",
    "              labels = {'country':'Country', 'vaccines':'Used Vaccines'},  # changing the labels in to tooltip\n",
    "              height=500)\n",
    "\n",
    "fig.update_layout(uniformtext_minsize = 15,\n",
    "                   xaxis_tickangle = -45,\n",
    "                   title = 'Total Number of Different Vaccines Used by Countries',\n",
    "                   title_x = 0.5)\n",
    "\n",
    "fig.update_layout({'plot_bgcolor': 'rgba(0, 0, 0, 0)', 'paper_bgcolor': 'rgba(0, 0, 0, 0)',})\n",
    "\n",
    "fig.update(layout_coloraxis_showscale=False)\n",
    "\n",
    "fig.show()"
   ]
  },
  {
   "cell_type": "markdown",
   "id": "portuguese-torture",
   "metadata": {},
   "source": [
    "### Does more money mean more different types of vaccine?\n",
    "\n",
    "It looks like UAE and Hungary are the countries who uses 5 of 9 different kind of vaccines. They are followed by Bahrain and Serbia with 4 different kind of vaccines used. Let's have a look at the distribution in the map to understand it better."
   ]
  },
  {
   "cell_type": "code",
   "execution_count": 22,
   "id": "civic-french",
   "metadata": {
    "scrolled": false
   },
   "outputs": [
    {
     "data": {
      "application/vnd.plotly.v1+json": {
       "config": {
        "plotlyServerURL": "https://plot.ly"
       },
       "data": [
        {
         "coloraxis": "coloraxis",
         "customdata": [
          [
           1,
           "Pfizer/BioNTech"
          ],
          [
           1,
           "Pfizer/BioNTech"
          ],
          [
           1,
           "Oxford/AstraZeneca"
          ],
          [
           1,
           "Oxford/AstraZeneca"
          ],
          [
           3,
           "Oxford/AstraZeneca, Sinopharm/Beijing, Sputnik V"
          ],
          [
           2,
           "Oxford/AstraZeneca, Pfizer/BioNTech"
          ],
          [
           3,
           "Moderna, Oxford/AstraZeneca, Pfizer/BioNTech"
          ],
          [
           1,
           "Sinovac"
          ],
          [
           4,
           "Oxford/AstraZeneca, Pfizer/BioNTech, Sinopharm/Beijing, Sputnik V"
          ],
          [
           1,
           "Oxford/AstraZeneca"
          ],
          [
           1,
           "Oxford/AstraZeneca"
          ],
          [
           1,
           "Sputnik V"
          ],
          [
           3,
           "Moderna, Oxford/AstraZeneca, Pfizer/BioNTech"
          ],
          [
           1,
           "Oxford/AstraZeneca"
          ],
          [
           1,
           "Pfizer/BioNTech"
          ],
          [
           1,
           "Sputnik V"
          ],
          [
           2,
           "Oxford/AstraZeneca, Sinovac"
          ],
          [
           3,
           "Moderna, Oxford/AstraZeneca, Pfizer/BioNTech"
          ],
          [
           1,
           "Sinopharm/Beijing"
          ],
          [
           2,
           "Moderna, Pfizer/BioNTech"
          ],
          [
           1,
           "Pfizer/BioNTech"
          ],
          [
           2,
           "Pfizer/BioNTech, Sinovac"
          ],
          [
           2,
           "Pfizer/BioNTech, Sinovac"
          ],
          [
           1,
           "Pfizer/BioNTech"
          ],
          [
           1,
           "Oxford/AstraZeneca"
          ],
          [
           1,
           "Pfizer/BioNTech"
          ],
          [
           1,
           "Pfizer/BioNTech"
          ],
          [
           3,
           "Moderna, Oxford/AstraZeneca, Pfizer/BioNTech"
          ],
          [
           3,
           "Moderna, Oxford/AstraZeneca, Pfizer/BioNTech"
          ],
          [
           1,
           "Oxford/AstraZeneca"
          ],
          [
           1,
           "Oxford/AstraZeneca"
          ],
          [
           1,
           "Pfizer/BioNTech"
          ],
          [
           1,
           "Oxford/AstraZeneca"
          ],
          [
           3,
           "Moderna, Oxford/AstraZeneca, Pfizer/BioNTech"
          ],
          [
           2,
           "Moderna, Pfizer/BioNTech"
          ],
          [
           1,
           "Oxford/AstraZeneca"
          ],
          [
           3,
           "Moderna, Oxford/AstraZeneca, Pfizer/BioNTech"
          ],
          [
           3,
           "Moderna, Oxford/AstraZeneca, Pfizer/BioNTech"
          ],
          [
           3,
           "Moderna, Oxford/AstraZeneca, Pfizer/BioNTech"
          ],
          [
           1,
           "Oxford/AstraZeneca"
          ],
          [
           1,
           "Pfizer/BioNTech"
          ],
          [
           3,
           "Moderna, Oxford/AstraZeneca, Pfizer/BioNTech"
          ],
          [
           1,
           "Pfizer/BioNTech"
          ],
          [
           1,
           "Oxford/AstraZeneca"
          ],
          [
           1,
           "Moderna"
          ],
          [
           1,
           "Oxford/AstraZeneca"
          ],
          [
           1,
           "Moderna"
          ],
          [
           2,
           "Pfizer/BioNTech, Sinovac"
          ],
          [
           5,
           "Moderna, Oxford/AstraZeneca, Pfizer/BioNTech, Sinopharm/Beijing, Sputnik V"
          ],
          [
           3,
           "Moderna, Oxford/AstraZeneca, Pfizer/BioNTech"
          ],
          [
           2,
           "Covaxin, Oxford/AstraZeneca"
          ],
          [
           1,
           "Sinovac"
          ],
          [
           1,
           "Sputnik V"
          ],
          [
           3,
           "Moderna, Oxford/AstraZeneca, Pfizer/BioNTech"
          ],
          [
           2,
           "Oxford/AstraZeneca, Pfizer/BioNTech"
          ],
          [
           2,
           "Moderna, Pfizer/BioNTech"
          ],
          [
           3,
           "Moderna, Oxford/AstraZeneca, Pfizer/BioNTech"
          ],
          [
           1,
           "Pfizer/BioNTech"
          ],
          [
           2,
           "Pfizer/BioNTech, Sinopharm/Beijing"
          ],
          [
           1,
           "Sputnik V"
          ],
          [
           1,
           "Oxford/AstraZeneca"
          ],
          [
           1,
           "Pfizer/BioNTech"
          ],
          [
           3,
           "Moderna, Oxford/AstraZeneca, Pfizer/BioNTech"
          ],
          [
           1,
           "Pfizer/BioNTech"
          ],
          [
           3,
           "Moderna, Oxford/AstraZeneca, Pfizer/BioNTech"
          ],
          [
           3,
           "Moderna, Oxford/AstraZeneca, Pfizer/BioNTech"
          ],
          [
           1,
           "Pfizer/ BioNTech, Sinopharm/Beijing"
          ],
          [
           1,
           "Pfizer/BioNTech"
          ],
          [
           1,
           "Pfizer/BioNTech"
          ],
          [
           1,
           "Oxford/AstraZeneca"
          ],
          [
           3,
           "Oxford/AstraZeneca, Pfizer/BioNTech, Sputnik V"
          ],
          [
           1,
           "Oxford/AstraZeneca"
          ],
          [
           2,
           "Sinopharm/Beijing, Sputnik V"
          ],
          [
           1,
           "Oxford/AstraZeneca"
          ],
          [
           2,
           "Oxford/AstraZeneca, Sinopharm/Beijing"
          ],
          [
           1,
           "Oxford/AstraZeneca"
          ],
          [
           3,
           "Moderna, Oxford/AstraZeneca, Pfizer/BioNTech"
          ],
          [
           1,
           "Pfizer/BioNTech"
          ],
          [
           3,
           "Moderna, Oxford/AstraZeneca, Pfizer/BioNTech"
          ],
          [
           2,
           "Oxford/AstraZeneca, Pfizer/BioNTech"
          ],
          [
           3,
           "Oxford/AstraZeneca, Sinopharm/Beijing, Sputnik V"
          ],
          [
           1,
           "Sputnik V"
          ],
          [
           1,
           "Sinopharm/Beijing"
          ],
          [
           1,
           "Sinovac"
          ],
          [
           3,
           "Moderna, Oxford/AstraZeneca, Pfizer/BioNTech"
          ],
          [
           2,
           "Moderna, Pfizer/BioNTech"
          ],
          [
           1,
           "Pfizer/BioNTech"
          ],
          [
           3,
           "Moderna, Oxford/AstraZeneca, Pfizer/BioNTech"
          ],
          [
           2,
           "EpiVacCorona, Sputnik V"
          ],
          [
           3,
           "Moderna, Oxford/AstraZeneca, Pfizer/BioNTech"
          ],
          [
           1,
           "Oxford/AstraZeneca"
          ],
          [
           1,
           "Sputnik V"
          ],
          [
           1,
           "Sinopharm/Beijing"
          ],
          [
           4,
           "Oxford/AstraZeneca, Pfizer/BioNTech, Sinopharm/Beijing, Sputnik V"
          ],
          [
           2,
           "Oxford/AstraZeneca, Sinopharm/Beijing"
          ],
          [
           1,
           "Pfizer/BioNTech"
          ],
          [
           1,
           "Pfizer/BioNTech"
          ],
          [
           2,
           "Oxford/AstraZeneca, Pfizer/BioNTech"
          ],
          [
           0,
           "Johnson&Johnson"
          ],
          [
           2,
           "Oxford/AstraZeneca, Pfizer/BioNTech"
          ],
          [
           3,
           "Moderna, Oxford/AstraZeneca, Pfizer/BioNTech"
          ],
          [
           2,
           "Oxford/AstraZeneca, Pfizer/BioNTech"
          ],
          [
           2,
           "Moderna, Pfizer/BioNTech"
          ],
          [
           1,
           "Oxford/AstraZeneca"
          ],
          [
           1,
           "Sinovac"
          ],
          [
           1,
           "Pfizer/BioNTech"
          ],
          [
           1,
           "Oxford/AstraZeneca"
          ],
          [
           5,
           "Oxford/AstraZeneca, Pfizer/BioNTech, Sinopharm/Beijing, Sinopharm/Wuhan, Sputnik V"
          ],
          [
           2,
           "Oxford/AstraZeneca, Pfizer/BioNTech"
          ],
          [
           2,
           "Johnson&Johnson, Moderna, Pfizer/BioNTech"
          ],
          [
           2,
           "Pfizer/BioNTech, Sinovac"
          ],
          [
           1,
           "Sputnik V"
          ],
          [
           1,
           "Sinopharm/Beijing"
          ]
         ],
         "geo": "geo",
         "hovertemplate": "<b>%{hovertext}</b><br><br>Country=%{location}<br>Different Vaccines=%{z}<br>Used Vaccines=%{customdata[1]}<extra></extra>",
         "hovertext": [
          "Albania",
          "Andorra",
          "Angola",
          "Anguilla",
          "Argentina",
          "Australia",
          "Austria",
          "Azerbaijan",
          "Bahrain",
          "Bangladesh",
          "Barbados",
          "Belarus",
          "Belgium",
          "Belize",
          "Bermuda",
          "Bolivia",
          "Brazil",
          "Bulgaria",
          "Cambodia",
          "Canada",
          "Cayman Islands",
          "Chile",
          "Colombia",
          "Costa Rica",
          "Cote d'Ivoire",
          "Croatia",
          "Cyprus",
          "Czechia",
          "Denmark",
          "Dominica",
          "Dominican Republic",
          "Ecuador",
          "El Salvador",
          "Estonia",
          "Faeroe Islands",
          "Falkland Islands",
          "Finland",
          "France",
          "Germany",
          "Ghana",
          "Gibraltar",
          "Greece",
          "Greenland",
          "Grenada",
          "Guatemala",
          "Guyana",
          "Honduras",
          "Hong Kong",
          "Hungary",
          "Iceland",
          "India",
          "Indonesia",
          "Iran",
          "Ireland",
          "Isle of Man",
          "Israel",
          "Italy",
          "Japan",
          "Jordan",
          "Kazakhstan",
          "Kenya",
          "Kuwait",
          "Latvia",
          "Lebanon",
          "Lithuania",
          "Luxembourg",
          "Macao",
          "Malaysia",
          "Malta",
          "Mauritius",
          "Mexico",
          "Moldova",
          "Montenegro",
          "Montserrat",
          "Morocco",
          "Myanmar",
          "Netherlands",
          "New Zealand",
          "Norway",
          "Oman",
          "Pakistan",
          "Paraguay",
          "Peru",
          "Philippines",
          "Poland",
          "Portugal",
          "Qatar",
          "Romania",
          "Russia",
          "Rwanda",
          "Saint Lucia",
          "San Marino",
          "Senegal",
          "Serbia",
          "Seychelles",
          "Singapore",
          "Slovakia",
          "Slovenia",
          "South Africa",
          "South Korea",
          "Spain",
          "Sweden",
          "Switzerland",
          "Trinidad and Tobago",
          "Turkey",
          "Turks and Caicos Islands",
          "Ukraine",
          "United Arab Emirates",
          "United Kingdom",
          "United States",
          "Uruguay",
          "Venezuela",
          "Zimbabwe"
         ],
         "locationmode": "country names",
         "locations": [
          "Albania",
          "Andorra",
          "Angola",
          "Anguilla",
          "Argentina",
          "Australia",
          "Austria",
          "Azerbaijan",
          "Bahrain",
          "Bangladesh",
          "Barbados",
          "Belarus",
          "Belgium",
          "Belize",
          "Bermuda",
          "Bolivia",
          "Brazil",
          "Bulgaria",
          "Cambodia",
          "Canada",
          "Cayman Islands",
          "Chile",
          "Colombia",
          "Costa Rica",
          "Cote d'Ivoire",
          "Croatia",
          "Cyprus",
          "Czechia",
          "Denmark",
          "Dominica",
          "Dominican Republic",
          "Ecuador",
          "El Salvador",
          "Estonia",
          "Faeroe Islands",
          "Falkland Islands",
          "Finland",
          "France",
          "Germany",
          "Ghana",
          "Gibraltar",
          "Greece",
          "Greenland",
          "Grenada",
          "Guatemala",
          "Guyana",
          "Honduras",
          "Hong Kong",
          "Hungary",
          "Iceland",
          "India",
          "Indonesia",
          "Iran",
          "Ireland",
          "Isle of Man",
          "Israel",
          "Italy",
          "Japan",
          "Jordan",
          "Kazakhstan",
          "Kenya",
          "Kuwait",
          "Latvia",
          "Lebanon",
          "Lithuania",
          "Luxembourg",
          "Macao",
          "Malaysia",
          "Malta",
          "Mauritius",
          "Mexico",
          "Moldova",
          "Montenegro",
          "Montserrat",
          "Morocco",
          "Myanmar",
          "Netherlands",
          "New Zealand",
          "Norway",
          "Oman",
          "Pakistan",
          "Paraguay",
          "Peru",
          "Philippines",
          "Poland",
          "Portugal",
          "Qatar",
          "Romania",
          "Russia",
          "Rwanda",
          "Saint Lucia",
          "San Marino",
          "Senegal",
          "Serbia",
          "Seychelles",
          "Singapore",
          "Slovakia",
          "Slovenia",
          "South Africa",
          "South Korea",
          "Spain",
          "Sweden",
          "Switzerland",
          "Trinidad and Tobago",
          "Turkey",
          "Turks and Caicos Islands",
          "Ukraine",
          "United Arab Emirates",
          "United Kingdom",
          "United States",
          "Uruguay",
          "Venezuela",
          "Zimbabwe"
         ],
         "name": "",
         "type": "choropleth",
         "z": [
          1,
          1,
          1,
          1,
          3,
          2,
          3,
          1,
          4,
          1,
          1,
          1,
          3,
          1,
          1,
          1,
          2,
          3,
          1,
          2,
          1,
          2,
          2,
          1,
          1,
          1,
          1,
          3,
          3,
          1,
          1,
          1,
          1,
          3,
          2,
          1,
          3,
          3,
          3,
          1,
          1,
          3,
          1,
          1,
          1,
          1,
          1,
          2,
          5,
          3,
          2,
          1,
          1,
          3,
          2,
          2,
          3,
          1,
          2,
          1,
          1,
          1,
          3,
          1,
          3,
          3,
          1,
          1,
          1,
          1,
          3,
          1,
          2,
          1,
          2,
          1,
          3,
          1,
          3,
          2,
          3,
          1,
          1,
          1,
          3,
          2,
          1,
          3,
          2,
          3,
          1,
          1,
          1,
          4,
          2,
          1,
          1,
          2,
          0,
          2,
          3,
          2,
          2,
          1,
          1,
          1,
          1,
          5,
          2,
          2,
          2,
          1,
          1
         ]
        }
       ],
       "layout": {
        "coloraxis": {
         "colorbar": {
          "title": {
           "text": "Different Vaccines"
          }
         },
         "colorscale": [
          [
           0,
           "rgb(247,251,255)"
          ],
          [
           0.125,
           "rgb(222,235,247)"
          ],
          [
           0.25,
           "rgb(198,219,239)"
          ],
          [
           0.375,
           "rgb(158,202,225)"
          ],
          [
           0.5,
           "rgb(107,174,214)"
          ],
          [
           0.625,
           "rgb(66,146,198)"
          ],
          [
           0.75,
           "rgb(33,113,181)"
          ],
          [
           0.875,
           "rgb(8,81,156)"
          ],
          [
           1,
           "rgb(8,48,107)"
          ]
         ],
         "showscale": false
        },
        "geo": {
         "center": {},
         "domain": {
          "x": [
           0,
           1
          ],
          "y": [
           0,
           1
          ]
         }
        },
        "legend": {
         "tracegroupgap": 0
        },
        "margin": {
         "t": 60
        },
        "template": {
         "data": {
          "bar": [
           {
            "error_x": {
             "color": "#2a3f5f"
            },
            "error_y": {
             "color": "#2a3f5f"
            },
            "marker": {
             "line": {
              "color": "#E5ECF6",
              "width": 0.5
             }
            },
            "type": "bar"
           }
          ],
          "barpolar": [
           {
            "marker": {
             "line": {
              "color": "#E5ECF6",
              "width": 0.5
             }
            },
            "type": "barpolar"
           }
          ],
          "carpet": [
           {
            "aaxis": {
             "endlinecolor": "#2a3f5f",
             "gridcolor": "white",
             "linecolor": "white",
             "minorgridcolor": "white",
             "startlinecolor": "#2a3f5f"
            },
            "baxis": {
             "endlinecolor": "#2a3f5f",
             "gridcolor": "white",
             "linecolor": "white",
             "minorgridcolor": "white",
             "startlinecolor": "#2a3f5f"
            },
            "type": "carpet"
           }
          ],
          "choropleth": [
           {
            "colorbar": {
             "outlinewidth": 0,
             "ticks": ""
            },
            "type": "choropleth"
           }
          ],
          "contour": [
           {
            "colorbar": {
             "outlinewidth": 0,
             "ticks": ""
            },
            "colorscale": [
             [
              0,
              "#0d0887"
             ],
             [
              0.1111111111111111,
              "#46039f"
             ],
             [
              0.2222222222222222,
              "#7201a8"
             ],
             [
              0.3333333333333333,
              "#9c179e"
             ],
             [
              0.4444444444444444,
              "#bd3786"
             ],
             [
              0.5555555555555556,
              "#d8576b"
             ],
             [
              0.6666666666666666,
              "#ed7953"
             ],
             [
              0.7777777777777778,
              "#fb9f3a"
             ],
             [
              0.8888888888888888,
              "#fdca26"
             ],
             [
              1,
              "#f0f921"
             ]
            ],
            "type": "contour"
           }
          ],
          "contourcarpet": [
           {
            "colorbar": {
             "outlinewidth": 0,
             "ticks": ""
            },
            "type": "contourcarpet"
           }
          ],
          "heatmap": [
           {
            "colorbar": {
             "outlinewidth": 0,
             "ticks": ""
            },
            "colorscale": [
             [
              0,
              "#0d0887"
             ],
             [
              0.1111111111111111,
              "#46039f"
             ],
             [
              0.2222222222222222,
              "#7201a8"
             ],
             [
              0.3333333333333333,
              "#9c179e"
             ],
             [
              0.4444444444444444,
              "#bd3786"
             ],
             [
              0.5555555555555556,
              "#d8576b"
             ],
             [
              0.6666666666666666,
              "#ed7953"
             ],
             [
              0.7777777777777778,
              "#fb9f3a"
             ],
             [
              0.8888888888888888,
              "#fdca26"
             ],
             [
              1,
              "#f0f921"
             ]
            ],
            "type": "heatmap"
           }
          ],
          "heatmapgl": [
           {
            "colorbar": {
             "outlinewidth": 0,
             "ticks": ""
            },
            "colorscale": [
             [
              0,
              "#0d0887"
             ],
             [
              0.1111111111111111,
              "#46039f"
             ],
             [
              0.2222222222222222,
              "#7201a8"
             ],
             [
              0.3333333333333333,
              "#9c179e"
             ],
             [
              0.4444444444444444,
              "#bd3786"
             ],
             [
              0.5555555555555556,
              "#d8576b"
             ],
             [
              0.6666666666666666,
              "#ed7953"
             ],
             [
              0.7777777777777778,
              "#fb9f3a"
             ],
             [
              0.8888888888888888,
              "#fdca26"
             ],
             [
              1,
              "#f0f921"
             ]
            ],
            "type": "heatmapgl"
           }
          ],
          "histogram": [
           {
            "marker": {
             "colorbar": {
              "outlinewidth": 0,
              "ticks": ""
             }
            },
            "type": "histogram"
           }
          ],
          "histogram2d": [
           {
            "colorbar": {
             "outlinewidth": 0,
             "ticks": ""
            },
            "colorscale": [
             [
              0,
              "#0d0887"
             ],
             [
              0.1111111111111111,
              "#46039f"
             ],
             [
              0.2222222222222222,
              "#7201a8"
             ],
             [
              0.3333333333333333,
              "#9c179e"
             ],
             [
              0.4444444444444444,
              "#bd3786"
             ],
             [
              0.5555555555555556,
              "#d8576b"
             ],
             [
              0.6666666666666666,
              "#ed7953"
             ],
             [
              0.7777777777777778,
              "#fb9f3a"
             ],
             [
              0.8888888888888888,
              "#fdca26"
             ],
             [
              1,
              "#f0f921"
             ]
            ],
            "type": "histogram2d"
           }
          ],
          "histogram2dcontour": [
           {
            "colorbar": {
             "outlinewidth": 0,
             "ticks": ""
            },
            "colorscale": [
             [
              0,
              "#0d0887"
             ],
             [
              0.1111111111111111,
              "#46039f"
             ],
             [
              0.2222222222222222,
              "#7201a8"
             ],
             [
              0.3333333333333333,
              "#9c179e"
             ],
             [
              0.4444444444444444,
              "#bd3786"
             ],
             [
              0.5555555555555556,
              "#d8576b"
             ],
             [
              0.6666666666666666,
              "#ed7953"
             ],
             [
              0.7777777777777778,
              "#fb9f3a"
             ],
             [
              0.8888888888888888,
              "#fdca26"
             ],
             [
              1,
              "#f0f921"
             ]
            ],
            "type": "histogram2dcontour"
           }
          ],
          "mesh3d": [
           {
            "colorbar": {
             "outlinewidth": 0,
             "ticks": ""
            },
            "type": "mesh3d"
           }
          ],
          "parcoords": [
           {
            "line": {
             "colorbar": {
              "outlinewidth": 0,
              "ticks": ""
             }
            },
            "type": "parcoords"
           }
          ],
          "pie": [
           {
            "automargin": true,
            "type": "pie"
           }
          ],
          "scatter": [
           {
            "marker": {
             "colorbar": {
              "outlinewidth": 0,
              "ticks": ""
             }
            },
            "type": "scatter"
           }
          ],
          "scatter3d": [
           {
            "line": {
             "colorbar": {
              "outlinewidth": 0,
              "ticks": ""
             }
            },
            "marker": {
             "colorbar": {
              "outlinewidth": 0,
              "ticks": ""
             }
            },
            "type": "scatter3d"
           }
          ],
          "scattercarpet": [
           {
            "marker": {
             "colorbar": {
              "outlinewidth": 0,
              "ticks": ""
             }
            },
            "type": "scattercarpet"
           }
          ],
          "scattergeo": [
           {
            "marker": {
             "colorbar": {
              "outlinewidth": 0,
              "ticks": ""
             }
            },
            "type": "scattergeo"
           }
          ],
          "scattergl": [
           {
            "marker": {
             "colorbar": {
              "outlinewidth": 0,
              "ticks": ""
             }
            },
            "type": "scattergl"
           }
          ],
          "scattermapbox": [
           {
            "marker": {
             "colorbar": {
              "outlinewidth": 0,
              "ticks": ""
             }
            },
            "type": "scattermapbox"
           }
          ],
          "scatterpolar": [
           {
            "marker": {
             "colorbar": {
              "outlinewidth": 0,
              "ticks": ""
             }
            },
            "type": "scatterpolar"
           }
          ],
          "scatterpolargl": [
           {
            "marker": {
             "colorbar": {
              "outlinewidth": 0,
              "ticks": ""
             }
            },
            "type": "scatterpolargl"
           }
          ],
          "scatterternary": [
           {
            "marker": {
             "colorbar": {
              "outlinewidth": 0,
              "ticks": ""
             }
            },
            "type": "scatterternary"
           }
          ],
          "surface": [
           {
            "colorbar": {
             "outlinewidth": 0,
             "ticks": ""
            },
            "colorscale": [
             [
              0,
              "#0d0887"
             ],
             [
              0.1111111111111111,
              "#46039f"
             ],
             [
              0.2222222222222222,
              "#7201a8"
             ],
             [
              0.3333333333333333,
              "#9c179e"
             ],
             [
              0.4444444444444444,
              "#bd3786"
             ],
             [
              0.5555555555555556,
              "#d8576b"
             ],
             [
              0.6666666666666666,
              "#ed7953"
             ],
             [
              0.7777777777777778,
              "#fb9f3a"
             ],
             [
              0.8888888888888888,
              "#fdca26"
             ],
             [
              1,
              "#f0f921"
             ]
            ],
            "type": "surface"
           }
          ],
          "table": [
           {
            "cells": {
             "fill": {
              "color": "#EBF0F8"
             },
             "line": {
              "color": "white"
             }
            },
            "header": {
             "fill": {
              "color": "#C8D4E3"
             },
             "line": {
              "color": "white"
             }
            },
            "type": "table"
           }
          ]
         },
         "layout": {
          "annotationdefaults": {
           "arrowcolor": "#2a3f5f",
           "arrowhead": 0,
           "arrowwidth": 1
          },
          "autotypenumbers": "strict",
          "coloraxis": {
           "colorbar": {
            "outlinewidth": 0,
            "ticks": ""
           }
          },
          "colorscale": {
           "diverging": [
            [
             0,
             "#8e0152"
            ],
            [
             0.1,
             "#c51b7d"
            ],
            [
             0.2,
             "#de77ae"
            ],
            [
             0.3,
             "#f1b6da"
            ],
            [
             0.4,
             "#fde0ef"
            ],
            [
             0.5,
             "#f7f7f7"
            ],
            [
             0.6,
             "#e6f5d0"
            ],
            [
             0.7,
             "#b8e186"
            ],
            [
             0.8,
             "#7fbc41"
            ],
            [
             0.9,
             "#4d9221"
            ],
            [
             1,
             "#276419"
            ]
           ],
           "sequential": [
            [
             0,
             "#0d0887"
            ],
            [
             0.1111111111111111,
             "#46039f"
            ],
            [
             0.2222222222222222,
             "#7201a8"
            ],
            [
             0.3333333333333333,
             "#9c179e"
            ],
            [
             0.4444444444444444,
             "#bd3786"
            ],
            [
             0.5555555555555556,
             "#d8576b"
            ],
            [
             0.6666666666666666,
             "#ed7953"
            ],
            [
             0.7777777777777778,
             "#fb9f3a"
            ],
            [
             0.8888888888888888,
             "#fdca26"
            ],
            [
             1,
             "#f0f921"
            ]
           ],
           "sequentialminus": [
            [
             0,
             "#0d0887"
            ],
            [
             0.1111111111111111,
             "#46039f"
            ],
            [
             0.2222222222222222,
             "#7201a8"
            ],
            [
             0.3333333333333333,
             "#9c179e"
            ],
            [
             0.4444444444444444,
             "#bd3786"
            ],
            [
             0.5555555555555556,
             "#d8576b"
            ],
            [
             0.6666666666666666,
             "#ed7953"
            ],
            [
             0.7777777777777778,
             "#fb9f3a"
            ],
            [
             0.8888888888888888,
             "#fdca26"
            ],
            [
             1,
             "#f0f921"
            ]
           ]
          },
          "colorway": [
           "#636efa",
           "#EF553B",
           "#00cc96",
           "#ab63fa",
           "#FFA15A",
           "#19d3f3",
           "#FF6692",
           "#B6E880",
           "#FF97FF",
           "#FECB52"
          ],
          "font": {
           "color": "#2a3f5f"
          },
          "geo": {
           "bgcolor": "white",
           "lakecolor": "white",
           "landcolor": "#E5ECF6",
           "showlakes": true,
           "showland": true,
           "subunitcolor": "white"
          },
          "hoverlabel": {
           "align": "left"
          },
          "hovermode": "closest",
          "mapbox": {
           "style": "light"
          },
          "paper_bgcolor": "white",
          "plot_bgcolor": "#E5ECF6",
          "polar": {
           "angularaxis": {
            "gridcolor": "white",
            "linecolor": "white",
            "ticks": ""
           },
           "bgcolor": "#E5ECF6",
           "radialaxis": {
            "gridcolor": "white",
            "linecolor": "white",
            "ticks": ""
           }
          },
          "scene": {
           "xaxis": {
            "backgroundcolor": "#E5ECF6",
            "gridcolor": "white",
            "gridwidth": 2,
            "linecolor": "white",
            "showbackground": true,
            "ticks": "",
            "zerolinecolor": "white"
           },
           "yaxis": {
            "backgroundcolor": "#E5ECF6",
            "gridcolor": "white",
            "gridwidth": 2,
            "linecolor": "white",
            "showbackground": true,
            "ticks": "",
            "zerolinecolor": "white"
           },
           "zaxis": {
            "backgroundcolor": "#E5ECF6",
            "gridcolor": "white",
            "gridwidth": 2,
            "linecolor": "white",
            "showbackground": true,
            "ticks": "",
            "zerolinecolor": "white"
           }
          },
          "shapedefaults": {
           "line": {
            "color": "#2a3f5f"
           }
          },
          "ternary": {
           "aaxis": {
            "gridcolor": "white",
            "linecolor": "white",
            "ticks": ""
           },
           "baxis": {
            "gridcolor": "white",
            "linecolor": "white",
            "ticks": ""
           },
           "bgcolor": "#E5ECF6",
           "caxis": {
            "gridcolor": "white",
            "linecolor": "white",
            "ticks": ""
           }
          },
          "title": {
           "x": 0.05
          },
          "xaxis": {
           "automargin": true,
           "gridcolor": "white",
           "linecolor": "white",
           "ticks": "",
           "title": {
            "standoff": 15
           },
           "zerolinecolor": "white",
           "zerolinewidth": 2
          },
          "yaxis": {
           "automargin": true,
           "gridcolor": "white",
           "linecolor": "white",
           "ticks": "",
           "title": {
            "standoff": 15
           },
           "zerolinecolor": "white",
           "zerolinewidth": 2
          }
         }
        },
        "title": {
         "text": "Total Number of Different Vaccines Used by Countries",
         "x": 0.5
        }
       }
      },
      "text/html": [
       "<div>                            <div id=\"baaaa4a6-a612-4c14-af5b-62231f7d3dc3\" class=\"plotly-graph-div\" style=\"height:525px; width:100%;\"></div>            <script type=\"text/javascript\">                require([\"plotly\"], function(Plotly) {                    window.PLOTLYENV=window.PLOTLYENV || {};                                    if (document.getElementById(\"baaaa4a6-a612-4c14-af5b-62231f7d3dc3\")) {                    Plotly.newPlot(                        \"baaaa4a6-a612-4c14-af5b-62231f7d3dc3\",                        [{\"coloraxis\": \"coloraxis\", \"customdata\": [[1, \"Pfizer/BioNTech\"], [1, \"Pfizer/BioNTech\"], [1, \"Oxford/AstraZeneca\"], [1, \"Oxford/AstraZeneca\"], [3, \"Oxford/AstraZeneca, Sinopharm/Beijing, Sputnik V\"], [2, \"Oxford/AstraZeneca, Pfizer/BioNTech\"], [3, \"Moderna, Oxford/AstraZeneca, Pfizer/BioNTech\"], [1, \"Sinovac\"], [4, \"Oxford/AstraZeneca, Pfizer/BioNTech, Sinopharm/Beijing, Sputnik V\"], [1, \"Oxford/AstraZeneca\"], [1, \"Oxford/AstraZeneca\"], [1, \"Sputnik V\"], [3, \"Moderna, Oxford/AstraZeneca, Pfizer/BioNTech\"], [1, \"Oxford/AstraZeneca\"], [1, \"Pfizer/BioNTech\"], [1, \"Sputnik V\"], [2, \"Oxford/AstraZeneca, Sinovac\"], [3, \"Moderna, Oxford/AstraZeneca, Pfizer/BioNTech\"], [1, \"Sinopharm/Beijing\"], [2, \"Moderna, Pfizer/BioNTech\"], [1, \"Pfizer/BioNTech\"], [2, \"Pfizer/BioNTech, Sinovac\"], [2, \"Pfizer/BioNTech, Sinovac\"], [1, \"Pfizer/BioNTech\"], [1, \"Oxford/AstraZeneca\"], [1, \"Pfizer/BioNTech\"], [1, \"Pfizer/BioNTech\"], [3, \"Moderna, Oxford/AstraZeneca, Pfizer/BioNTech\"], [3, \"Moderna, Oxford/AstraZeneca, Pfizer/BioNTech\"], [1, \"Oxford/AstraZeneca\"], [1, \"Oxford/AstraZeneca\"], [1, \"Pfizer/BioNTech\"], [1, \"Oxford/AstraZeneca\"], [3, \"Moderna, Oxford/AstraZeneca, Pfizer/BioNTech\"], [2, \"Moderna, Pfizer/BioNTech\"], [1, \"Oxford/AstraZeneca\"], [3, \"Moderna, Oxford/AstraZeneca, Pfizer/BioNTech\"], [3, \"Moderna, Oxford/AstraZeneca, Pfizer/BioNTech\"], [3, \"Moderna, Oxford/AstraZeneca, Pfizer/BioNTech\"], [1, \"Oxford/AstraZeneca\"], [1, \"Pfizer/BioNTech\"], [3, \"Moderna, Oxford/AstraZeneca, Pfizer/BioNTech\"], [1, \"Pfizer/BioNTech\"], [1, \"Oxford/AstraZeneca\"], [1, \"Moderna\"], [1, \"Oxford/AstraZeneca\"], [1, \"Moderna\"], [2, \"Pfizer/BioNTech, Sinovac\"], [5, \"Moderna, Oxford/AstraZeneca, Pfizer/BioNTech, Sinopharm/Beijing, Sputnik V\"], [3, \"Moderna, Oxford/AstraZeneca, Pfizer/BioNTech\"], [2, \"Covaxin, Oxford/AstraZeneca\"], [1, \"Sinovac\"], [1, \"Sputnik V\"], [3, \"Moderna, Oxford/AstraZeneca, Pfizer/BioNTech\"], [2, \"Oxford/AstraZeneca, Pfizer/BioNTech\"], [2, \"Moderna, Pfizer/BioNTech\"], [3, \"Moderna, Oxford/AstraZeneca, Pfizer/BioNTech\"], [1, \"Pfizer/BioNTech\"], [2, \"Pfizer/BioNTech, Sinopharm/Beijing\"], [1, \"Sputnik V\"], [1, \"Oxford/AstraZeneca\"], [1, \"Pfizer/BioNTech\"], [3, \"Moderna, Oxford/AstraZeneca, Pfizer/BioNTech\"], [1, \"Pfizer/BioNTech\"], [3, \"Moderna, Oxford/AstraZeneca, Pfizer/BioNTech\"], [3, \"Moderna, Oxford/AstraZeneca, Pfizer/BioNTech\"], [1, \"Pfizer/ BioNTech, Sinopharm/Beijing\"], [1, \"Pfizer/BioNTech\"], [1, \"Pfizer/BioNTech\"], [1, \"Oxford/AstraZeneca\"], [3, \"Oxford/AstraZeneca, Pfizer/BioNTech, Sputnik V\"], [1, \"Oxford/AstraZeneca\"], [2, \"Sinopharm/Beijing, Sputnik V\"], [1, \"Oxford/AstraZeneca\"], [2, \"Oxford/AstraZeneca, Sinopharm/Beijing\"], [1, \"Oxford/AstraZeneca\"], [3, \"Moderna, Oxford/AstraZeneca, Pfizer/BioNTech\"], [1, \"Pfizer/BioNTech\"], [3, \"Moderna, Oxford/AstraZeneca, Pfizer/BioNTech\"], [2, \"Oxford/AstraZeneca, Pfizer/BioNTech\"], [3, \"Oxford/AstraZeneca, Sinopharm/Beijing, Sputnik V\"], [1, \"Sputnik V\"], [1, \"Sinopharm/Beijing\"], [1, \"Sinovac\"], [3, \"Moderna, Oxford/AstraZeneca, Pfizer/BioNTech\"], [2, \"Moderna, Pfizer/BioNTech\"], [1, \"Pfizer/BioNTech\"], [3, \"Moderna, Oxford/AstraZeneca, Pfizer/BioNTech\"], [2, \"EpiVacCorona, Sputnik V\"], [3, \"Moderna, Oxford/AstraZeneca, Pfizer/BioNTech\"], [1, \"Oxford/AstraZeneca\"], [1, \"Sputnik V\"], [1, \"Sinopharm/Beijing\"], [4, \"Oxford/AstraZeneca, Pfizer/BioNTech, Sinopharm/Beijing, Sputnik V\"], [2, \"Oxford/AstraZeneca, Sinopharm/Beijing\"], [1, \"Pfizer/BioNTech\"], [1, \"Pfizer/BioNTech\"], [2, \"Oxford/AstraZeneca, Pfizer/BioNTech\"], [0, \"Johnson&Johnson\"], [2, \"Oxford/AstraZeneca, Pfizer/BioNTech\"], [3, \"Moderna, Oxford/AstraZeneca, Pfizer/BioNTech\"], [2, \"Oxford/AstraZeneca, Pfizer/BioNTech\"], [2, \"Moderna, Pfizer/BioNTech\"], [1, \"Oxford/AstraZeneca\"], [1, \"Sinovac\"], [1, \"Pfizer/BioNTech\"], [1, \"Oxford/AstraZeneca\"], [5, \"Oxford/AstraZeneca, Pfizer/BioNTech, Sinopharm/Beijing, Sinopharm/Wuhan, Sputnik V\"], [2, \"Oxford/AstraZeneca, Pfizer/BioNTech\"], [2, \"Johnson&Johnson, Moderna, Pfizer/BioNTech\"], [2, \"Pfizer/BioNTech, Sinovac\"], [1, \"Sputnik V\"], [1, \"Sinopharm/Beijing\"]], \"geo\": \"geo\", \"hovertemplate\": \"<b>%{hovertext}</b><br><br>Country=%{location}<br>Different Vaccines=%{z}<br>Used Vaccines=%{customdata[1]}<extra></extra>\", \"hovertext\": [\"Albania\", \"Andorra\", \"Angola\", \"Anguilla\", \"Argentina\", \"Australia\", \"Austria\", \"Azerbaijan\", \"Bahrain\", \"Bangladesh\", \"Barbados\", \"Belarus\", \"Belgium\", \"Belize\", \"Bermuda\", \"Bolivia\", \"Brazil\", \"Bulgaria\", \"Cambodia\", \"Canada\", \"Cayman Islands\", \"Chile\", \"Colombia\", \"Costa Rica\", \"Cote d'Ivoire\", \"Croatia\", \"Cyprus\", \"Czechia\", \"Denmark\", \"Dominica\", \"Dominican Republic\", \"Ecuador\", \"El Salvador\", \"Estonia\", \"Faeroe Islands\", \"Falkland Islands\", \"Finland\", \"France\", \"Germany\", \"Ghana\", \"Gibraltar\", \"Greece\", \"Greenland\", \"Grenada\", \"Guatemala\", \"Guyana\", \"Honduras\", \"Hong Kong\", \"Hungary\", \"Iceland\", \"India\", \"Indonesia\", \"Iran\", \"Ireland\", \"Isle of Man\", \"Israel\", \"Italy\", \"Japan\", \"Jordan\", \"Kazakhstan\", \"Kenya\", \"Kuwait\", \"Latvia\", \"Lebanon\", \"Lithuania\", \"Luxembourg\", \"Macao\", \"Malaysia\", \"Malta\", \"Mauritius\", \"Mexico\", \"Moldova\", \"Montenegro\", \"Montserrat\", \"Morocco\", \"Myanmar\", \"Netherlands\", \"New Zealand\", \"Norway\", \"Oman\", \"Pakistan\", \"Paraguay\", \"Peru\", \"Philippines\", \"Poland\", \"Portugal\", \"Qatar\", \"Romania\", \"Russia\", \"Rwanda\", \"Saint Lucia\", \"San Marino\", \"Senegal\", \"Serbia\", \"Seychelles\", \"Singapore\", \"Slovakia\", \"Slovenia\", \"South Africa\", \"South Korea\", \"Spain\", \"Sweden\", \"Switzerland\", \"Trinidad and Tobago\", \"Turkey\", \"Turks and Caicos Islands\", \"Ukraine\", \"United Arab Emirates\", \"United Kingdom\", \"United States\", \"Uruguay\", \"Venezuela\", \"Zimbabwe\"], \"locationmode\": \"country names\", \"locations\": [\"Albania\", \"Andorra\", \"Angola\", \"Anguilla\", \"Argentina\", \"Australia\", \"Austria\", \"Azerbaijan\", \"Bahrain\", \"Bangladesh\", \"Barbados\", \"Belarus\", \"Belgium\", \"Belize\", \"Bermuda\", \"Bolivia\", \"Brazil\", \"Bulgaria\", \"Cambodia\", \"Canada\", \"Cayman Islands\", \"Chile\", \"Colombia\", \"Costa Rica\", \"Cote d'Ivoire\", \"Croatia\", \"Cyprus\", \"Czechia\", \"Denmark\", \"Dominica\", \"Dominican Republic\", \"Ecuador\", \"El Salvador\", \"Estonia\", \"Faeroe Islands\", \"Falkland Islands\", \"Finland\", \"France\", \"Germany\", \"Ghana\", \"Gibraltar\", \"Greece\", \"Greenland\", \"Grenada\", \"Guatemala\", \"Guyana\", \"Honduras\", \"Hong Kong\", \"Hungary\", \"Iceland\", \"India\", \"Indonesia\", \"Iran\", \"Ireland\", \"Isle of Man\", \"Israel\", \"Italy\", \"Japan\", \"Jordan\", \"Kazakhstan\", \"Kenya\", \"Kuwait\", \"Latvia\", \"Lebanon\", \"Lithuania\", \"Luxembourg\", \"Macao\", \"Malaysia\", \"Malta\", \"Mauritius\", \"Mexico\", \"Moldova\", \"Montenegro\", \"Montserrat\", \"Morocco\", \"Myanmar\", \"Netherlands\", \"New Zealand\", \"Norway\", \"Oman\", \"Pakistan\", \"Paraguay\", \"Peru\", \"Philippines\", \"Poland\", \"Portugal\", \"Qatar\", \"Romania\", \"Russia\", \"Rwanda\", \"Saint Lucia\", \"San Marino\", \"Senegal\", \"Serbia\", \"Seychelles\", \"Singapore\", \"Slovakia\", \"Slovenia\", \"South Africa\", \"South Korea\", \"Spain\", \"Sweden\", \"Switzerland\", \"Trinidad and Tobago\", \"Turkey\", \"Turks and Caicos Islands\", \"Ukraine\", \"United Arab Emirates\", \"United Kingdom\", \"United States\", \"Uruguay\", \"Venezuela\", \"Zimbabwe\"], \"name\": \"\", \"type\": \"choropleth\", \"z\": [1, 1, 1, 1, 3, 2, 3, 1, 4, 1, 1, 1, 3, 1, 1, 1, 2, 3, 1, 2, 1, 2, 2, 1, 1, 1, 1, 3, 3, 1, 1, 1, 1, 3, 2, 1, 3, 3, 3, 1, 1, 3, 1, 1, 1, 1, 1, 2, 5, 3, 2, 1, 1, 3, 2, 2, 3, 1, 2, 1, 1, 1, 3, 1, 3, 3, 1, 1, 1, 1, 3, 1, 2, 1, 2, 1, 3, 1, 3, 2, 3, 1, 1, 1, 3, 2, 1, 3, 2, 3, 1, 1, 1, 4, 2, 1, 1, 2, 0, 2, 3, 2, 2, 1, 1, 1, 1, 5, 2, 2, 2, 1, 1]}],                        {\"coloraxis\": {\"colorbar\": {\"title\": {\"text\": \"Different Vaccines\"}}, \"colorscale\": [[0.0, \"rgb(247,251,255)\"], [0.125, \"rgb(222,235,247)\"], [0.25, \"rgb(198,219,239)\"], [0.375, \"rgb(158,202,225)\"], [0.5, \"rgb(107,174,214)\"], [0.625, \"rgb(66,146,198)\"], [0.75, \"rgb(33,113,181)\"], [0.875, \"rgb(8,81,156)\"], [1.0, \"rgb(8,48,107)\"]], \"showscale\": false}, \"geo\": {\"center\": {}, \"domain\": {\"x\": [0.0, 1.0], \"y\": [0.0, 1.0]}}, \"legend\": {\"tracegroupgap\": 0}, \"margin\": {\"t\": 60}, \"template\": {\"data\": {\"bar\": [{\"error_x\": {\"color\": \"#2a3f5f\"}, \"error_y\": {\"color\": \"#2a3f5f\"}, \"marker\": {\"line\": {\"color\": \"#E5ECF6\", \"width\": 0.5}}, \"type\": \"bar\"}], \"barpolar\": [{\"marker\": {\"line\": {\"color\": \"#E5ECF6\", \"width\": 0.5}}, \"type\": \"barpolar\"}], \"carpet\": [{\"aaxis\": {\"endlinecolor\": \"#2a3f5f\", \"gridcolor\": \"white\", \"linecolor\": \"white\", \"minorgridcolor\": \"white\", \"startlinecolor\": \"#2a3f5f\"}, \"baxis\": {\"endlinecolor\": \"#2a3f5f\", \"gridcolor\": \"white\", \"linecolor\": \"white\", \"minorgridcolor\": \"white\", \"startlinecolor\": \"#2a3f5f\"}, \"type\": \"carpet\"}], \"choropleth\": [{\"colorbar\": {\"outlinewidth\": 0, \"ticks\": \"\"}, \"type\": \"choropleth\"}], \"contour\": [{\"colorbar\": {\"outlinewidth\": 0, \"ticks\": \"\"}, \"colorscale\": [[0.0, \"#0d0887\"], [0.1111111111111111, \"#46039f\"], [0.2222222222222222, \"#7201a8\"], [0.3333333333333333, \"#9c179e\"], [0.4444444444444444, \"#bd3786\"], [0.5555555555555556, \"#d8576b\"], [0.6666666666666666, \"#ed7953\"], [0.7777777777777778, \"#fb9f3a\"], [0.8888888888888888, \"#fdca26\"], [1.0, \"#f0f921\"]], \"type\": \"contour\"}], \"contourcarpet\": [{\"colorbar\": {\"outlinewidth\": 0, \"ticks\": \"\"}, \"type\": \"contourcarpet\"}], \"heatmap\": [{\"colorbar\": {\"outlinewidth\": 0, \"ticks\": \"\"}, \"colorscale\": [[0.0, \"#0d0887\"], [0.1111111111111111, \"#46039f\"], [0.2222222222222222, \"#7201a8\"], [0.3333333333333333, \"#9c179e\"], [0.4444444444444444, \"#bd3786\"], [0.5555555555555556, \"#d8576b\"], [0.6666666666666666, \"#ed7953\"], [0.7777777777777778, \"#fb9f3a\"], [0.8888888888888888, \"#fdca26\"], [1.0, \"#f0f921\"]], \"type\": \"heatmap\"}], \"heatmapgl\": [{\"colorbar\": {\"outlinewidth\": 0, \"ticks\": \"\"}, \"colorscale\": [[0.0, \"#0d0887\"], [0.1111111111111111, \"#46039f\"], [0.2222222222222222, \"#7201a8\"], [0.3333333333333333, \"#9c179e\"], [0.4444444444444444, \"#bd3786\"], [0.5555555555555556, \"#d8576b\"], [0.6666666666666666, \"#ed7953\"], [0.7777777777777778, \"#fb9f3a\"], [0.8888888888888888, \"#fdca26\"], [1.0, \"#f0f921\"]], \"type\": \"heatmapgl\"}], \"histogram\": [{\"marker\": {\"colorbar\": {\"outlinewidth\": 0, \"ticks\": \"\"}}, \"type\": \"histogram\"}], \"histogram2d\": [{\"colorbar\": {\"outlinewidth\": 0, \"ticks\": \"\"}, \"colorscale\": [[0.0, \"#0d0887\"], [0.1111111111111111, \"#46039f\"], [0.2222222222222222, \"#7201a8\"], [0.3333333333333333, \"#9c179e\"], [0.4444444444444444, \"#bd3786\"], [0.5555555555555556, \"#d8576b\"], [0.6666666666666666, \"#ed7953\"], [0.7777777777777778, \"#fb9f3a\"], [0.8888888888888888, \"#fdca26\"], [1.0, \"#f0f921\"]], \"type\": \"histogram2d\"}], \"histogram2dcontour\": [{\"colorbar\": {\"outlinewidth\": 0, \"ticks\": \"\"}, \"colorscale\": [[0.0, \"#0d0887\"], [0.1111111111111111, \"#46039f\"], [0.2222222222222222, \"#7201a8\"], [0.3333333333333333, \"#9c179e\"], [0.4444444444444444, \"#bd3786\"], [0.5555555555555556, \"#d8576b\"], [0.6666666666666666, \"#ed7953\"], [0.7777777777777778, \"#fb9f3a\"], [0.8888888888888888, \"#fdca26\"], [1.0, \"#f0f921\"]], \"type\": \"histogram2dcontour\"}], \"mesh3d\": [{\"colorbar\": {\"outlinewidth\": 0, \"ticks\": \"\"}, \"type\": \"mesh3d\"}], \"parcoords\": [{\"line\": {\"colorbar\": {\"outlinewidth\": 0, \"ticks\": \"\"}}, \"type\": \"parcoords\"}], \"pie\": [{\"automargin\": true, \"type\": \"pie\"}], \"scatter\": [{\"marker\": {\"colorbar\": {\"outlinewidth\": 0, \"ticks\": \"\"}}, \"type\": \"scatter\"}], \"scatter3d\": [{\"line\": {\"colorbar\": {\"outlinewidth\": 0, \"ticks\": \"\"}}, \"marker\": {\"colorbar\": {\"outlinewidth\": 0, \"ticks\": \"\"}}, \"type\": \"scatter3d\"}], \"scattercarpet\": [{\"marker\": {\"colorbar\": {\"outlinewidth\": 0, \"ticks\": \"\"}}, \"type\": \"scattercarpet\"}], \"scattergeo\": [{\"marker\": {\"colorbar\": {\"outlinewidth\": 0, \"ticks\": \"\"}}, \"type\": \"scattergeo\"}], \"scattergl\": [{\"marker\": {\"colorbar\": {\"outlinewidth\": 0, \"ticks\": \"\"}}, \"type\": \"scattergl\"}], \"scattermapbox\": [{\"marker\": {\"colorbar\": {\"outlinewidth\": 0, \"ticks\": \"\"}}, \"type\": \"scattermapbox\"}], \"scatterpolar\": [{\"marker\": {\"colorbar\": {\"outlinewidth\": 0, \"ticks\": \"\"}}, \"type\": \"scatterpolar\"}], \"scatterpolargl\": [{\"marker\": {\"colorbar\": {\"outlinewidth\": 0, \"ticks\": \"\"}}, \"type\": \"scatterpolargl\"}], \"scatterternary\": [{\"marker\": {\"colorbar\": {\"outlinewidth\": 0, \"ticks\": \"\"}}, \"type\": \"scatterternary\"}], \"surface\": [{\"colorbar\": {\"outlinewidth\": 0, \"ticks\": \"\"}, \"colorscale\": [[0.0, \"#0d0887\"], [0.1111111111111111, \"#46039f\"], [0.2222222222222222, \"#7201a8\"], [0.3333333333333333, \"#9c179e\"], [0.4444444444444444, \"#bd3786\"], [0.5555555555555556, \"#d8576b\"], [0.6666666666666666, \"#ed7953\"], [0.7777777777777778, \"#fb9f3a\"], [0.8888888888888888, \"#fdca26\"], [1.0, \"#f0f921\"]], \"type\": \"surface\"}], \"table\": [{\"cells\": {\"fill\": {\"color\": \"#EBF0F8\"}, \"line\": {\"color\": \"white\"}}, \"header\": {\"fill\": {\"color\": \"#C8D4E3\"}, \"line\": {\"color\": \"white\"}}, \"type\": \"table\"}]}, \"layout\": {\"annotationdefaults\": {\"arrowcolor\": \"#2a3f5f\", \"arrowhead\": 0, \"arrowwidth\": 1}, \"autotypenumbers\": \"strict\", \"coloraxis\": {\"colorbar\": {\"outlinewidth\": 0, \"ticks\": \"\"}}, \"colorscale\": {\"diverging\": [[0, \"#8e0152\"], [0.1, \"#c51b7d\"], [0.2, \"#de77ae\"], [0.3, \"#f1b6da\"], [0.4, \"#fde0ef\"], [0.5, \"#f7f7f7\"], [0.6, \"#e6f5d0\"], [0.7, \"#b8e186\"], [0.8, \"#7fbc41\"], [0.9, \"#4d9221\"], [1, \"#276419\"]], \"sequential\": [[0.0, \"#0d0887\"], [0.1111111111111111, \"#46039f\"], [0.2222222222222222, \"#7201a8\"], [0.3333333333333333, \"#9c179e\"], [0.4444444444444444, \"#bd3786\"], [0.5555555555555556, \"#d8576b\"], [0.6666666666666666, \"#ed7953\"], [0.7777777777777778, \"#fb9f3a\"], [0.8888888888888888, \"#fdca26\"], [1.0, \"#f0f921\"]], \"sequentialminus\": [[0.0, \"#0d0887\"], [0.1111111111111111, \"#46039f\"], [0.2222222222222222, \"#7201a8\"], [0.3333333333333333, \"#9c179e\"], [0.4444444444444444, \"#bd3786\"], [0.5555555555555556, \"#d8576b\"], [0.6666666666666666, \"#ed7953\"], [0.7777777777777778, \"#fb9f3a\"], [0.8888888888888888, \"#fdca26\"], [1.0, \"#f0f921\"]]}, \"colorway\": [\"#636efa\", \"#EF553B\", \"#00cc96\", \"#ab63fa\", \"#FFA15A\", \"#19d3f3\", \"#FF6692\", \"#B6E880\", \"#FF97FF\", \"#FECB52\"], \"font\": {\"color\": \"#2a3f5f\"}, \"geo\": {\"bgcolor\": \"white\", \"lakecolor\": \"white\", \"landcolor\": \"#E5ECF6\", \"showlakes\": true, \"showland\": true, \"subunitcolor\": \"white\"}, \"hoverlabel\": {\"align\": \"left\"}, \"hovermode\": \"closest\", \"mapbox\": {\"style\": \"light\"}, \"paper_bgcolor\": \"white\", \"plot_bgcolor\": \"#E5ECF6\", \"polar\": {\"angularaxis\": {\"gridcolor\": \"white\", \"linecolor\": \"white\", \"ticks\": \"\"}, \"bgcolor\": \"#E5ECF6\", \"radialaxis\": {\"gridcolor\": \"white\", \"linecolor\": \"white\", \"ticks\": \"\"}}, \"scene\": {\"xaxis\": {\"backgroundcolor\": \"#E5ECF6\", \"gridcolor\": \"white\", \"gridwidth\": 2, \"linecolor\": \"white\", \"showbackground\": true, \"ticks\": \"\", \"zerolinecolor\": \"white\"}, \"yaxis\": {\"backgroundcolor\": \"#E5ECF6\", \"gridcolor\": \"white\", \"gridwidth\": 2, \"linecolor\": \"white\", \"showbackground\": true, \"ticks\": \"\", \"zerolinecolor\": \"white\"}, \"zaxis\": {\"backgroundcolor\": \"#E5ECF6\", \"gridcolor\": \"white\", \"gridwidth\": 2, \"linecolor\": \"white\", \"showbackground\": true, \"ticks\": \"\", \"zerolinecolor\": \"white\"}}, \"shapedefaults\": {\"line\": {\"color\": \"#2a3f5f\"}}, \"ternary\": {\"aaxis\": {\"gridcolor\": \"white\", \"linecolor\": \"white\", \"ticks\": \"\"}, \"baxis\": {\"gridcolor\": \"white\", \"linecolor\": \"white\", \"ticks\": \"\"}, \"bgcolor\": \"#E5ECF6\", \"caxis\": {\"gridcolor\": \"white\", \"linecolor\": \"white\", \"ticks\": \"\"}}, \"title\": {\"x\": 0.05}, \"xaxis\": {\"automargin\": true, \"gridcolor\": \"white\", \"linecolor\": \"white\", \"ticks\": \"\", \"title\": {\"standoff\": 15}, \"zerolinecolor\": \"white\", \"zerolinewidth\": 2}, \"yaxis\": {\"automargin\": true, \"gridcolor\": \"white\", \"linecolor\": \"white\", \"ticks\": \"\", \"title\": {\"standoff\": 15}, \"zerolinecolor\": \"white\", \"zerolinewidth\": 2}}}, \"title\": {\"text\": \"Total Number of Different Vaccines Used by Countries\", \"x\": 0.5}},                        {\"responsive\": true}                    ).then(function(){\n",
       "                            \n",
       "var gd = document.getElementById('baaaa4a6-a612-4c14-af5b-62231f7d3dc3');\n",
       "var x = new MutationObserver(function (mutations, observer) {{\n",
       "        var display = window.getComputedStyle(gd).display;\n",
       "        if (!display || display === 'none') {{\n",
       "            console.log([gd, 'removed!']);\n",
       "            Plotly.purge(gd);\n",
       "            observer.disconnect();\n",
       "        }}\n",
       "}});\n",
       "\n",
       "// Listen for the removal of the full notebook cells\n",
       "var notebookContainer = gd.closest('#notebook-container');\n",
       "if (notebookContainer) {{\n",
       "    x.observe(notebookContainer, {childList: true});\n",
       "}}\n",
       "\n",
       "// Listen for the clearing of the current output cell\n",
       "var outputEl = gd.closest('.output');\n",
       "if (outputEl) {{\n",
       "    x.observe(outputEl, {childList: true});\n",
       "}}\n",
       "\n",
       "                        })                };                });            </script>        </div>"
      ]
     },
     "metadata": {},
     "output_type": "display_data"
    }
   ],
   "source": [
    "fig = px.choropleth(df_f,\n",
    "                    locations=\"country\", \n",
    "                    locationmode='country names',\n",
    "                    color=\"Different Vaccines\", \n",
    "                    hover_name=\"country\", \n",
    "                    hover_data=['Different Vaccines','vaccines'],\n",
    "                    color_continuous_scale=\"Blues\",\n",
    "                    labels={'country':'Country','vaccines':'Used Vaccines'})\n",
    "\n",
    "fig.update_layout(title=\"Total Number of Different Vaccines Used by Countries\",\n",
    "                  title_x=0.5)\n",
    "\n",
    "fig.update(layout_coloraxis_showscale=False)\n",
    "\n",
    "fig.show()"
   ]
  },
  {
   "cell_type": "markdown",
   "id": "cardiac-plain",
   "metadata": {},
   "source": [
    "### What country is vaccinated more people?"
   ]
  },
  {
   "cell_type": "code",
   "execution_count": 23,
   "id": "voluntary-genealogy",
   "metadata": {
    "scrolled": false
   },
   "outputs": [
    {
     "data": {
      "application/vnd.plotly.v1+json": {
       "config": {
        "plotlyServerURL": "https://plot.ly"
       },
       "data": [
        {
         "alignmentgroup": "True",
         "hovertemplate": "<b>%{hovertext}</b><br><br>Country=%{x}<br>People Vaccinated=%{text}<br>Log Scale=%{marker.color}<extra></extra>",
         "hovertext": [
          "United States",
          "India",
          "United Kingdom",
          "Brazil",
          "Turkey",
          "Germany",
          "Russia",
          "Israel",
          "France",
          "Chile",
          "Italy",
          "Bangladesh",
          "Morocco",
          "Indonesia",
          "Spain",
          "Mexico",
          "United Arab Emirates",
          "Poland",
          "Canada"
         ],
         "legendgroup": "",
         "marker": {
          "color": [
           26.037665836039547,
           24.53490625741717,
           24.49741575816134,
           23.021229590426035,
           22.911144900302613,
           22.543563594031912,
           22.3973411729617,
           22.29002475477184,
           22.21052836788633,
           22.1961050003232,
           22.146175850608703,
           22.008171444010866,
           22.005652986947574,
           21.92636441008452,
           21.8459509267184,
           21.781336098549946,
           21.730828325187883,
           21.463513397520764,
           21.158494433868615
          ],
          "coloraxis": "coloraxis"
         },
         "name": "",
         "offsetgroup": "",
         "orientation": "v",
         "showlegend": false,
         "text": [
          68884011,
          24307635,
          23684103,
          8512960,
          7887544,
          6113484,
          5524226,
          5128212,
          4853278,
          4804999,
          4641551,
          4218127,
          4210770,
          3985596,
          3769523,
          3604420,
          3480415,
          2891753,
          2340676
         ],
         "textposition": "outside",
         "texttemplate": "%{text:.2s}",
         "type": "bar",
         "x": [
          "United States",
          "India",
          "United Kingdom",
          "Brazil",
          "Turkey",
          "Germany",
          "Russia",
          "Israel",
          "France",
          "Chile",
          "Italy",
          "Bangladesh",
          "Morocco",
          "Indonesia",
          "Spain",
          "Mexico",
          "United Arab Emirates",
          "Poland",
          "Canada"
         ],
         "xaxis": "x",
         "y": [
          68884011,
          24307635,
          23684103,
          8512960,
          7887544,
          6113484,
          5524226,
          5128212,
          4853278,
          4804999,
          4641551,
          4218127,
          4210770,
          3985596,
          3769523,
          3604420,
          3480415,
          2891753,
          2340676
         ],
         "yaxis": "y"
        }
       ],
       "layout": {
        "barmode": "relative",
        "coloraxis": {
         "colorbar": {
          "title": {
           "text": "Log Scale"
          }
         },
         "colorscale": [
          [
           0,
           "rgb(228, 241, 225)"
          ],
          [
           0.16666666666666666,
           "rgb(180, 217, 204)"
          ],
          [
           0.3333333333333333,
           "rgb(137, 192, 182)"
          ],
          [
           0.5,
           "rgb(99, 166, 160)"
          ],
          [
           0.6666666666666666,
           "rgb(68, 140, 138)"
          ],
          [
           0.8333333333333334,
           "rgb(40, 114, 116)"
          ],
          [
           1,
           "rgb(13, 88, 95)"
          ]
         ],
         "showscale": false
        },
        "height": 500,
        "legend": {
         "tracegroupgap": 0
        },
        "margin": {
         "t": 60
        },
        "paper_bgcolor": "rgba(0, 0, 0, 0)",
        "plot_bgcolor": "rgba(0, 0, 0, 0)",
        "template": {
         "data": {
          "bar": [
           {
            "error_x": {
             "color": "#2a3f5f"
            },
            "error_y": {
             "color": "#2a3f5f"
            },
            "marker": {
             "line": {
              "color": "#E5ECF6",
              "width": 0.5
             }
            },
            "type": "bar"
           }
          ],
          "barpolar": [
           {
            "marker": {
             "line": {
              "color": "#E5ECF6",
              "width": 0.5
             }
            },
            "type": "barpolar"
           }
          ],
          "carpet": [
           {
            "aaxis": {
             "endlinecolor": "#2a3f5f",
             "gridcolor": "white",
             "linecolor": "white",
             "minorgridcolor": "white",
             "startlinecolor": "#2a3f5f"
            },
            "baxis": {
             "endlinecolor": "#2a3f5f",
             "gridcolor": "white",
             "linecolor": "white",
             "minorgridcolor": "white",
             "startlinecolor": "#2a3f5f"
            },
            "type": "carpet"
           }
          ],
          "choropleth": [
           {
            "colorbar": {
             "outlinewidth": 0,
             "ticks": ""
            },
            "type": "choropleth"
           }
          ],
          "contour": [
           {
            "colorbar": {
             "outlinewidth": 0,
             "ticks": ""
            },
            "colorscale": [
             [
              0,
              "#0d0887"
             ],
             [
              0.1111111111111111,
              "#46039f"
             ],
             [
              0.2222222222222222,
              "#7201a8"
             ],
             [
              0.3333333333333333,
              "#9c179e"
             ],
             [
              0.4444444444444444,
              "#bd3786"
             ],
             [
              0.5555555555555556,
              "#d8576b"
             ],
             [
              0.6666666666666666,
              "#ed7953"
             ],
             [
              0.7777777777777778,
              "#fb9f3a"
             ],
             [
              0.8888888888888888,
              "#fdca26"
             ],
             [
              1,
              "#f0f921"
             ]
            ],
            "type": "contour"
           }
          ],
          "contourcarpet": [
           {
            "colorbar": {
             "outlinewidth": 0,
             "ticks": ""
            },
            "type": "contourcarpet"
           }
          ],
          "heatmap": [
           {
            "colorbar": {
             "outlinewidth": 0,
             "ticks": ""
            },
            "colorscale": [
             [
              0,
              "#0d0887"
             ],
             [
              0.1111111111111111,
              "#46039f"
             ],
             [
              0.2222222222222222,
              "#7201a8"
             ],
             [
              0.3333333333333333,
              "#9c179e"
             ],
             [
              0.4444444444444444,
              "#bd3786"
             ],
             [
              0.5555555555555556,
              "#d8576b"
             ],
             [
              0.6666666666666666,
              "#ed7953"
             ],
             [
              0.7777777777777778,
              "#fb9f3a"
             ],
             [
              0.8888888888888888,
              "#fdca26"
             ],
             [
              1,
              "#f0f921"
             ]
            ],
            "type": "heatmap"
           }
          ],
          "heatmapgl": [
           {
            "colorbar": {
             "outlinewidth": 0,
             "ticks": ""
            },
            "colorscale": [
             [
              0,
              "#0d0887"
             ],
             [
              0.1111111111111111,
              "#46039f"
             ],
             [
              0.2222222222222222,
              "#7201a8"
             ],
             [
              0.3333333333333333,
              "#9c179e"
             ],
             [
              0.4444444444444444,
              "#bd3786"
             ],
             [
              0.5555555555555556,
              "#d8576b"
             ],
             [
              0.6666666666666666,
              "#ed7953"
             ],
             [
              0.7777777777777778,
              "#fb9f3a"
             ],
             [
              0.8888888888888888,
              "#fdca26"
             ],
             [
              1,
              "#f0f921"
             ]
            ],
            "type": "heatmapgl"
           }
          ],
          "histogram": [
           {
            "marker": {
             "colorbar": {
              "outlinewidth": 0,
              "ticks": ""
             }
            },
            "type": "histogram"
           }
          ],
          "histogram2d": [
           {
            "colorbar": {
             "outlinewidth": 0,
             "ticks": ""
            },
            "colorscale": [
             [
              0,
              "#0d0887"
             ],
             [
              0.1111111111111111,
              "#46039f"
             ],
             [
              0.2222222222222222,
              "#7201a8"
             ],
             [
              0.3333333333333333,
              "#9c179e"
             ],
             [
              0.4444444444444444,
              "#bd3786"
             ],
             [
              0.5555555555555556,
              "#d8576b"
             ],
             [
              0.6666666666666666,
              "#ed7953"
             ],
             [
              0.7777777777777778,
              "#fb9f3a"
             ],
             [
              0.8888888888888888,
              "#fdca26"
             ],
             [
              1,
              "#f0f921"
             ]
            ],
            "type": "histogram2d"
           }
          ],
          "histogram2dcontour": [
           {
            "colorbar": {
             "outlinewidth": 0,
             "ticks": ""
            },
            "colorscale": [
             [
              0,
              "#0d0887"
             ],
             [
              0.1111111111111111,
              "#46039f"
             ],
             [
              0.2222222222222222,
              "#7201a8"
             ],
             [
              0.3333333333333333,
              "#9c179e"
             ],
             [
              0.4444444444444444,
              "#bd3786"
             ],
             [
              0.5555555555555556,
              "#d8576b"
             ],
             [
              0.6666666666666666,
              "#ed7953"
             ],
             [
              0.7777777777777778,
              "#fb9f3a"
             ],
             [
              0.8888888888888888,
              "#fdca26"
             ],
             [
              1,
              "#f0f921"
             ]
            ],
            "type": "histogram2dcontour"
           }
          ],
          "mesh3d": [
           {
            "colorbar": {
             "outlinewidth": 0,
             "ticks": ""
            },
            "type": "mesh3d"
           }
          ],
          "parcoords": [
           {
            "line": {
             "colorbar": {
              "outlinewidth": 0,
              "ticks": ""
             }
            },
            "type": "parcoords"
           }
          ],
          "pie": [
           {
            "automargin": true,
            "type": "pie"
           }
          ],
          "scatter": [
           {
            "marker": {
             "colorbar": {
              "outlinewidth": 0,
              "ticks": ""
             }
            },
            "type": "scatter"
           }
          ],
          "scatter3d": [
           {
            "line": {
             "colorbar": {
              "outlinewidth": 0,
              "ticks": ""
             }
            },
            "marker": {
             "colorbar": {
              "outlinewidth": 0,
              "ticks": ""
             }
            },
            "type": "scatter3d"
           }
          ],
          "scattercarpet": [
           {
            "marker": {
             "colorbar": {
              "outlinewidth": 0,
              "ticks": ""
             }
            },
            "type": "scattercarpet"
           }
          ],
          "scattergeo": [
           {
            "marker": {
             "colorbar": {
              "outlinewidth": 0,
              "ticks": ""
             }
            },
            "type": "scattergeo"
           }
          ],
          "scattergl": [
           {
            "marker": {
             "colorbar": {
              "outlinewidth": 0,
              "ticks": ""
             }
            },
            "type": "scattergl"
           }
          ],
          "scattermapbox": [
           {
            "marker": {
             "colorbar": {
              "outlinewidth": 0,
              "ticks": ""
             }
            },
            "type": "scattermapbox"
           }
          ],
          "scatterpolar": [
           {
            "marker": {
             "colorbar": {
              "outlinewidth": 0,
              "ticks": ""
             }
            },
            "type": "scatterpolar"
           }
          ],
          "scatterpolargl": [
           {
            "marker": {
             "colorbar": {
              "outlinewidth": 0,
              "ticks": ""
             }
            },
            "type": "scatterpolargl"
           }
          ],
          "scatterternary": [
           {
            "marker": {
             "colorbar": {
              "outlinewidth": 0,
              "ticks": ""
             }
            },
            "type": "scatterternary"
           }
          ],
          "surface": [
           {
            "colorbar": {
             "outlinewidth": 0,
             "ticks": ""
            },
            "colorscale": [
             [
              0,
              "#0d0887"
             ],
             [
              0.1111111111111111,
              "#46039f"
             ],
             [
              0.2222222222222222,
              "#7201a8"
             ],
             [
              0.3333333333333333,
              "#9c179e"
             ],
             [
              0.4444444444444444,
              "#bd3786"
             ],
             [
              0.5555555555555556,
              "#d8576b"
             ],
             [
              0.6666666666666666,
              "#ed7953"
             ],
             [
              0.7777777777777778,
              "#fb9f3a"
             ],
             [
              0.8888888888888888,
              "#fdca26"
             ],
             [
              1,
              "#f0f921"
             ]
            ],
            "type": "surface"
           }
          ],
          "table": [
           {
            "cells": {
             "fill": {
              "color": "#EBF0F8"
             },
             "line": {
              "color": "white"
             }
            },
            "header": {
             "fill": {
              "color": "#C8D4E3"
             },
             "line": {
              "color": "white"
             }
            },
            "type": "table"
           }
          ]
         },
         "layout": {
          "annotationdefaults": {
           "arrowcolor": "#2a3f5f",
           "arrowhead": 0,
           "arrowwidth": 1
          },
          "autotypenumbers": "strict",
          "coloraxis": {
           "colorbar": {
            "outlinewidth": 0,
            "ticks": ""
           }
          },
          "colorscale": {
           "diverging": [
            [
             0,
             "#8e0152"
            ],
            [
             0.1,
             "#c51b7d"
            ],
            [
             0.2,
             "#de77ae"
            ],
            [
             0.3,
             "#f1b6da"
            ],
            [
             0.4,
             "#fde0ef"
            ],
            [
             0.5,
             "#f7f7f7"
            ],
            [
             0.6,
             "#e6f5d0"
            ],
            [
             0.7,
             "#b8e186"
            ],
            [
             0.8,
             "#7fbc41"
            ],
            [
             0.9,
             "#4d9221"
            ],
            [
             1,
             "#276419"
            ]
           ],
           "sequential": [
            [
             0,
             "#0d0887"
            ],
            [
             0.1111111111111111,
             "#46039f"
            ],
            [
             0.2222222222222222,
             "#7201a8"
            ],
            [
             0.3333333333333333,
             "#9c179e"
            ],
            [
             0.4444444444444444,
             "#bd3786"
            ],
            [
             0.5555555555555556,
             "#d8576b"
            ],
            [
             0.6666666666666666,
             "#ed7953"
            ],
            [
             0.7777777777777778,
             "#fb9f3a"
            ],
            [
             0.8888888888888888,
             "#fdca26"
            ],
            [
             1,
             "#f0f921"
            ]
           ],
           "sequentialminus": [
            [
             0,
             "#0d0887"
            ],
            [
             0.1111111111111111,
             "#46039f"
            ],
            [
             0.2222222222222222,
             "#7201a8"
            ],
            [
             0.3333333333333333,
             "#9c179e"
            ],
            [
             0.4444444444444444,
             "#bd3786"
            ],
            [
             0.5555555555555556,
             "#d8576b"
            ],
            [
             0.6666666666666666,
             "#ed7953"
            ],
            [
             0.7777777777777778,
             "#fb9f3a"
            ],
            [
             0.8888888888888888,
             "#fdca26"
            ],
            [
             1,
             "#f0f921"
            ]
           ]
          },
          "colorway": [
           "#636efa",
           "#EF553B",
           "#00cc96",
           "#ab63fa",
           "#FFA15A",
           "#19d3f3",
           "#FF6692",
           "#B6E880",
           "#FF97FF",
           "#FECB52"
          ],
          "font": {
           "color": "#2a3f5f"
          },
          "geo": {
           "bgcolor": "white",
           "lakecolor": "white",
           "landcolor": "#E5ECF6",
           "showlakes": true,
           "showland": true,
           "subunitcolor": "white"
          },
          "hoverlabel": {
           "align": "left"
          },
          "hovermode": "closest",
          "mapbox": {
           "style": "light"
          },
          "paper_bgcolor": "white",
          "plot_bgcolor": "#E5ECF6",
          "polar": {
           "angularaxis": {
            "gridcolor": "white",
            "linecolor": "white",
            "ticks": ""
           },
           "bgcolor": "#E5ECF6",
           "radialaxis": {
            "gridcolor": "white",
            "linecolor": "white",
            "ticks": ""
           }
          },
          "scene": {
           "xaxis": {
            "backgroundcolor": "#E5ECF6",
            "gridcolor": "white",
            "gridwidth": 2,
            "linecolor": "white",
            "showbackground": true,
            "ticks": "",
            "zerolinecolor": "white"
           },
           "yaxis": {
            "backgroundcolor": "#E5ECF6",
            "gridcolor": "white",
            "gridwidth": 2,
            "linecolor": "white",
            "showbackground": true,
            "ticks": "",
            "zerolinecolor": "white"
           },
           "zaxis": {
            "backgroundcolor": "#E5ECF6",
            "gridcolor": "white",
            "gridwidth": 2,
            "linecolor": "white",
            "showbackground": true,
            "ticks": "",
            "zerolinecolor": "white"
           }
          },
          "shapedefaults": {
           "line": {
            "color": "#2a3f5f"
           }
          },
          "ternary": {
           "aaxis": {
            "gridcolor": "white",
            "linecolor": "white",
            "ticks": ""
           },
           "baxis": {
            "gridcolor": "white",
            "linecolor": "white",
            "ticks": ""
           },
           "bgcolor": "#E5ECF6",
           "caxis": {
            "gridcolor": "white",
            "linecolor": "white",
            "ticks": ""
           }
          },
          "title": {
           "x": 0.05
          },
          "xaxis": {
           "automargin": true,
           "gridcolor": "white",
           "linecolor": "white",
           "ticks": "",
           "title": {
            "standoff": 15
           },
           "zerolinecolor": "white",
           "zerolinewidth": 2
          },
          "yaxis": {
           "automargin": true,
           "gridcolor": "white",
           "linecolor": "white",
           "ticks": "",
           "title": {
            "standoff": 15
           },
           "zerolinecolor": "white",
           "zerolinewidth": 2
          }
         }
        },
        "title": {
         "text": "Total Vaccinated People by Top 20 Countries",
         "x": 0.5
        },
        "uniformtext": {
         "minsize": 8,
         "mode": "hide"
        },
        "xaxis": {
         "anchor": "y",
         "domain": [
          0,
          1
         ],
         "tickangle": -45,
         "title": {
          "text": "Country"
         }
        },
        "yaxis": {
         "anchor": "x",
         "domain": [
          0,
          1
         ],
         "title": {
          "text": "People Vaccinated"
         }
        }
       }
      },
      "text/html": [
       "<div>                            <div id=\"32fecae4-5738-47fe-909f-afb7d8032c42\" class=\"plotly-graph-div\" style=\"height:500px; width:100%;\"></div>            <script type=\"text/javascript\">                require([\"plotly\"], function(Plotly) {                    window.PLOTLYENV=window.PLOTLYENV || {};                                    if (document.getElementById(\"32fecae4-5738-47fe-909f-afb7d8032c42\")) {                    Plotly.newPlot(                        \"32fecae4-5738-47fe-909f-afb7d8032c42\",                        [{\"alignmentgroup\": \"True\", \"hovertemplate\": \"<b>%{hovertext}</b><br><br>Country=%{x}<br>People Vaccinated=%{text}<br>Log Scale=%{marker.color}<extra></extra>\", \"hovertext\": [\"United States\", \"India\", \"United Kingdom\", \"Brazil\", \"Turkey\", \"Germany\", \"Russia\", \"Israel\", \"France\", \"Chile\", \"Italy\", \"Bangladesh\", \"Morocco\", \"Indonesia\", \"Spain\", \"Mexico\", \"United Arab Emirates\", \"Poland\", \"Canada\"], \"legendgroup\": \"\", \"marker\": {\"color\": [26.037665836039547, 24.53490625741717, 24.49741575816134, 23.021229590426035, 22.911144900302613, 22.543563594031912, 22.3973411729617, 22.29002475477184, 22.21052836788633, 22.1961050003232, 22.146175850608703, 22.008171444010866, 22.005652986947574, 21.92636441008452, 21.8459509267184, 21.781336098549946, 21.730828325187883, 21.463513397520764, 21.158494433868615], \"coloraxis\": \"coloraxis\"}, \"name\": \"\", \"offsetgroup\": \"\", \"orientation\": \"v\", \"showlegend\": false, \"text\": [68884011.0, 24307635.0, 23684103.0, 8512960.0, 7887544.0, 6113484.0, 5524226.0, 5128212.0, 4853278.0, 4804999.0, 4641551.0, 4218127.0, 4210770.0, 3985596.0, 3769523.0, 3604420.0, 3480415.0, 2891753.0, 2340676.0], \"textposition\": \"outside\", \"texttemplate\": \"%{text:.2s}\", \"type\": \"bar\", \"x\": [\"United States\", \"India\", \"United Kingdom\", \"Brazil\", \"Turkey\", \"Germany\", \"Russia\", \"Israel\", \"France\", \"Chile\", \"Italy\", \"Bangladesh\", \"Morocco\", \"Indonesia\", \"Spain\", \"Mexico\", \"United Arab Emirates\", \"Poland\", \"Canada\"], \"xaxis\": \"x\", \"y\": [68884011.0, 24307635.0, 23684103.0, 8512960.0, 7887544.0, 6113484.0, 5524226.0, 5128212.0, 4853278.0, 4804999.0, 4641551.0, 4218127.0, 4210770.0, 3985596.0, 3769523.0, 3604420.0, 3480415.0, 2891753.0, 2340676.0], \"yaxis\": \"y\"}],                        {\"barmode\": \"relative\", \"coloraxis\": {\"colorbar\": {\"title\": {\"text\": \"Log Scale\"}}, \"colorscale\": [[0.0, \"rgb(228, 241, 225)\"], [0.16666666666666666, \"rgb(180, 217, 204)\"], [0.3333333333333333, \"rgb(137, 192, 182)\"], [0.5, \"rgb(99, 166, 160)\"], [0.6666666666666666, \"rgb(68, 140, 138)\"], [0.8333333333333334, \"rgb(40, 114, 116)\"], [1.0, \"rgb(13, 88, 95)\"]], \"showscale\": false}, \"height\": 500, \"legend\": {\"tracegroupgap\": 0}, \"margin\": {\"t\": 60}, \"paper_bgcolor\": \"rgba(0, 0, 0, 0)\", \"plot_bgcolor\": \"rgba(0, 0, 0, 0)\", \"template\": {\"data\": {\"bar\": [{\"error_x\": {\"color\": \"#2a3f5f\"}, \"error_y\": {\"color\": \"#2a3f5f\"}, \"marker\": {\"line\": {\"color\": \"#E5ECF6\", \"width\": 0.5}}, \"type\": \"bar\"}], \"barpolar\": [{\"marker\": {\"line\": {\"color\": \"#E5ECF6\", \"width\": 0.5}}, \"type\": \"barpolar\"}], \"carpet\": [{\"aaxis\": {\"endlinecolor\": \"#2a3f5f\", \"gridcolor\": \"white\", \"linecolor\": \"white\", \"minorgridcolor\": \"white\", \"startlinecolor\": \"#2a3f5f\"}, \"baxis\": {\"endlinecolor\": \"#2a3f5f\", \"gridcolor\": \"white\", \"linecolor\": \"white\", \"minorgridcolor\": \"white\", \"startlinecolor\": \"#2a3f5f\"}, \"type\": \"carpet\"}], \"choropleth\": [{\"colorbar\": {\"outlinewidth\": 0, \"ticks\": \"\"}, \"type\": \"choropleth\"}], \"contour\": [{\"colorbar\": {\"outlinewidth\": 0, \"ticks\": \"\"}, \"colorscale\": [[0.0, \"#0d0887\"], [0.1111111111111111, \"#46039f\"], [0.2222222222222222, \"#7201a8\"], [0.3333333333333333, \"#9c179e\"], [0.4444444444444444, \"#bd3786\"], [0.5555555555555556, \"#d8576b\"], [0.6666666666666666, \"#ed7953\"], [0.7777777777777778, \"#fb9f3a\"], [0.8888888888888888, \"#fdca26\"], [1.0, \"#f0f921\"]], \"type\": \"contour\"}], \"contourcarpet\": [{\"colorbar\": {\"outlinewidth\": 0, \"ticks\": \"\"}, \"type\": \"contourcarpet\"}], \"heatmap\": [{\"colorbar\": {\"outlinewidth\": 0, \"ticks\": \"\"}, \"colorscale\": [[0.0, \"#0d0887\"], [0.1111111111111111, \"#46039f\"], [0.2222222222222222, \"#7201a8\"], [0.3333333333333333, \"#9c179e\"], [0.4444444444444444, \"#bd3786\"], [0.5555555555555556, \"#d8576b\"], [0.6666666666666666, \"#ed7953\"], [0.7777777777777778, \"#fb9f3a\"], [0.8888888888888888, \"#fdca26\"], [1.0, \"#f0f921\"]], \"type\": \"heatmap\"}], \"heatmapgl\": [{\"colorbar\": {\"outlinewidth\": 0, \"ticks\": \"\"}, \"colorscale\": [[0.0, \"#0d0887\"], [0.1111111111111111, \"#46039f\"], [0.2222222222222222, \"#7201a8\"], [0.3333333333333333, \"#9c179e\"], [0.4444444444444444, \"#bd3786\"], [0.5555555555555556, \"#d8576b\"], [0.6666666666666666, \"#ed7953\"], [0.7777777777777778, \"#fb9f3a\"], [0.8888888888888888, \"#fdca26\"], [1.0, \"#f0f921\"]], \"type\": \"heatmapgl\"}], \"histogram\": [{\"marker\": {\"colorbar\": {\"outlinewidth\": 0, \"ticks\": \"\"}}, \"type\": \"histogram\"}], \"histogram2d\": [{\"colorbar\": {\"outlinewidth\": 0, \"ticks\": \"\"}, \"colorscale\": [[0.0, \"#0d0887\"], [0.1111111111111111, \"#46039f\"], [0.2222222222222222, \"#7201a8\"], [0.3333333333333333, \"#9c179e\"], [0.4444444444444444, \"#bd3786\"], [0.5555555555555556, \"#d8576b\"], [0.6666666666666666, \"#ed7953\"], [0.7777777777777778, \"#fb9f3a\"], [0.8888888888888888, \"#fdca26\"], [1.0, \"#f0f921\"]], \"type\": \"histogram2d\"}], \"histogram2dcontour\": [{\"colorbar\": {\"outlinewidth\": 0, \"ticks\": \"\"}, \"colorscale\": [[0.0, \"#0d0887\"], [0.1111111111111111, \"#46039f\"], [0.2222222222222222, \"#7201a8\"], [0.3333333333333333, \"#9c179e\"], [0.4444444444444444, \"#bd3786\"], [0.5555555555555556, \"#d8576b\"], [0.6666666666666666, \"#ed7953\"], [0.7777777777777778, \"#fb9f3a\"], [0.8888888888888888, \"#fdca26\"], [1.0, \"#f0f921\"]], \"type\": \"histogram2dcontour\"}], \"mesh3d\": [{\"colorbar\": {\"outlinewidth\": 0, \"ticks\": \"\"}, \"type\": \"mesh3d\"}], \"parcoords\": [{\"line\": {\"colorbar\": {\"outlinewidth\": 0, \"ticks\": \"\"}}, \"type\": \"parcoords\"}], \"pie\": [{\"automargin\": true, \"type\": \"pie\"}], \"scatter\": [{\"marker\": {\"colorbar\": {\"outlinewidth\": 0, \"ticks\": \"\"}}, \"type\": \"scatter\"}], \"scatter3d\": [{\"line\": {\"colorbar\": {\"outlinewidth\": 0, \"ticks\": \"\"}}, \"marker\": {\"colorbar\": {\"outlinewidth\": 0, \"ticks\": \"\"}}, \"type\": \"scatter3d\"}], \"scattercarpet\": [{\"marker\": {\"colorbar\": {\"outlinewidth\": 0, \"ticks\": \"\"}}, \"type\": \"scattercarpet\"}], \"scattergeo\": [{\"marker\": {\"colorbar\": {\"outlinewidth\": 0, \"ticks\": \"\"}}, \"type\": \"scattergeo\"}], \"scattergl\": [{\"marker\": {\"colorbar\": {\"outlinewidth\": 0, \"ticks\": \"\"}}, \"type\": \"scattergl\"}], \"scattermapbox\": [{\"marker\": {\"colorbar\": {\"outlinewidth\": 0, \"ticks\": \"\"}}, \"type\": \"scattermapbox\"}], \"scatterpolar\": [{\"marker\": {\"colorbar\": {\"outlinewidth\": 0, \"ticks\": \"\"}}, \"type\": \"scatterpolar\"}], \"scatterpolargl\": [{\"marker\": {\"colorbar\": {\"outlinewidth\": 0, \"ticks\": \"\"}}, \"type\": \"scatterpolargl\"}], \"scatterternary\": [{\"marker\": {\"colorbar\": {\"outlinewidth\": 0, \"ticks\": \"\"}}, \"type\": \"scatterternary\"}], \"surface\": [{\"colorbar\": {\"outlinewidth\": 0, \"ticks\": \"\"}, \"colorscale\": [[0.0, \"#0d0887\"], [0.1111111111111111, \"#46039f\"], [0.2222222222222222, \"#7201a8\"], [0.3333333333333333, \"#9c179e\"], [0.4444444444444444, \"#bd3786\"], [0.5555555555555556, \"#d8576b\"], [0.6666666666666666, \"#ed7953\"], [0.7777777777777778, \"#fb9f3a\"], [0.8888888888888888, \"#fdca26\"], [1.0, \"#f0f921\"]], \"type\": \"surface\"}], \"table\": [{\"cells\": {\"fill\": {\"color\": \"#EBF0F8\"}, \"line\": {\"color\": \"white\"}}, \"header\": {\"fill\": {\"color\": \"#C8D4E3\"}, \"line\": {\"color\": \"white\"}}, \"type\": \"table\"}]}, \"layout\": {\"annotationdefaults\": {\"arrowcolor\": \"#2a3f5f\", \"arrowhead\": 0, \"arrowwidth\": 1}, \"autotypenumbers\": \"strict\", \"coloraxis\": {\"colorbar\": {\"outlinewidth\": 0, \"ticks\": \"\"}}, \"colorscale\": {\"diverging\": [[0, \"#8e0152\"], [0.1, \"#c51b7d\"], [0.2, \"#de77ae\"], [0.3, \"#f1b6da\"], [0.4, \"#fde0ef\"], [0.5, \"#f7f7f7\"], [0.6, \"#e6f5d0\"], [0.7, \"#b8e186\"], [0.8, \"#7fbc41\"], [0.9, \"#4d9221\"], [1, \"#276419\"]], \"sequential\": [[0.0, \"#0d0887\"], [0.1111111111111111, \"#46039f\"], [0.2222222222222222, \"#7201a8\"], [0.3333333333333333, \"#9c179e\"], [0.4444444444444444, \"#bd3786\"], [0.5555555555555556, \"#d8576b\"], [0.6666666666666666, \"#ed7953\"], [0.7777777777777778, \"#fb9f3a\"], [0.8888888888888888, \"#fdca26\"], [1.0, \"#f0f921\"]], \"sequentialminus\": [[0.0, \"#0d0887\"], [0.1111111111111111, \"#46039f\"], [0.2222222222222222, \"#7201a8\"], [0.3333333333333333, \"#9c179e\"], [0.4444444444444444, \"#bd3786\"], [0.5555555555555556, \"#d8576b\"], [0.6666666666666666, \"#ed7953\"], [0.7777777777777778, \"#fb9f3a\"], [0.8888888888888888, \"#fdca26\"], [1.0, \"#f0f921\"]]}, \"colorway\": [\"#636efa\", \"#EF553B\", \"#00cc96\", \"#ab63fa\", \"#FFA15A\", \"#19d3f3\", \"#FF6692\", \"#B6E880\", \"#FF97FF\", \"#FECB52\"], \"font\": {\"color\": \"#2a3f5f\"}, \"geo\": {\"bgcolor\": \"white\", \"lakecolor\": \"white\", \"landcolor\": \"#E5ECF6\", \"showlakes\": true, \"showland\": true, \"subunitcolor\": \"white\"}, \"hoverlabel\": {\"align\": \"left\"}, \"hovermode\": \"closest\", \"mapbox\": {\"style\": \"light\"}, \"paper_bgcolor\": \"white\", \"plot_bgcolor\": \"#E5ECF6\", \"polar\": {\"angularaxis\": {\"gridcolor\": \"white\", \"linecolor\": \"white\", \"ticks\": \"\"}, \"bgcolor\": \"#E5ECF6\", \"radialaxis\": {\"gridcolor\": \"white\", \"linecolor\": \"white\", \"ticks\": \"\"}}, \"scene\": {\"xaxis\": {\"backgroundcolor\": \"#E5ECF6\", \"gridcolor\": \"white\", \"gridwidth\": 2, \"linecolor\": \"white\", \"showbackground\": true, \"ticks\": \"\", \"zerolinecolor\": \"white\"}, \"yaxis\": {\"backgroundcolor\": \"#E5ECF6\", \"gridcolor\": \"white\", \"gridwidth\": 2, \"linecolor\": \"white\", \"showbackground\": true, \"ticks\": \"\", \"zerolinecolor\": \"white\"}, \"zaxis\": {\"backgroundcolor\": \"#E5ECF6\", \"gridcolor\": \"white\", \"gridwidth\": 2, \"linecolor\": \"white\", \"showbackground\": true, \"ticks\": \"\", \"zerolinecolor\": \"white\"}}, \"shapedefaults\": {\"line\": {\"color\": \"#2a3f5f\"}}, \"ternary\": {\"aaxis\": {\"gridcolor\": \"white\", \"linecolor\": \"white\", \"ticks\": \"\"}, \"baxis\": {\"gridcolor\": \"white\", \"linecolor\": \"white\", \"ticks\": \"\"}, \"bgcolor\": \"#E5ECF6\", \"caxis\": {\"gridcolor\": \"white\", \"linecolor\": \"white\", \"ticks\": \"\"}}, \"title\": {\"x\": 0.05}, \"xaxis\": {\"automargin\": true, \"gridcolor\": \"white\", \"linecolor\": \"white\", \"ticks\": \"\", \"title\": {\"standoff\": 15}, \"zerolinecolor\": \"white\", \"zerolinewidth\": 2}, \"yaxis\": {\"automargin\": true, \"gridcolor\": \"white\", \"linecolor\": \"white\", \"ticks\": \"\", \"title\": {\"standoff\": 15}, \"zerolinecolor\": \"white\", \"zerolinewidth\": 2}}}, \"title\": {\"text\": \"Total Vaccinated People by Top 20 Countries\", \"x\": 0.5}, \"uniformtext\": {\"minsize\": 8, \"mode\": \"hide\"}, \"xaxis\": {\"anchor\": \"y\", \"domain\": [0.0, 1.0], \"tickangle\": -45, \"title\": {\"text\": \"Country\"}}, \"yaxis\": {\"anchor\": \"x\", \"domain\": [0.0, 1.0], \"title\": {\"text\": \"People Vaccinated\"}}},                        {\"responsive\": true}                    ).then(function(){\n",
       "                            \n",
       "var gd = document.getElementById('32fecae4-5738-47fe-909f-afb7d8032c42');\n",
       "var x = new MutationObserver(function (mutations, observer) {{\n",
       "        var display = window.getComputedStyle(gd).display;\n",
       "        if (!display || display === 'none') {{\n",
       "            console.log([gd, 'removed!']);\n",
       "            Plotly.purge(gd);\n",
       "            observer.disconnect();\n",
       "        }}\n",
       "}});\n",
       "\n",
       "// Listen for the removal of the full notebook cells\n",
       "var notebookContainer = gd.closest('#notebook-container');\n",
       "if (notebookContainer) {{\n",
       "    x.observe(notebookContainer, {childList: true});\n",
       "}}\n",
       "\n",
       "// Listen for the clearing of the current output cell\n",
       "var outputEl = gd.closest('.output');\n",
       "if (outputEl) {{\n",
       "    x.observe(outputEl, {childList: true});\n",
       "}}\n",
       "\n",
       "                        })                };                });            </script>        </div>"
      ]
     },
     "metadata": {},
     "output_type": "display_data"
    }
   ],
   "source": [
    "# Sort data frame by total_vaccinations\n",
    "df_f_sorted = df_f.sort_values('people_vaccinated', ascending = False)\n",
    "\n",
    "# Select first 10 rows\n",
    "df_f_sorted = df_f_sorted.iloc[0:19,:]\n",
    "\n",
    "# Plot the bar chart\n",
    "fig = px.bar(df_f_sorted,\n",
    "              x = 'country',\n",
    "              y = 'people_vaccinated',\n",
    "              color='Log Scale',\n",
    "              hover_name = 'country',\n",
    "              hover_data = ['people_vaccinated'],\n",
    "              color_continuous_scale = 'mint',\n",
    "              labels = {'country':'Country','people_vaccinated':'People Vaccinated'},\n",
    "              height=500,\n",
    "              text='people_vaccinated')\n",
    "\n",
    "fig.update_layout(uniformtext_minsize = 15,\n",
    "                   xaxis_tickangle = -45,\n",
    "                   title = 'Total Vaccinated People by Top 20 Countries',\n",
    "                   title_x = 0.5)\n",
    "\n",
    "fig.update_traces(texttemplate='%{text:.2s}', textposition='outside')\n",
    "fig.update_layout(uniformtext_minsize=8, uniformtext_mode='hide')\n",
    "fig.update_layout({'plot_bgcolor': 'rgba(0, 0, 0, 0)', 'paper_bgcolor': 'rgba(0, 0, 0, 0)',})\n",
    "\n",
    "fig.update(layout_coloraxis_showscale=False)\n",
    "\n",
    "fig.show()"
   ]
  },
  {
   "cell_type": "markdown",
   "id": "early-cleaner",
   "metadata": {},
   "source": [
    "### More population, more people to vaccinate\n",
    "\n",
    "United States are far above most of the countries with almost 70M people vaccinated. It is followed by India, UK, Brazil and Turkey. Given most of these countries have the highest population in the world, it is not suprising they have higher number of people vaccinated compared to the rest."
   ]
  },
  {
   "cell_type": "code",
   "execution_count": 24,
   "id": "empirical-behalf",
   "metadata": {
    "scrolled": false
   },
   "outputs": [
    {
     "data": {
      "application/vnd.plotly.v1+json": {
       "config": {
        "plotlyServerURL": "https://plot.ly"
       },
       "data": [
        {
         "coloraxis": "coloraxis",
         "customdata": [
          [
           6073
          ],
          [
           3650
          ],
          [
           6169
          ],
          [
           3929
          ],
          [
           1876113
          ],
          [
           159294
          ],
          [
           713955
          ],
          [
           450316
          ],
          [
           322508
          ],
          [
           4218127
          ],
          [
           50703
          ],
          [
           20944
          ],
          [
           755160
          ],
          [
           7444
          ],
          [
           17395
          ],
          [
           127836
          ],
          [
           8512960
          ],
          [
           280137
          ],
          [
           161818
          ],
          [
           2340676
          ],
          [
           17702
          ],
          [
           4804999
          ],
          [
           670041
          ],
          [
           187826
          ],
          [
           8802
          ],
          [
           202167
          ],
          [
           70534
          ],
          [
           770507
          ],
          [
           580539
          ],
          [
           7202
          ],
          [
           606006
          ],
          [
           119222
          ],
          [
           16000
          ],
          [
           127829
          ],
          [
           4901
          ],
          [
           1732
          ],
          [
           587848
          ],
          [
           4853278
          ],
          [
           6113484
          ],
          [
           300000
          ],
          [
           29610
          ],
          [
           877402
          ],
          [
           3927
          ],
          [
           3000
          ],
          [
           28534
          ],
          [
           1852
          ],
          [
           2684
          ],
          [
           177000
          ],
          [
           1319266
          ],
          [
           34018
          ],
          [
           24307635
          ],
          [
           3985596
          ],
          [
           10000
          ],
          [
           409662
          ],
          [
           19926
          ],
          [
           5128212
          ],
          [
           4641551
          ],
          [
           227194
          ],
          [
           50000
          ],
          [
           20157
          ],
          [
           4000
          ],
          [
           322000
          ],
          [
           78956
          ],
          [
           78177
          ],
          [
           253563
          ],
          [
           39558
          ],
          [
           27637
          ],
          [
           275851
          ],
          [
           78788
          ],
          [
           3843
          ],
          [
           3604420
          ],
          [
           11431
          ],
          [
           3374
          ],
          [
           652
          ],
          [
           4210770
          ],
          [
           103142
          ],
          [
           1207904
          ],
          [
           18000
          ],
          [
           443696
          ],
          [
           79149
          ],
          [
           72882
          ],
          [
           7579
          ],
          [
           367459
          ],
          [
           114500
          ],
          [
           2891753
          ],
          [
           813380
          ],
          [
           100000
          ],
          [
           1374595
          ],
          [
           5524226
          ],
          [
           240000
          ],
          [
           2094
          ],
          [
           4806
          ],
          [
           68205
          ],
          [
           1218309
          ],
          [
           61070
          ],
          [
           392620
          ],
          [
           388842
          ],
          [
           168485
          ],
          [
           145544
          ],
          [
           587884
          ],
          [
           3769523
          ],
          [
           758884
          ],
          [
           666550
          ],
          [
           440
          ],
          [
           7887544
          ],
          [
           6433
          ],
          [
           51137
          ],
          [
           3480415
          ],
          [
           23684103
          ],
          [
           68884011
          ],
          [
           207215
          ],
          [
           12194
          ],
          [
           36359
          ]
         ],
         "geo": "geo",
         "hovertemplate": "<b>%{hovertext}</b><br><br>Country=%{location}<br>People Vaccinated=%{customdata[0]}<br>Log Scale=%{z}<extra></extra>",
         "hovertext": [
          "Albania",
          "Andorra",
          "Angola",
          "Anguilla",
          "Argentina",
          "Australia",
          "Austria",
          "Azerbaijan",
          "Bahrain",
          "Bangladesh",
          "Barbados",
          "Belarus",
          "Belgium",
          "Belize",
          "Bermuda",
          "Bolivia",
          "Brazil",
          "Bulgaria",
          "Cambodia",
          "Canada",
          "Cayman Islands",
          "Chile",
          "Colombia",
          "Costa Rica",
          "Cote d'Ivoire",
          "Croatia",
          "Cyprus",
          "Czechia",
          "Denmark",
          "Dominica",
          "Dominican Republic",
          "Ecuador",
          "El Salvador",
          "Estonia",
          "Faeroe Islands",
          "Falkland Islands",
          "Finland",
          "France",
          "Germany",
          "Ghana",
          "Gibraltar",
          "Greece",
          "Greenland",
          "Grenada",
          "Guatemala",
          "Guyana",
          "Honduras",
          "Hong Kong",
          "Hungary",
          "Iceland",
          "India",
          "Indonesia",
          "Iran",
          "Ireland",
          "Isle of Man",
          "Israel",
          "Italy",
          "Japan",
          "Jordan",
          "Kazakhstan",
          "Kenya",
          "Kuwait",
          "Latvia",
          "Lebanon",
          "Lithuania",
          "Luxembourg",
          "Macao",
          "Malaysia",
          "Malta",
          "Mauritius",
          "Mexico",
          "Moldova",
          "Montenegro",
          "Montserrat",
          "Morocco",
          "Myanmar",
          "Netherlands",
          "New Zealand",
          "Norway",
          "Oman",
          "Pakistan",
          "Paraguay",
          "Peru",
          "Philippines",
          "Poland",
          "Portugal",
          "Qatar",
          "Romania",
          "Russia",
          "Rwanda",
          "Saint Lucia",
          "San Marino",
          "Senegal",
          "Serbia",
          "Seychelles",
          "Singapore",
          "Slovakia",
          "Slovenia",
          "South Africa",
          "South Korea",
          "Spain",
          "Sweden",
          "Switzerland",
          "Trinidad and Tobago",
          "Turkey",
          "Turks and Caicos Islands",
          "Ukraine",
          "United Arab Emirates",
          "United Kingdom",
          "United States",
          "Uruguay",
          "Venezuela",
          "Zimbabwe"
         ],
         "locationmode": "country names",
         "locations": [
          "Albania",
          "Andorra",
          "Angola",
          "Anguilla",
          "Argentina",
          "Australia",
          "Austria",
          "Azerbaijan",
          "Bahrain",
          "Bangladesh",
          "Barbados",
          "Belarus",
          "Belgium",
          "Belize",
          "Bermuda",
          "Bolivia",
          "Brazil",
          "Bulgaria",
          "Cambodia",
          "Canada",
          "Cayman Islands",
          "Chile",
          "Colombia",
          "Costa Rica",
          "Cote d'Ivoire",
          "Croatia",
          "Cyprus",
          "Czechia",
          "Denmark",
          "Dominica",
          "Dominican Republic",
          "Ecuador",
          "El Salvador",
          "Estonia",
          "Faeroe Islands",
          "Falkland Islands",
          "Finland",
          "France",
          "Germany",
          "Ghana",
          "Gibraltar",
          "Greece",
          "Greenland",
          "Grenada",
          "Guatemala",
          "Guyana",
          "Honduras",
          "Hong Kong",
          "Hungary",
          "Iceland",
          "India",
          "Indonesia",
          "Iran",
          "Ireland",
          "Isle of Man",
          "Israel",
          "Italy",
          "Japan",
          "Jordan",
          "Kazakhstan",
          "Kenya",
          "Kuwait",
          "Latvia",
          "Lebanon",
          "Lithuania",
          "Luxembourg",
          "Macao",
          "Malaysia",
          "Malta",
          "Mauritius",
          "Mexico",
          "Moldova",
          "Montenegro",
          "Montserrat",
          "Morocco",
          "Myanmar",
          "Netherlands",
          "New Zealand",
          "Norway",
          "Oman",
          "Pakistan",
          "Paraguay",
          "Peru",
          "Philippines",
          "Poland",
          "Portugal",
          "Qatar",
          "Romania",
          "Russia",
          "Rwanda",
          "Saint Lucia",
          "San Marino",
          "Senegal",
          "Serbia",
          "Seychelles",
          "Singapore",
          "Slovakia",
          "Slovenia",
          "South Africa",
          "South Korea",
          "Spain",
          "Sweden",
          "Switzerland",
          "Trinidad and Tobago",
          "Turkey",
          "Turks and Caicos Islands",
          "Ukraine",
          "United Arab Emirates",
          "United Kingdom",
          "United States",
          "Uruguay",
          "Venezuela",
          "Zimbabwe"
         ],
         "name": "",
         "type": "choropleth",
         "z": [
          12.56843119316746,
          11.834075953434885,
          12.591054774036781,
          11.940313597145968,
          20.839316063615485,
          17.281341458259153,
          19.445475640374937,
          18.78058141659081,
          18.298979895667884,
          22.008171444010866,
          15.629811944382233,
          14.354318263753886,
          19.5264247336288,
          12.862056133469462,
          14.086467993464069,
          16.963945931933715,
          23.021229590426035,
          18.09577816899927,
          17.304021486385597,
          21.158494433868615,
          14.111706243720842,
          22.1961050003232,
          19.353892004772305,
          17.519044938739754,
          13.103779552451625,
          17.62519513391904,
          16.106051690912302,
          19.55545041041167,
          19.147035948613816,
          12.814382188951573,
          19.20897493283299,
          16.863303055749217,
          13.965874450284495,
          16.963866931786736,
          12.25915476886684,
          10.75905593916017,
          19.16508609390694,
          22.21052836788633,
          22.543563594031912,
          18.19460778413342,
          14.85384559247896,
          19.74288011363841,
          11.939579214314692,
          11.551227603598289,
          14.800444942563812,
          10.855647166027266,
          11.390706372872774,
          17.4333979855415,
          20.33130514346174,
          15.054053112665828,
          24.53490625741717,
          21.92636441008452,
          13.287856641840545,
          18.644078071606945,
          14.282436909048956,
          22.29002475477184,
          22.146175850608703,
          17.79357155947932,
          15.609669328049094,
          14.299064886779355,
          11.966144913345602,
          18.296705643189128,
          16.26877955466107,
          16.254475056694055,
          17.951990406395982,
          15.271718336655688,
          14.754365599672196,
          18.07353491486657,
          16.265706603733566,
          11.90839262077375,
          21.781336098549946,
          13.480790201095816,
          11.720671786825555,
          9.350939181546432,
          22.005652986947574,
          16.65428638768285,
          20.204075562548116,
          14.135789433602595,
          18.759215273031607,
          16.272301729911906,
          16.15329472392604,
          12.887982133058454,
          18.48722768780779,
          16.8050006726607,
          21.463513397520764,
          19.633571765303333,
          16.609654901315086,
          20.39057623564214,
          22.3973411729617,
          17.87268089148742,
          11.032734528586714,
          12.230921088137896,
          16.05761103653347,
          20.21644984424176,
          15.898199848166493,
          18.582777814295433,
          18.568828241879807,
          17.362269193026773,
          17.15110575292801,
          19.16517444215831,
          21.8459509267184,
          19.53352175335831,
          19.34635573929673,
          8.784634845557521,
          22.911144900302613,
          12.65150022065274,
          15.642108117631853,
          21.730828325187883,
          24.49741575816134,
          26.037665836039547,
          17.66077587818261,
          13.574002137683546,
          15.15006457908147
         ]
        }
       ],
       "layout": {
        "coloraxis": {
         "colorbar": {
          "title": {
           "text": "Log Scale"
          }
         },
         "colorscale": [
          [
           0,
           "rgb(228, 241, 225)"
          ],
          [
           0.16666666666666666,
           "rgb(180, 217, 204)"
          ],
          [
           0.3333333333333333,
           "rgb(137, 192, 182)"
          ],
          [
           0.5,
           "rgb(99, 166, 160)"
          ],
          [
           0.6666666666666666,
           "rgb(68, 140, 138)"
          ],
          [
           0.8333333333333334,
           "rgb(40, 114, 116)"
          ],
          [
           1,
           "rgb(13, 88, 95)"
          ]
         ],
         "showscale": false
        },
        "geo": {
         "center": {},
         "domain": {
          "x": [
           0,
           1
          ],
          "y": [
           0,
           1
          ]
         }
        },
        "legend": {
         "tracegroupgap": 0
        },
        "margin": {
         "t": 60
        },
        "template": {
         "data": {
          "bar": [
           {
            "error_x": {
             "color": "#2a3f5f"
            },
            "error_y": {
             "color": "#2a3f5f"
            },
            "marker": {
             "line": {
              "color": "#E5ECF6",
              "width": 0.5
             }
            },
            "type": "bar"
           }
          ],
          "barpolar": [
           {
            "marker": {
             "line": {
              "color": "#E5ECF6",
              "width": 0.5
             }
            },
            "type": "barpolar"
           }
          ],
          "carpet": [
           {
            "aaxis": {
             "endlinecolor": "#2a3f5f",
             "gridcolor": "white",
             "linecolor": "white",
             "minorgridcolor": "white",
             "startlinecolor": "#2a3f5f"
            },
            "baxis": {
             "endlinecolor": "#2a3f5f",
             "gridcolor": "white",
             "linecolor": "white",
             "minorgridcolor": "white",
             "startlinecolor": "#2a3f5f"
            },
            "type": "carpet"
           }
          ],
          "choropleth": [
           {
            "colorbar": {
             "outlinewidth": 0,
             "ticks": ""
            },
            "type": "choropleth"
           }
          ],
          "contour": [
           {
            "colorbar": {
             "outlinewidth": 0,
             "ticks": ""
            },
            "colorscale": [
             [
              0,
              "#0d0887"
             ],
             [
              0.1111111111111111,
              "#46039f"
             ],
             [
              0.2222222222222222,
              "#7201a8"
             ],
             [
              0.3333333333333333,
              "#9c179e"
             ],
             [
              0.4444444444444444,
              "#bd3786"
             ],
             [
              0.5555555555555556,
              "#d8576b"
             ],
             [
              0.6666666666666666,
              "#ed7953"
             ],
             [
              0.7777777777777778,
              "#fb9f3a"
             ],
             [
              0.8888888888888888,
              "#fdca26"
             ],
             [
              1,
              "#f0f921"
             ]
            ],
            "type": "contour"
           }
          ],
          "contourcarpet": [
           {
            "colorbar": {
             "outlinewidth": 0,
             "ticks": ""
            },
            "type": "contourcarpet"
           }
          ],
          "heatmap": [
           {
            "colorbar": {
             "outlinewidth": 0,
             "ticks": ""
            },
            "colorscale": [
             [
              0,
              "#0d0887"
             ],
             [
              0.1111111111111111,
              "#46039f"
             ],
             [
              0.2222222222222222,
              "#7201a8"
             ],
             [
              0.3333333333333333,
              "#9c179e"
             ],
             [
              0.4444444444444444,
              "#bd3786"
             ],
             [
              0.5555555555555556,
              "#d8576b"
             ],
             [
              0.6666666666666666,
              "#ed7953"
             ],
             [
              0.7777777777777778,
              "#fb9f3a"
             ],
             [
              0.8888888888888888,
              "#fdca26"
             ],
             [
              1,
              "#f0f921"
             ]
            ],
            "type": "heatmap"
           }
          ],
          "heatmapgl": [
           {
            "colorbar": {
             "outlinewidth": 0,
             "ticks": ""
            },
            "colorscale": [
             [
              0,
              "#0d0887"
             ],
             [
              0.1111111111111111,
              "#46039f"
             ],
             [
              0.2222222222222222,
              "#7201a8"
             ],
             [
              0.3333333333333333,
              "#9c179e"
             ],
             [
              0.4444444444444444,
              "#bd3786"
             ],
             [
              0.5555555555555556,
              "#d8576b"
             ],
             [
              0.6666666666666666,
              "#ed7953"
             ],
             [
              0.7777777777777778,
              "#fb9f3a"
             ],
             [
              0.8888888888888888,
              "#fdca26"
             ],
             [
              1,
              "#f0f921"
             ]
            ],
            "type": "heatmapgl"
           }
          ],
          "histogram": [
           {
            "marker": {
             "colorbar": {
              "outlinewidth": 0,
              "ticks": ""
             }
            },
            "type": "histogram"
           }
          ],
          "histogram2d": [
           {
            "colorbar": {
             "outlinewidth": 0,
             "ticks": ""
            },
            "colorscale": [
             [
              0,
              "#0d0887"
             ],
             [
              0.1111111111111111,
              "#46039f"
             ],
             [
              0.2222222222222222,
              "#7201a8"
             ],
             [
              0.3333333333333333,
              "#9c179e"
             ],
             [
              0.4444444444444444,
              "#bd3786"
             ],
             [
              0.5555555555555556,
              "#d8576b"
             ],
             [
              0.6666666666666666,
              "#ed7953"
             ],
             [
              0.7777777777777778,
              "#fb9f3a"
             ],
             [
              0.8888888888888888,
              "#fdca26"
             ],
             [
              1,
              "#f0f921"
             ]
            ],
            "type": "histogram2d"
           }
          ],
          "histogram2dcontour": [
           {
            "colorbar": {
             "outlinewidth": 0,
             "ticks": ""
            },
            "colorscale": [
             [
              0,
              "#0d0887"
             ],
             [
              0.1111111111111111,
              "#46039f"
             ],
             [
              0.2222222222222222,
              "#7201a8"
             ],
             [
              0.3333333333333333,
              "#9c179e"
             ],
             [
              0.4444444444444444,
              "#bd3786"
             ],
             [
              0.5555555555555556,
              "#d8576b"
             ],
             [
              0.6666666666666666,
              "#ed7953"
             ],
             [
              0.7777777777777778,
              "#fb9f3a"
             ],
             [
              0.8888888888888888,
              "#fdca26"
             ],
             [
              1,
              "#f0f921"
             ]
            ],
            "type": "histogram2dcontour"
           }
          ],
          "mesh3d": [
           {
            "colorbar": {
             "outlinewidth": 0,
             "ticks": ""
            },
            "type": "mesh3d"
           }
          ],
          "parcoords": [
           {
            "line": {
             "colorbar": {
              "outlinewidth": 0,
              "ticks": ""
             }
            },
            "type": "parcoords"
           }
          ],
          "pie": [
           {
            "automargin": true,
            "type": "pie"
           }
          ],
          "scatter": [
           {
            "marker": {
             "colorbar": {
              "outlinewidth": 0,
              "ticks": ""
             }
            },
            "type": "scatter"
           }
          ],
          "scatter3d": [
           {
            "line": {
             "colorbar": {
              "outlinewidth": 0,
              "ticks": ""
             }
            },
            "marker": {
             "colorbar": {
              "outlinewidth": 0,
              "ticks": ""
             }
            },
            "type": "scatter3d"
           }
          ],
          "scattercarpet": [
           {
            "marker": {
             "colorbar": {
              "outlinewidth": 0,
              "ticks": ""
             }
            },
            "type": "scattercarpet"
           }
          ],
          "scattergeo": [
           {
            "marker": {
             "colorbar": {
              "outlinewidth": 0,
              "ticks": ""
             }
            },
            "type": "scattergeo"
           }
          ],
          "scattergl": [
           {
            "marker": {
             "colorbar": {
              "outlinewidth": 0,
              "ticks": ""
             }
            },
            "type": "scattergl"
           }
          ],
          "scattermapbox": [
           {
            "marker": {
             "colorbar": {
              "outlinewidth": 0,
              "ticks": ""
             }
            },
            "type": "scattermapbox"
           }
          ],
          "scatterpolar": [
           {
            "marker": {
             "colorbar": {
              "outlinewidth": 0,
              "ticks": ""
             }
            },
            "type": "scatterpolar"
           }
          ],
          "scatterpolargl": [
           {
            "marker": {
             "colorbar": {
              "outlinewidth": 0,
              "ticks": ""
             }
            },
            "type": "scatterpolargl"
           }
          ],
          "scatterternary": [
           {
            "marker": {
             "colorbar": {
              "outlinewidth": 0,
              "ticks": ""
             }
            },
            "type": "scatterternary"
           }
          ],
          "surface": [
           {
            "colorbar": {
             "outlinewidth": 0,
             "ticks": ""
            },
            "colorscale": [
             [
              0,
              "#0d0887"
             ],
             [
              0.1111111111111111,
              "#46039f"
             ],
             [
              0.2222222222222222,
              "#7201a8"
             ],
             [
              0.3333333333333333,
              "#9c179e"
             ],
             [
              0.4444444444444444,
              "#bd3786"
             ],
             [
              0.5555555555555556,
              "#d8576b"
             ],
             [
              0.6666666666666666,
              "#ed7953"
             ],
             [
              0.7777777777777778,
              "#fb9f3a"
             ],
             [
              0.8888888888888888,
              "#fdca26"
             ],
             [
              1,
              "#f0f921"
             ]
            ],
            "type": "surface"
           }
          ],
          "table": [
           {
            "cells": {
             "fill": {
              "color": "#EBF0F8"
             },
             "line": {
              "color": "white"
             }
            },
            "header": {
             "fill": {
              "color": "#C8D4E3"
             },
             "line": {
              "color": "white"
             }
            },
            "type": "table"
           }
          ]
         },
         "layout": {
          "annotationdefaults": {
           "arrowcolor": "#2a3f5f",
           "arrowhead": 0,
           "arrowwidth": 1
          },
          "autotypenumbers": "strict",
          "coloraxis": {
           "colorbar": {
            "outlinewidth": 0,
            "ticks": ""
           }
          },
          "colorscale": {
           "diverging": [
            [
             0,
             "#8e0152"
            ],
            [
             0.1,
             "#c51b7d"
            ],
            [
             0.2,
             "#de77ae"
            ],
            [
             0.3,
             "#f1b6da"
            ],
            [
             0.4,
             "#fde0ef"
            ],
            [
             0.5,
             "#f7f7f7"
            ],
            [
             0.6,
             "#e6f5d0"
            ],
            [
             0.7,
             "#b8e186"
            ],
            [
             0.8,
             "#7fbc41"
            ],
            [
             0.9,
             "#4d9221"
            ],
            [
             1,
             "#276419"
            ]
           ],
           "sequential": [
            [
             0,
             "#0d0887"
            ],
            [
             0.1111111111111111,
             "#46039f"
            ],
            [
             0.2222222222222222,
             "#7201a8"
            ],
            [
             0.3333333333333333,
             "#9c179e"
            ],
            [
             0.4444444444444444,
             "#bd3786"
            ],
            [
             0.5555555555555556,
             "#d8576b"
            ],
            [
             0.6666666666666666,
             "#ed7953"
            ],
            [
             0.7777777777777778,
             "#fb9f3a"
            ],
            [
             0.8888888888888888,
             "#fdca26"
            ],
            [
             1,
             "#f0f921"
            ]
           ],
           "sequentialminus": [
            [
             0,
             "#0d0887"
            ],
            [
             0.1111111111111111,
             "#46039f"
            ],
            [
             0.2222222222222222,
             "#7201a8"
            ],
            [
             0.3333333333333333,
             "#9c179e"
            ],
            [
             0.4444444444444444,
             "#bd3786"
            ],
            [
             0.5555555555555556,
             "#d8576b"
            ],
            [
             0.6666666666666666,
             "#ed7953"
            ],
            [
             0.7777777777777778,
             "#fb9f3a"
            ],
            [
             0.8888888888888888,
             "#fdca26"
            ],
            [
             1,
             "#f0f921"
            ]
           ]
          },
          "colorway": [
           "#636efa",
           "#EF553B",
           "#00cc96",
           "#ab63fa",
           "#FFA15A",
           "#19d3f3",
           "#FF6692",
           "#B6E880",
           "#FF97FF",
           "#FECB52"
          ],
          "font": {
           "color": "#2a3f5f"
          },
          "geo": {
           "bgcolor": "white",
           "lakecolor": "white",
           "landcolor": "#E5ECF6",
           "showlakes": true,
           "showland": true,
           "subunitcolor": "white"
          },
          "hoverlabel": {
           "align": "left"
          },
          "hovermode": "closest",
          "mapbox": {
           "style": "light"
          },
          "paper_bgcolor": "white",
          "plot_bgcolor": "#E5ECF6",
          "polar": {
           "angularaxis": {
            "gridcolor": "white",
            "linecolor": "white",
            "ticks": ""
           },
           "bgcolor": "#E5ECF6",
           "radialaxis": {
            "gridcolor": "white",
            "linecolor": "white",
            "ticks": ""
           }
          },
          "scene": {
           "xaxis": {
            "backgroundcolor": "#E5ECF6",
            "gridcolor": "white",
            "gridwidth": 2,
            "linecolor": "white",
            "showbackground": true,
            "ticks": "",
            "zerolinecolor": "white"
           },
           "yaxis": {
            "backgroundcolor": "#E5ECF6",
            "gridcolor": "white",
            "gridwidth": 2,
            "linecolor": "white",
            "showbackground": true,
            "ticks": "",
            "zerolinecolor": "white"
           },
           "zaxis": {
            "backgroundcolor": "#E5ECF6",
            "gridcolor": "white",
            "gridwidth": 2,
            "linecolor": "white",
            "showbackground": true,
            "ticks": "",
            "zerolinecolor": "white"
           }
          },
          "shapedefaults": {
           "line": {
            "color": "#2a3f5f"
           }
          },
          "ternary": {
           "aaxis": {
            "gridcolor": "white",
            "linecolor": "white",
            "ticks": ""
           },
           "baxis": {
            "gridcolor": "white",
            "linecolor": "white",
            "ticks": ""
           },
           "bgcolor": "#E5ECF6",
           "caxis": {
            "gridcolor": "white",
            "linecolor": "white",
            "ticks": ""
           }
          },
          "title": {
           "x": 0.05
          },
          "xaxis": {
           "automargin": true,
           "gridcolor": "white",
           "linecolor": "white",
           "ticks": "",
           "title": {
            "standoff": 15
           },
           "zerolinecolor": "white",
           "zerolinewidth": 2
          },
          "yaxis": {
           "automargin": true,
           "gridcolor": "white",
           "linecolor": "white",
           "ticks": "",
           "title": {
            "standoff": 15
           },
           "zerolinecolor": "white",
           "zerolinewidth": 2
          }
         }
        },
        "title": {
         "text": "Total Vaccinated People by Country",
         "x": 0.5
        }
       }
      },
      "text/html": [
       "<div>                            <div id=\"68ae8707-c178-4e73-94cc-ecc1c9949a90\" class=\"plotly-graph-div\" style=\"height:525px; width:100%;\"></div>            <script type=\"text/javascript\">                require([\"plotly\"], function(Plotly) {                    window.PLOTLYENV=window.PLOTLYENV || {};                                    if (document.getElementById(\"68ae8707-c178-4e73-94cc-ecc1c9949a90\")) {                    Plotly.newPlot(                        \"68ae8707-c178-4e73-94cc-ecc1c9949a90\",                        [{\"coloraxis\": \"coloraxis\", \"customdata\": [[6073.0], [3650.0], [6169.0], [3929.0], [1876113.0], [159294.0], [713955.0], [450316.0], [322508.0], [4218127.0], [50703.0], [20944.0], [755160.0], [7444.0], [17395.0], [127836.0], [8512960.0], [280137.0], [161818.0], [2340676.0], [17702.0], [4804999.0], [670041.0], [187826.0], [8802.0], [202167.0], [70534.0], [770507.0], [580539.0], [7202.0], [606006.0], [119222.0], [16000.0], [127829.0], [4901.0], [1732.0], [587848.0], [4853278.0], [6113484.0], [300000.0], [29610.0], [877402.0], [3927.0], [3000.0], [28534.0], [1852.0], [2684.0], [177000.0], [1319266.0], [34018.0], [24307635.0], [3985596.0], [10000.0], [409662.0], [19926.0], [5128212.0], [4641551.0], [227194.0], [50000.0], [20157.0], [4000.0], [322000.0], [78956.0], [78177.0], [253563.0], [39558.0], [27637.0], [275851.0], [78788.0], [3843.0], [3604420.0], [11431.0], [3374.0], [652.0], [4210770.0], [103142.0], [1207904.0], [18000.0], [443696.0], [79149.0], [72882.0], [7579.0], [367459.0], [114500.0], [2891753.0], [813380.0], [100000.0], [1374595.0], [5524226.0], [240000.0], [2094.0], [4806.0], [68205.0], [1218309.0], [61070.0], [392620.0], [388842.0], [168485.0], [145544.0], [587884.0], [3769523.0], [758884.0], [666550.0], [440.0], [7887544.0], [6433.0], [51137.0], [3480415.0], [23684103.0], [68884011.0], [207215.0], [12194.0], [36359.0]], \"geo\": \"geo\", \"hovertemplate\": \"<b>%{hovertext}</b><br><br>Country=%{location}<br>People Vaccinated=%{customdata[0]}<br>Log Scale=%{z}<extra></extra>\", \"hovertext\": [\"Albania\", \"Andorra\", \"Angola\", \"Anguilla\", \"Argentina\", \"Australia\", \"Austria\", \"Azerbaijan\", \"Bahrain\", \"Bangladesh\", \"Barbados\", \"Belarus\", \"Belgium\", \"Belize\", \"Bermuda\", \"Bolivia\", \"Brazil\", \"Bulgaria\", \"Cambodia\", \"Canada\", \"Cayman Islands\", \"Chile\", \"Colombia\", \"Costa Rica\", \"Cote d'Ivoire\", \"Croatia\", \"Cyprus\", \"Czechia\", \"Denmark\", \"Dominica\", \"Dominican Republic\", \"Ecuador\", \"El Salvador\", \"Estonia\", \"Faeroe Islands\", \"Falkland Islands\", \"Finland\", \"France\", \"Germany\", \"Ghana\", \"Gibraltar\", \"Greece\", \"Greenland\", \"Grenada\", \"Guatemala\", \"Guyana\", \"Honduras\", \"Hong Kong\", \"Hungary\", \"Iceland\", \"India\", \"Indonesia\", \"Iran\", \"Ireland\", \"Isle of Man\", \"Israel\", \"Italy\", \"Japan\", \"Jordan\", \"Kazakhstan\", \"Kenya\", \"Kuwait\", \"Latvia\", \"Lebanon\", \"Lithuania\", \"Luxembourg\", \"Macao\", \"Malaysia\", \"Malta\", \"Mauritius\", \"Mexico\", \"Moldova\", \"Montenegro\", \"Montserrat\", \"Morocco\", \"Myanmar\", \"Netherlands\", \"New Zealand\", \"Norway\", \"Oman\", \"Pakistan\", \"Paraguay\", \"Peru\", \"Philippines\", \"Poland\", \"Portugal\", \"Qatar\", \"Romania\", \"Russia\", \"Rwanda\", \"Saint Lucia\", \"San Marino\", \"Senegal\", \"Serbia\", \"Seychelles\", \"Singapore\", \"Slovakia\", \"Slovenia\", \"South Africa\", \"South Korea\", \"Spain\", \"Sweden\", \"Switzerland\", \"Trinidad and Tobago\", \"Turkey\", \"Turks and Caicos Islands\", \"Ukraine\", \"United Arab Emirates\", \"United Kingdom\", \"United States\", \"Uruguay\", \"Venezuela\", \"Zimbabwe\"], \"locationmode\": \"country names\", \"locations\": [\"Albania\", \"Andorra\", \"Angola\", \"Anguilla\", \"Argentina\", \"Australia\", \"Austria\", \"Azerbaijan\", \"Bahrain\", \"Bangladesh\", \"Barbados\", \"Belarus\", \"Belgium\", \"Belize\", \"Bermuda\", \"Bolivia\", \"Brazil\", \"Bulgaria\", \"Cambodia\", \"Canada\", \"Cayman Islands\", \"Chile\", \"Colombia\", \"Costa Rica\", \"Cote d'Ivoire\", \"Croatia\", \"Cyprus\", \"Czechia\", \"Denmark\", \"Dominica\", \"Dominican Republic\", \"Ecuador\", \"El Salvador\", \"Estonia\", \"Faeroe Islands\", \"Falkland Islands\", \"Finland\", \"France\", \"Germany\", \"Ghana\", \"Gibraltar\", \"Greece\", \"Greenland\", \"Grenada\", \"Guatemala\", \"Guyana\", \"Honduras\", \"Hong Kong\", \"Hungary\", \"Iceland\", \"India\", \"Indonesia\", \"Iran\", \"Ireland\", \"Isle of Man\", \"Israel\", \"Italy\", \"Japan\", \"Jordan\", \"Kazakhstan\", \"Kenya\", \"Kuwait\", \"Latvia\", \"Lebanon\", \"Lithuania\", \"Luxembourg\", \"Macao\", \"Malaysia\", \"Malta\", \"Mauritius\", \"Mexico\", \"Moldova\", \"Montenegro\", \"Montserrat\", \"Morocco\", \"Myanmar\", \"Netherlands\", \"New Zealand\", \"Norway\", \"Oman\", \"Pakistan\", \"Paraguay\", \"Peru\", \"Philippines\", \"Poland\", \"Portugal\", \"Qatar\", \"Romania\", \"Russia\", \"Rwanda\", \"Saint Lucia\", \"San Marino\", \"Senegal\", \"Serbia\", \"Seychelles\", \"Singapore\", \"Slovakia\", \"Slovenia\", \"South Africa\", \"South Korea\", \"Spain\", \"Sweden\", \"Switzerland\", \"Trinidad and Tobago\", \"Turkey\", \"Turks and Caicos Islands\", \"Ukraine\", \"United Arab Emirates\", \"United Kingdom\", \"United States\", \"Uruguay\", \"Venezuela\", \"Zimbabwe\"], \"name\": \"\", \"type\": \"choropleth\", \"z\": [12.56843119316746, 11.834075953434885, 12.591054774036781, 11.940313597145968, 20.839316063615485, 17.281341458259153, 19.445475640374937, 18.78058141659081, 18.298979895667884, 22.008171444010866, 15.629811944382233, 14.354318263753886, 19.5264247336288, 12.862056133469462, 14.086467993464069, 16.963945931933715, 23.021229590426035, 18.09577816899927, 17.304021486385597, 21.158494433868615, 14.111706243720842, 22.1961050003232, 19.353892004772305, 17.519044938739754, 13.103779552451625, 17.62519513391904, 16.106051690912302, 19.55545041041167, 19.147035948613816, 12.814382188951573, 19.20897493283299, 16.863303055749217, 13.965874450284495, 16.963866931786736, 12.25915476886684, 10.75905593916017, 19.16508609390694, 22.21052836788633, 22.543563594031912, 18.19460778413342, 14.85384559247896, 19.74288011363841, 11.939579214314692, 11.551227603598289, 14.800444942563812, 10.855647166027266, 11.390706372872774, 17.4333979855415, 20.33130514346174, 15.054053112665828, 24.53490625741717, 21.92636441008452, 13.287856641840545, 18.644078071606945, 14.282436909048956, 22.29002475477184, 22.146175850608703, 17.79357155947932, 15.609669328049094, 14.299064886779355, 11.966144913345602, 18.296705643189128, 16.26877955466107, 16.254475056694055, 17.951990406395982, 15.271718336655688, 14.754365599672196, 18.07353491486657, 16.265706603733566, 11.90839262077375, 21.781336098549946, 13.480790201095816, 11.720671786825555, 9.350939181546432, 22.005652986947574, 16.65428638768285, 20.204075562548116, 14.135789433602595, 18.759215273031607, 16.272301729911906, 16.15329472392604, 12.887982133058454, 18.48722768780779, 16.8050006726607, 21.463513397520764, 19.633571765303333, 16.609654901315086, 20.39057623564214, 22.3973411729617, 17.87268089148742, 11.032734528586714, 12.230921088137896, 16.05761103653347, 20.21644984424176, 15.898199848166493, 18.582777814295433, 18.568828241879807, 17.362269193026773, 17.15110575292801, 19.16517444215831, 21.8459509267184, 19.53352175335831, 19.34635573929673, 8.784634845557521, 22.911144900302613, 12.65150022065274, 15.642108117631853, 21.730828325187883, 24.49741575816134, 26.037665836039547, 17.66077587818261, 13.574002137683546, 15.15006457908147]}],                        {\"coloraxis\": {\"colorbar\": {\"title\": {\"text\": \"Log Scale\"}}, \"colorscale\": [[0.0, \"rgb(228, 241, 225)\"], [0.16666666666666666, \"rgb(180, 217, 204)\"], [0.3333333333333333, \"rgb(137, 192, 182)\"], [0.5, \"rgb(99, 166, 160)\"], [0.6666666666666666, \"rgb(68, 140, 138)\"], [0.8333333333333334, \"rgb(40, 114, 116)\"], [1.0, \"rgb(13, 88, 95)\"]], \"showscale\": false}, \"geo\": {\"center\": {}, \"domain\": {\"x\": [0.0, 1.0], \"y\": [0.0, 1.0]}}, \"legend\": {\"tracegroupgap\": 0}, \"margin\": {\"t\": 60}, \"template\": {\"data\": {\"bar\": [{\"error_x\": {\"color\": \"#2a3f5f\"}, \"error_y\": {\"color\": \"#2a3f5f\"}, \"marker\": {\"line\": {\"color\": \"#E5ECF6\", \"width\": 0.5}}, \"type\": \"bar\"}], \"barpolar\": [{\"marker\": {\"line\": {\"color\": \"#E5ECF6\", \"width\": 0.5}}, \"type\": \"barpolar\"}], \"carpet\": [{\"aaxis\": {\"endlinecolor\": \"#2a3f5f\", \"gridcolor\": \"white\", \"linecolor\": \"white\", \"minorgridcolor\": \"white\", \"startlinecolor\": \"#2a3f5f\"}, \"baxis\": {\"endlinecolor\": \"#2a3f5f\", \"gridcolor\": \"white\", \"linecolor\": \"white\", \"minorgridcolor\": \"white\", \"startlinecolor\": \"#2a3f5f\"}, \"type\": \"carpet\"}], \"choropleth\": [{\"colorbar\": {\"outlinewidth\": 0, \"ticks\": \"\"}, \"type\": \"choropleth\"}], \"contour\": [{\"colorbar\": {\"outlinewidth\": 0, \"ticks\": \"\"}, \"colorscale\": [[0.0, \"#0d0887\"], [0.1111111111111111, \"#46039f\"], [0.2222222222222222, \"#7201a8\"], [0.3333333333333333, \"#9c179e\"], [0.4444444444444444, \"#bd3786\"], [0.5555555555555556, \"#d8576b\"], [0.6666666666666666, \"#ed7953\"], [0.7777777777777778, \"#fb9f3a\"], [0.8888888888888888, \"#fdca26\"], [1.0, \"#f0f921\"]], \"type\": \"contour\"}], \"contourcarpet\": [{\"colorbar\": {\"outlinewidth\": 0, \"ticks\": \"\"}, \"type\": \"contourcarpet\"}], \"heatmap\": [{\"colorbar\": {\"outlinewidth\": 0, \"ticks\": \"\"}, \"colorscale\": [[0.0, \"#0d0887\"], [0.1111111111111111, \"#46039f\"], [0.2222222222222222, \"#7201a8\"], [0.3333333333333333, \"#9c179e\"], [0.4444444444444444, \"#bd3786\"], [0.5555555555555556, \"#d8576b\"], [0.6666666666666666, \"#ed7953\"], [0.7777777777777778, \"#fb9f3a\"], [0.8888888888888888, \"#fdca26\"], [1.0, \"#f0f921\"]], \"type\": \"heatmap\"}], \"heatmapgl\": [{\"colorbar\": {\"outlinewidth\": 0, \"ticks\": \"\"}, \"colorscale\": [[0.0, \"#0d0887\"], [0.1111111111111111, \"#46039f\"], [0.2222222222222222, \"#7201a8\"], [0.3333333333333333, \"#9c179e\"], [0.4444444444444444, \"#bd3786\"], [0.5555555555555556, \"#d8576b\"], [0.6666666666666666, \"#ed7953\"], [0.7777777777777778, \"#fb9f3a\"], [0.8888888888888888, \"#fdca26\"], [1.0, \"#f0f921\"]], \"type\": \"heatmapgl\"}], \"histogram\": [{\"marker\": {\"colorbar\": {\"outlinewidth\": 0, \"ticks\": \"\"}}, \"type\": \"histogram\"}], \"histogram2d\": [{\"colorbar\": {\"outlinewidth\": 0, \"ticks\": \"\"}, \"colorscale\": [[0.0, \"#0d0887\"], [0.1111111111111111, \"#46039f\"], [0.2222222222222222, \"#7201a8\"], [0.3333333333333333, \"#9c179e\"], [0.4444444444444444, \"#bd3786\"], [0.5555555555555556, \"#d8576b\"], [0.6666666666666666, \"#ed7953\"], [0.7777777777777778, \"#fb9f3a\"], [0.8888888888888888, \"#fdca26\"], [1.0, \"#f0f921\"]], \"type\": \"histogram2d\"}], \"histogram2dcontour\": [{\"colorbar\": {\"outlinewidth\": 0, \"ticks\": \"\"}, \"colorscale\": [[0.0, \"#0d0887\"], [0.1111111111111111, \"#46039f\"], [0.2222222222222222, \"#7201a8\"], [0.3333333333333333, \"#9c179e\"], [0.4444444444444444, \"#bd3786\"], [0.5555555555555556, \"#d8576b\"], [0.6666666666666666, \"#ed7953\"], [0.7777777777777778, \"#fb9f3a\"], [0.8888888888888888, \"#fdca26\"], [1.0, \"#f0f921\"]], \"type\": \"histogram2dcontour\"}], \"mesh3d\": [{\"colorbar\": {\"outlinewidth\": 0, \"ticks\": \"\"}, \"type\": \"mesh3d\"}], \"parcoords\": [{\"line\": {\"colorbar\": {\"outlinewidth\": 0, \"ticks\": \"\"}}, \"type\": \"parcoords\"}], \"pie\": [{\"automargin\": true, \"type\": \"pie\"}], \"scatter\": [{\"marker\": {\"colorbar\": {\"outlinewidth\": 0, \"ticks\": \"\"}}, \"type\": \"scatter\"}], \"scatter3d\": [{\"line\": {\"colorbar\": {\"outlinewidth\": 0, \"ticks\": \"\"}}, \"marker\": {\"colorbar\": {\"outlinewidth\": 0, \"ticks\": \"\"}}, \"type\": \"scatter3d\"}], \"scattercarpet\": [{\"marker\": {\"colorbar\": {\"outlinewidth\": 0, \"ticks\": \"\"}}, \"type\": \"scattercarpet\"}], \"scattergeo\": [{\"marker\": {\"colorbar\": {\"outlinewidth\": 0, \"ticks\": \"\"}}, \"type\": \"scattergeo\"}], \"scattergl\": [{\"marker\": {\"colorbar\": {\"outlinewidth\": 0, \"ticks\": \"\"}}, \"type\": \"scattergl\"}], \"scattermapbox\": [{\"marker\": {\"colorbar\": {\"outlinewidth\": 0, \"ticks\": \"\"}}, \"type\": \"scattermapbox\"}], \"scatterpolar\": [{\"marker\": {\"colorbar\": {\"outlinewidth\": 0, \"ticks\": \"\"}}, \"type\": \"scatterpolar\"}], \"scatterpolargl\": [{\"marker\": {\"colorbar\": {\"outlinewidth\": 0, \"ticks\": \"\"}}, \"type\": \"scatterpolargl\"}], \"scatterternary\": [{\"marker\": {\"colorbar\": {\"outlinewidth\": 0, \"ticks\": \"\"}}, \"type\": \"scatterternary\"}], \"surface\": [{\"colorbar\": {\"outlinewidth\": 0, \"ticks\": \"\"}, \"colorscale\": [[0.0, \"#0d0887\"], [0.1111111111111111, \"#46039f\"], [0.2222222222222222, \"#7201a8\"], [0.3333333333333333, \"#9c179e\"], [0.4444444444444444, \"#bd3786\"], [0.5555555555555556, \"#d8576b\"], [0.6666666666666666, \"#ed7953\"], [0.7777777777777778, \"#fb9f3a\"], [0.8888888888888888, \"#fdca26\"], [1.0, \"#f0f921\"]], \"type\": \"surface\"}], \"table\": [{\"cells\": {\"fill\": {\"color\": \"#EBF0F8\"}, \"line\": {\"color\": \"white\"}}, \"header\": {\"fill\": {\"color\": \"#C8D4E3\"}, \"line\": {\"color\": \"white\"}}, \"type\": \"table\"}]}, \"layout\": {\"annotationdefaults\": {\"arrowcolor\": \"#2a3f5f\", \"arrowhead\": 0, \"arrowwidth\": 1}, \"autotypenumbers\": \"strict\", \"coloraxis\": {\"colorbar\": {\"outlinewidth\": 0, \"ticks\": \"\"}}, \"colorscale\": {\"diverging\": [[0, \"#8e0152\"], [0.1, \"#c51b7d\"], [0.2, \"#de77ae\"], [0.3, \"#f1b6da\"], [0.4, \"#fde0ef\"], [0.5, \"#f7f7f7\"], [0.6, \"#e6f5d0\"], [0.7, \"#b8e186\"], [0.8, \"#7fbc41\"], [0.9, \"#4d9221\"], [1, \"#276419\"]], \"sequential\": [[0.0, \"#0d0887\"], [0.1111111111111111, \"#46039f\"], [0.2222222222222222, \"#7201a8\"], [0.3333333333333333, \"#9c179e\"], [0.4444444444444444, \"#bd3786\"], [0.5555555555555556, \"#d8576b\"], [0.6666666666666666, \"#ed7953\"], [0.7777777777777778, \"#fb9f3a\"], [0.8888888888888888, \"#fdca26\"], [1.0, \"#f0f921\"]], \"sequentialminus\": [[0.0, \"#0d0887\"], [0.1111111111111111, \"#46039f\"], [0.2222222222222222, \"#7201a8\"], [0.3333333333333333, \"#9c179e\"], [0.4444444444444444, \"#bd3786\"], [0.5555555555555556, \"#d8576b\"], [0.6666666666666666, \"#ed7953\"], [0.7777777777777778, \"#fb9f3a\"], [0.8888888888888888, \"#fdca26\"], [1.0, \"#f0f921\"]]}, \"colorway\": [\"#636efa\", \"#EF553B\", \"#00cc96\", \"#ab63fa\", \"#FFA15A\", \"#19d3f3\", \"#FF6692\", \"#B6E880\", \"#FF97FF\", \"#FECB52\"], \"font\": {\"color\": \"#2a3f5f\"}, \"geo\": {\"bgcolor\": \"white\", \"lakecolor\": \"white\", \"landcolor\": \"#E5ECF6\", \"showlakes\": true, \"showland\": true, \"subunitcolor\": \"white\"}, \"hoverlabel\": {\"align\": \"left\"}, \"hovermode\": \"closest\", \"mapbox\": {\"style\": \"light\"}, \"paper_bgcolor\": \"white\", \"plot_bgcolor\": \"#E5ECF6\", \"polar\": {\"angularaxis\": {\"gridcolor\": \"white\", \"linecolor\": \"white\", \"ticks\": \"\"}, \"bgcolor\": \"#E5ECF6\", \"radialaxis\": {\"gridcolor\": \"white\", \"linecolor\": \"white\", \"ticks\": \"\"}}, \"scene\": {\"xaxis\": {\"backgroundcolor\": \"#E5ECF6\", \"gridcolor\": \"white\", \"gridwidth\": 2, \"linecolor\": \"white\", \"showbackground\": true, \"ticks\": \"\", \"zerolinecolor\": \"white\"}, \"yaxis\": {\"backgroundcolor\": \"#E5ECF6\", \"gridcolor\": \"white\", \"gridwidth\": 2, \"linecolor\": \"white\", \"showbackground\": true, \"ticks\": \"\", \"zerolinecolor\": \"white\"}, \"zaxis\": {\"backgroundcolor\": \"#E5ECF6\", \"gridcolor\": \"white\", \"gridwidth\": 2, \"linecolor\": \"white\", \"showbackground\": true, \"ticks\": \"\", \"zerolinecolor\": \"white\"}}, \"shapedefaults\": {\"line\": {\"color\": \"#2a3f5f\"}}, \"ternary\": {\"aaxis\": {\"gridcolor\": \"white\", \"linecolor\": \"white\", \"ticks\": \"\"}, \"baxis\": {\"gridcolor\": \"white\", \"linecolor\": \"white\", \"ticks\": \"\"}, \"bgcolor\": \"#E5ECF6\", \"caxis\": {\"gridcolor\": \"white\", \"linecolor\": \"white\", \"ticks\": \"\"}}, \"title\": {\"x\": 0.05}, \"xaxis\": {\"automargin\": true, \"gridcolor\": \"white\", \"linecolor\": \"white\", \"ticks\": \"\", \"title\": {\"standoff\": 15}, \"zerolinecolor\": \"white\", \"zerolinewidth\": 2}, \"yaxis\": {\"automargin\": true, \"gridcolor\": \"white\", \"linecolor\": \"white\", \"ticks\": \"\", \"title\": {\"standoff\": 15}, \"zerolinecolor\": \"white\", \"zerolinewidth\": 2}}}, \"title\": {\"text\": \"Total Vaccinated People by Country\", \"x\": 0.5}},                        {\"responsive\": true}                    ).then(function(){\n",
       "                            \n",
       "var gd = document.getElementById('68ae8707-c178-4e73-94cc-ecc1c9949a90');\n",
       "var x = new MutationObserver(function (mutations, observer) {{\n",
       "        var display = window.getComputedStyle(gd).display;\n",
       "        if (!display || display === 'none') {{\n",
       "            console.log([gd, 'removed!']);\n",
       "            Plotly.purge(gd);\n",
       "            observer.disconnect();\n",
       "        }}\n",
       "}});\n",
       "\n",
       "// Listen for the removal of the full notebook cells\n",
       "var notebookContainer = gd.closest('#notebook-container');\n",
       "if (notebookContainer) {{\n",
       "    x.observe(notebookContainer, {childList: true});\n",
       "}}\n",
       "\n",
       "// Listen for the clearing of the current output cell\n",
       "var outputEl = gd.closest('.output');\n",
       "if (outputEl) {{\n",
       "    x.observe(outputEl, {childList: true});\n",
       "}}\n",
       "\n",
       "                        })                };                });            </script>        </div>"
      ]
     },
     "metadata": {},
     "output_type": "display_data"
    }
   ],
   "source": [
    "fig = px.choropleth(df_f,\n",
    "                    locations=\"country\", \n",
    "                    locationmode='country names',\n",
    "                    color=\"Log Scale\", \n",
    "                    hover_name=\"country\", \n",
    "                    hover_data=['people_vaccinated'],\n",
    "                    color_continuous_scale=\"mint\",\n",
    "                    labels={'country':'Country','people_vaccinated':'People Vaccinated'})\n",
    "\n",
    "fig.update_layout(title=\"Total Vaccinated People by Country\", title_x=0.5)\n",
    "\n",
    "fig.update(layout_coloraxis_showscale=False)\n",
    "\n",
    "fig.show()"
   ]
  },
  {
   "cell_type": "markdown",
   "id": "following-stack",
   "metadata": {},
   "source": [
    "### Numbers are definitely not wrong, but might be misleading\n",
    "\n",
    "It is clear that the countries with high number of population has also high number of people vaccinated. To understand the countries' success in vaccination process better, we should look at the % of the population vaccinated by country."
   ]
  },
  {
   "cell_type": "markdown",
   "id": "foster-place",
   "metadata": {},
   "source": [
    "### What country is vaccinated a larger percent from its population?"
   ]
  },
  {
   "cell_type": "code",
   "execution_count": 25,
   "id": "horizontal-reception",
   "metadata": {
    "scrolled": false
   },
   "outputs": [
    {
     "data": {
      "application/vnd.plotly.v1+json": {
       "config": {
        "plotlyServerURL": "https://plot.ly"
       },
       "data": [
        {
         "alignmentgroup": "True",
         "hovertemplate": "<b>%{hovertext}</b><br><br>Country=%{x}<br>% of Population Vaccinated=%{marker.color}<extra></extra>",
         "hovertext": [
          "Gibraltar",
          "Seychelles",
          "Israel",
          "Falkland Islands",
          "United Arab Emirates",
          "United Kingdom",
          "Bermuda",
          "Cayman Islands",
          "Anguilla",
          "Chile",
          "Isle of Man",
          "United States",
          "Bahrain",
          "Malta",
          "Barbados",
          "Turks and Caicos Islands",
          "San Marino",
          "Serbia",
          "Hungary"
         ],
         "legendgroup": "",
         "marker": {
          "color": [
           0.8789219032918757,
           0.6202959787919109,
           0.5909087923662534,
           0.4952816700028596,
           0.3511707119803142,
           0.34856073329418397,
           0.279496119671578,
           0.2688067543353479,
           0.2614801011579928,
           0.25098449406503814,
           0.23411504840680514,
           0.20789458776689457,
           0.18848466182014978,
           0.17835427277872098,
           0.17639691480220013,
           0.16577333402051228,
           0.14158614188074475,
           0.13953701723761353,
           0.13662679397840696
          ],
          "coloraxis": "coloraxis"
         },
         "name": "",
         "offsetgroup": "",
         "orientation": "v",
         "showlegend": false,
         "textposition": "auto",
         "type": "bar",
         "x": [
          "Gibraltar",
          "Seychelles",
          "Israel",
          "Falkland Islands",
          "United Arab Emirates",
          "United Kingdom",
          "Bermuda",
          "Cayman Islands",
          "Anguilla",
          "Chile",
          "Isle of Man",
          "United States",
          "Bahrain",
          "Malta",
          "Barbados",
          "Turks and Caicos Islands",
          "San Marino",
          "Serbia",
          "Hungary"
         ],
         "xaxis": "x",
         "y": [
          0.8789219032918757,
          0.6202959787919109,
          0.5909087923662534,
          0.4952816700028596,
          0.3511707119803142,
          0.34856073329418397,
          0.279496119671578,
          0.2688067543353479,
          0.2614801011579928,
          0.25098449406503814,
          0.23411504840680514,
          0.20789458776689457,
          0.18848466182014978,
          0.17835427277872098,
          0.17639691480220013,
          0.16577333402051228,
          0.14158614188074475,
          0.13953701723761353,
          0.13662679397840696
         ],
         "yaxis": "y"
        }
       ],
       "layout": {
        "barmode": "relative",
        "coloraxis": {
         "colorbar": {
          "title": {
           "text": "% of Population Vaccinated"
          }
         },
         "colorscale": [
          [
           0,
           "rgb(253, 224, 197)"
          ],
          [
           0.16666666666666666,
           "rgb(250, 203, 166)"
          ],
          [
           0.3333333333333333,
           "rgb(248, 181, 139)"
          ],
          [
           0.5,
           "rgb(245, 158, 114)"
          ],
          [
           0.6666666666666666,
           "rgb(242, 133, 93)"
          ],
          [
           0.8333333333333334,
           "rgb(239, 106, 76)"
          ],
          [
           1,
           "rgb(235, 74, 64)"
          ]
         ],
         "showscale": false
        },
        "height": 500,
        "legend": {
         "tracegroupgap": 0
        },
        "margin": {
         "t": 60
        },
        "paper_bgcolor": "rgba(0, 0, 0, 0)",
        "plot_bgcolor": "rgba(0, 0, 0, 0)",
        "template": {
         "data": {
          "bar": [
           {
            "error_x": {
             "color": "#2a3f5f"
            },
            "error_y": {
             "color": "#2a3f5f"
            },
            "marker": {
             "line": {
              "color": "#E5ECF6",
              "width": 0.5
             }
            },
            "type": "bar"
           }
          ],
          "barpolar": [
           {
            "marker": {
             "line": {
              "color": "#E5ECF6",
              "width": 0.5
             }
            },
            "type": "barpolar"
           }
          ],
          "carpet": [
           {
            "aaxis": {
             "endlinecolor": "#2a3f5f",
             "gridcolor": "white",
             "linecolor": "white",
             "minorgridcolor": "white",
             "startlinecolor": "#2a3f5f"
            },
            "baxis": {
             "endlinecolor": "#2a3f5f",
             "gridcolor": "white",
             "linecolor": "white",
             "minorgridcolor": "white",
             "startlinecolor": "#2a3f5f"
            },
            "type": "carpet"
           }
          ],
          "choropleth": [
           {
            "colorbar": {
             "outlinewidth": 0,
             "ticks": ""
            },
            "type": "choropleth"
           }
          ],
          "contour": [
           {
            "colorbar": {
             "outlinewidth": 0,
             "ticks": ""
            },
            "colorscale": [
             [
              0,
              "#0d0887"
             ],
             [
              0.1111111111111111,
              "#46039f"
             ],
             [
              0.2222222222222222,
              "#7201a8"
             ],
             [
              0.3333333333333333,
              "#9c179e"
             ],
             [
              0.4444444444444444,
              "#bd3786"
             ],
             [
              0.5555555555555556,
              "#d8576b"
             ],
             [
              0.6666666666666666,
              "#ed7953"
             ],
             [
              0.7777777777777778,
              "#fb9f3a"
             ],
             [
              0.8888888888888888,
              "#fdca26"
             ],
             [
              1,
              "#f0f921"
             ]
            ],
            "type": "contour"
           }
          ],
          "contourcarpet": [
           {
            "colorbar": {
             "outlinewidth": 0,
             "ticks": ""
            },
            "type": "contourcarpet"
           }
          ],
          "heatmap": [
           {
            "colorbar": {
             "outlinewidth": 0,
             "ticks": ""
            },
            "colorscale": [
             [
              0,
              "#0d0887"
             ],
             [
              0.1111111111111111,
              "#46039f"
             ],
             [
              0.2222222222222222,
              "#7201a8"
             ],
             [
              0.3333333333333333,
              "#9c179e"
             ],
             [
              0.4444444444444444,
              "#bd3786"
             ],
             [
              0.5555555555555556,
              "#d8576b"
             ],
             [
              0.6666666666666666,
              "#ed7953"
             ],
             [
              0.7777777777777778,
              "#fb9f3a"
             ],
             [
              0.8888888888888888,
              "#fdca26"
             ],
             [
              1,
              "#f0f921"
             ]
            ],
            "type": "heatmap"
           }
          ],
          "heatmapgl": [
           {
            "colorbar": {
             "outlinewidth": 0,
             "ticks": ""
            },
            "colorscale": [
             [
              0,
              "#0d0887"
             ],
             [
              0.1111111111111111,
              "#46039f"
             ],
             [
              0.2222222222222222,
              "#7201a8"
             ],
             [
              0.3333333333333333,
              "#9c179e"
             ],
             [
              0.4444444444444444,
              "#bd3786"
             ],
             [
              0.5555555555555556,
              "#d8576b"
             ],
             [
              0.6666666666666666,
              "#ed7953"
             ],
             [
              0.7777777777777778,
              "#fb9f3a"
             ],
             [
              0.8888888888888888,
              "#fdca26"
             ],
             [
              1,
              "#f0f921"
             ]
            ],
            "type": "heatmapgl"
           }
          ],
          "histogram": [
           {
            "marker": {
             "colorbar": {
              "outlinewidth": 0,
              "ticks": ""
             }
            },
            "type": "histogram"
           }
          ],
          "histogram2d": [
           {
            "colorbar": {
             "outlinewidth": 0,
             "ticks": ""
            },
            "colorscale": [
             [
              0,
              "#0d0887"
             ],
             [
              0.1111111111111111,
              "#46039f"
             ],
             [
              0.2222222222222222,
              "#7201a8"
             ],
             [
              0.3333333333333333,
              "#9c179e"
             ],
             [
              0.4444444444444444,
              "#bd3786"
             ],
             [
              0.5555555555555556,
              "#d8576b"
             ],
             [
              0.6666666666666666,
              "#ed7953"
             ],
             [
              0.7777777777777778,
              "#fb9f3a"
             ],
             [
              0.8888888888888888,
              "#fdca26"
             ],
             [
              1,
              "#f0f921"
             ]
            ],
            "type": "histogram2d"
           }
          ],
          "histogram2dcontour": [
           {
            "colorbar": {
             "outlinewidth": 0,
             "ticks": ""
            },
            "colorscale": [
             [
              0,
              "#0d0887"
             ],
             [
              0.1111111111111111,
              "#46039f"
             ],
             [
              0.2222222222222222,
              "#7201a8"
             ],
             [
              0.3333333333333333,
              "#9c179e"
             ],
             [
              0.4444444444444444,
              "#bd3786"
             ],
             [
              0.5555555555555556,
              "#d8576b"
             ],
             [
              0.6666666666666666,
              "#ed7953"
             ],
             [
              0.7777777777777778,
              "#fb9f3a"
             ],
             [
              0.8888888888888888,
              "#fdca26"
             ],
             [
              1,
              "#f0f921"
             ]
            ],
            "type": "histogram2dcontour"
           }
          ],
          "mesh3d": [
           {
            "colorbar": {
             "outlinewidth": 0,
             "ticks": ""
            },
            "type": "mesh3d"
           }
          ],
          "parcoords": [
           {
            "line": {
             "colorbar": {
              "outlinewidth": 0,
              "ticks": ""
             }
            },
            "type": "parcoords"
           }
          ],
          "pie": [
           {
            "automargin": true,
            "type": "pie"
           }
          ],
          "scatter": [
           {
            "marker": {
             "colorbar": {
              "outlinewidth": 0,
              "ticks": ""
             }
            },
            "type": "scatter"
           }
          ],
          "scatter3d": [
           {
            "line": {
             "colorbar": {
              "outlinewidth": 0,
              "ticks": ""
             }
            },
            "marker": {
             "colorbar": {
              "outlinewidth": 0,
              "ticks": ""
             }
            },
            "type": "scatter3d"
           }
          ],
          "scattercarpet": [
           {
            "marker": {
             "colorbar": {
              "outlinewidth": 0,
              "ticks": ""
             }
            },
            "type": "scattercarpet"
           }
          ],
          "scattergeo": [
           {
            "marker": {
             "colorbar": {
              "outlinewidth": 0,
              "ticks": ""
             }
            },
            "type": "scattergeo"
           }
          ],
          "scattergl": [
           {
            "marker": {
             "colorbar": {
              "outlinewidth": 0,
              "ticks": ""
             }
            },
            "type": "scattergl"
           }
          ],
          "scattermapbox": [
           {
            "marker": {
             "colorbar": {
              "outlinewidth": 0,
              "ticks": ""
             }
            },
            "type": "scattermapbox"
           }
          ],
          "scatterpolar": [
           {
            "marker": {
             "colorbar": {
              "outlinewidth": 0,
              "ticks": ""
             }
            },
            "type": "scatterpolar"
           }
          ],
          "scatterpolargl": [
           {
            "marker": {
             "colorbar": {
              "outlinewidth": 0,
              "ticks": ""
             }
            },
            "type": "scatterpolargl"
           }
          ],
          "scatterternary": [
           {
            "marker": {
             "colorbar": {
              "outlinewidth": 0,
              "ticks": ""
             }
            },
            "type": "scatterternary"
           }
          ],
          "surface": [
           {
            "colorbar": {
             "outlinewidth": 0,
             "ticks": ""
            },
            "colorscale": [
             [
              0,
              "#0d0887"
             ],
             [
              0.1111111111111111,
              "#46039f"
             ],
             [
              0.2222222222222222,
              "#7201a8"
             ],
             [
              0.3333333333333333,
              "#9c179e"
             ],
             [
              0.4444444444444444,
              "#bd3786"
             ],
             [
              0.5555555555555556,
              "#d8576b"
             ],
             [
              0.6666666666666666,
              "#ed7953"
             ],
             [
              0.7777777777777778,
              "#fb9f3a"
             ],
             [
              0.8888888888888888,
              "#fdca26"
             ],
             [
              1,
              "#f0f921"
             ]
            ],
            "type": "surface"
           }
          ],
          "table": [
           {
            "cells": {
             "fill": {
              "color": "#EBF0F8"
             },
             "line": {
              "color": "white"
             }
            },
            "header": {
             "fill": {
              "color": "#C8D4E3"
             },
             "line": {
              "color": "white"
             }
            },
            "type": "table"
           }
          ]
         },
         "layout": {
          "annotationdefaults": {
           "arrowcolor": "#2a3f5f",
           "arrowhead": 0,
           "arrowwidth": 1
          },
          "autotypenumbers": "strict",
          "coloraxis": {
           "colorbar": {
            "outlinewidth": 0,
            "ticks": ""
           }
          },
          "colorscale": {
           "diverging": [
            [
             0,
             "#8e0152"
            ],
            [
             0.1,
             "#c51b7d"
            ],
            [
             0.2,
             "#de77ae"
            ],
            [
             0.3,
             "#f1b6da"
            ],
            [
             0.4,
             "#fde0ef"
            ],
            [
             0.5,
             "#f7f7f7"
            ],
            [
             0.6,
             "#e6f5d0"
            ],
            [
             0.7,
             "#b8e186"
            ],
            [
             0.8,
             "#7fbc41"
            ],
            [
             0.9,
             "#4d9221"
            ],
            [
             1,
             "#276419"
            ]
           ],
           "sequential": [
            [
             0,
             "#0d0887"
            ],
            [
             0.1111111111111111,
             "#46039f"
            ],
            [
             0.2222222222222222,
             "#7201a8"
            ],
            [
             0.3333333333333333,
             "#9c179e"
            ],
            [
             0.4444444444444444,
             "#bd3786"
            ],
            [
             0.5555555555555556,
             "#d8576b"
            ],
            [
             0.6666666666666666,
             "#ed7953"
            ],
            [
             0.7777777777777778,
             "#fb9f3a"
            ],
            [
             0.8888888888888888,
             "#fdca26"
            ],
            [
             1,
             "#f0f921"
            ]
           ],
           "sequentialminus": [
            [
             0,
             "#0d0887"
            ],
            [
             0.1111111111111111,
             "#46039f"
            ],
            [
             0.2222222222222222,
             "#7201a8"
            ],
            [
             0.3333333333333333,
             "#9c179e"
            ],
            [
             0.4444444444444444,
             "#bd3786"
            ],
            [
             0.5555555555555556,
             "#d8576b"
            ],
            [
             0.6666666666666666,
             "#ed7953"
            ],
            [
             0.7777777777777778,
             "#fb9f3a"
            ],
            [
             0.8888888888888888,
             "#fdca26"
            ],
            [
             1,
             "#f0f921"
            ]
           ]
          },
          "colorway": [
           "#636efa",
           "#EF553B",
           "#00cc96",
           "#ab63fa",
           "#FFA15A",
           "#19d3f3",
           "#FF6692",
           "#B6E880",
           "#FF97FF",
           "#FECB52"
          ],
          "font": {
           "color": "#2a3f5f"
          },
          "geo": {
           "bgcolor": "white",
           "lakecolor": "white",
           "landcolor": "#E5ECF6",
           "showlakes": true,
           "showland": true,
           "subunitcolor": "white"
          },
          "hoverlabel": {
           "align": "left"
          },
          "hovermode": "closest",
          "mapbox": {
           "style": "light"
          },
          "paper_bgcolor": "white",
          "plot_bgcolor": "#E5ECF6",
          "polar": {
           "angularaxis": {
            "gridcolor": "white",
            "linecolor": "white",
            "ticks": ""
           },
           "bgcolor": "#E5ECF6",
           "radialaxis": {
            "gridcolor": "white",
            "linecolor": "white",
            "ticks": ""
           }
          },
          "scene": {
           "xaxis": {
            "backgroundcolor": "#E5ECF6",
            "gridcolor": "white",
            "gridwidth": 2,
            "linecolor": "white",
            "showbackground": true,
            "ticks": "",
            "zerolinecolor": "white"
           },
           "yaxis": {
            "backgroundcolor": "#E5ECF6",
            "gridcolor": "white",
            "gridwidth": 2,
            "linecolor": "white",
            "showbackground": true,
            "ticks": "",
            "zerolinecolor": "white"
           },
           "zaxis": {
            "backgroundcolor": "#E5ECF6",
            "gridcolor": "white",
            "gridwidth": 2,
            "linecolor": "white",
            "showbackground": true,
            "ticks": "",
            "zerolinecolor": "white"
           }
          },
          "shapedefaults": {
           "line": {
            "color": "#2a3f5f"
           }
          },
          "ternary": {
           "aaxis": {
            "gridcolor": "white",
            "linecolor": "white",
            "ticks": ""
           },
           "baxis": {
            "gridcolor": "white",
            "linecolor": "white",
            "ticks": ""
           },
           "bgcolor": "#E5ECF6",
           "caxis": {
            "gridcolor": "white",
            "linecolor": "white",
            "ticks": ""
           }
          },
          "title": {
           "x": 0.05
          },
          "xaxis": {
           "automargin": true,
           "gridcolor": "white",
           "linecolor": "white",
           "ticks": "",
           "title": {
            "standoff": 15
           },
           "zerolinecolor": "white",
           "zerolinewidth": 2
          },
          "yaxis": {
           "automargin": true,
           "gridcolor": "white",
           "linecolor": "white",
           "ticks": "",
           "title": {
            "standoff": 15
           },
           "zerolinecolor": "white",
           "zerolinewidth": 2
          }
         }
        },
        "title": {
         "text": "Total Vaccination % of Population by Top 20 Countries",
         "x": 0.5
        },
        "uniformtext": {
         "minsize": 15
        },
        "xaxis": {
         "anchor": "y",
         "domain": [
          0,
          1
         ],
         "tickangle": -45,
         "title": {
          "text": "Country"
         }
        },
        "yaxis": {
         "anchor": "x",
         "domain": [
          0,
          1
         ],
         "title": {
          "text": "% of Population Vaccinated"
         }
        }
       }
      },
      "text/html": [
       "<div>                            <div id=\"5f8fc6d9-8756-4b41-bd78-c302db60059d\" class=\"plotly-graph-div\" style=\"height:500px; width:100%;\"></div>            <script type=\"text/javascript\">                require([\"plotly\"], function(Plotly) {                    window.PLOTLYENV=window.PLOTLYENV || {};                                    if (document.getElementById(\"5f8fc6d9-8756-4b41-bd78-c302db60059d\")) {                    Plotly.newPlot(                        \"5f8fc6d9-8756-4b41-bd78-c302db60059d\",                        [{\"alignmentgroup\": \"True\", \"hovertemplate\": \"<b>%{hovertext}</b><br><br>Country=%{x}<br>% of Population Vaccinated=%{marker.color}<extra></extra>\", \"hovertext\": [\"Gibraltar\", \"Seychelles\", \"Israel\", \"Falkland Islands\", \"United Arab Emirates\", \"United Kingdom\", \"Bermuda\", \"Cayman Islands\", \"Anguilla\", \"Chile\", \"Isle of Man\", \"United States\", \"Bahrain\", \"Malta\", \"Barbados\", \"Turks and Caicos Islands\", \"San Marino\", \"Serbia\", \"Hungary\"], \"legendgroup\": \"\", \"marker\": {\"color\": [0.8789219032918757, 0.6202959787919109, 0.5909087923662534, 0.4952816700028596, 0.3511707119803142, 0.34856073329418397, 0.279496119671578, 0.2688067543353479, 0.2614801011579928, 0.25098449406503814, 0.23411504840680514, 0.20789458776689457, 0.18848466182014978, 0.17835427277872098, 0.17639691480220013, 0.16577333402051228, 0.14158614188074475, 0.13953701723761353, 0.13662679397840696], \"coloraxis\": \"coloraxis\"}, \"name\": \"\", \"offsetgroup\": \"\", \"orientation\": \"v\", \"showlegend\": false, \"textposition\": \"auto\", \"type\": \"bar\", \"x\": [\"Gibraltar\", \"Seychelles\", \"Israel\", \"Falkland Islands\", \"United Arab Emirates\", \"United Kingdom\", \"Bermuda\", \"Cayman Islands\", \"Anguilla\", \"Chile\", \"Isle of Man\", \"United States\", \"Bahrain\", \"Malta\", \"Barbados\", \"Turks and Caicos Islands\", \"San Marino\", \"Serbia\", \"Hungary\"], \"xaxis\": \"x\", \"y\": [0.8789219032918757, 0.6202959787919109, 0.5909087923662534, 0.4952816700028596, 0.3511707119803142, 0.34856073329418397, 0.279496119671578, 0.2688067543353479, 0.2614801011579928, 0.25098449406503814, 0.23411504840680514, 0.20789458776689457, 0.18848466182014978, 0.17835427277872098, 0.17639691480220013, 0.16577333402051228, 0.14158614188074475, 0.13953701723761353, 0.13662679397840696], \"yaxis\": \"y\"}],                        {\"barmode\": \"relative\", \"coloraxis\": {\"colorbar\": {\"title\": {\"text\": \"% of Population Vaccinated\"}}, \"colorscale\": [[0.0, \"rgb(253, 224, 197)\"], [0.16666666666666666, \"rgb(250, 203, 166)\"], [0.3333333333333333, \"rgb(248, 181, 139)\"], [0.5, \"rgb(245, 158, 114)\"], [0.6666666666666666, \"rgb(242, 133, 93)\"], [0.8333333333333334, \"rgb(239, 106, 76)\"], [1.0, \"rgb(235, 74, 64)\"]], \"showscale\": false}, \"height\": 500, \"legend\": {\"tracegroupgap\": 0}, \"margin\": {\"t\": 60}, \"paper_bgcolor\": \"rgba(0, 0, 0, 0)\", \"plot_bgcolor\": \"rgba(0, 0, 0, 0)\", \"template\": {\"data\": {\"bar\": [{\"error_x\": {\"color\": \"#2a3f5f\"}, \"error_y\": {\"color\": \"#2a3f5f\"}, \"marker\": {\"line\": {\"color\": \"#E5ECF6\", \"width\": 0.5}}, \"type\": \"bar\"}], \"barpolar\": [{\"marker\": {\"line\": {\"color\": \"#E5ECF6\", \"width\": 0.5}}, \"type\": \"barpolar\"}], \"carpet\": [{\"aaxis\": {\"endlinecolor\": \"#2a3f5f\", \"gridcolor\": \"white\", \"linecolor\": \"white\", \"minorgridcolor\": \"white\", \"startlinecolor\": \"#2a3f5f\"}, \"baxis\": {\"endlinecolor\": \"#2a3f5f\", \"gridcolor\": \"white\", \"linecolor\": \"white\", \"minorgridcolor\": \"white\", \"startlinecolor\": \"#2a3f5f\"}, \"type\": \"carpet\"}], \"choropleth\": [{\"colorbar\": {\"outlinewidth\": 0, \"ticks\": \"\"}, \"type\": \"choropleth\"}], \"contour\": [{\"colorbar\": {\"outlinewidth\": 0, \"ticks\": \"\"}, \"colorscale\": [[0.0, \"#0d0887\"], [0.1111111111111111, \"#46039f\"], [0.2222222222222222, \"#7201a8\"], [0.3333333333333333, \"#9c179e\"], [0.4444444444444444, \"#bd3786\"], [0.5555555555555556, \"#d8576b\"], [0.6666666666666666, \"#ed7953\"], [0.7777777777777778, \"#fb9f3a\"], [0.8888888888888888, \"#fdca26\"], [1.0, \"#f0f921\"]], \"type\": \"contour\"}], \"contourcarpet\": [{\"colorbar\": {\"outlinewidth\": 0, \"ticks\": \"\"}, \"type\": \"contourcarpet\"}], \"heatmap\": [{\"colorbar\": {\"outlinewidth\": 0, \"ticks\": \"\"}, \"colorscale\": [[0.0, \"#0d0887\"], [0.1111111111111111, \"#46039f\"], [0.2222222222222222, \"#7201a8\"], [0.3333333333333333, \"#9c179e\"], [0.4444444444444444, \"#bd3786\"], [0.5555555555555556, \"#d8576b\"], [0.6666666666666666, \"#ed7953\"], [0.7777777777777778, \"#fb9f3a\"], [0.8888888888888888, \"#fdca26\"], [1.0, \"#f0f921\"]], \"type\": \"heatmap\"}], \"heatmapgl\": [{\"colorbar\": {\"outlinewidth\": 0, \"ticks\": \"\"}, \"colorscale\": [[0.0, \"#0d0887\"], [0.1111111111111111, \"#46039f\"], [0.2222222222222222, \"#7201a8\"], [0.3333333333333333, \"#9c179e\"], [0.4444444444444444, \"#bd3786\"], [0.5555555555555556, \"#d8576b\"], [0.6666666666666666, \"#ed7953\"], [0.7777777777777778, \"#fb9f3a\"], [0.8888888888888888, \"#fdca26\"], [1.0, \"#f0f921\"]], \"type\": \"heatmapgl\"}], \"histogram\": [{\"marker\": {\"colorbar\": {\"outlinewidth\": 0, \"ticks\": \"\"}}, \"type\": \"histogram\"}], \"histogram2d\": [{\"colorbar\": {\"outlinewidth\": 0, \"ticks\": \"\"}, \"colorscale\": [[0.0, \"#0d0887\"], [0.1111111111111111, \"#46039f\"], [0.2222222222222222, \"#7201a8\"], [0.3333333333333333, \"#9c179e\"], [0.4444444444444444, \"#bd3786\"], [0.5555555555555556, \"#d8576b\"], [0.6666666666666666, \"#ed7953\"], [0.7777777777777778, \"#fb9f3a\"], [0.8888888888888888, \"#fdca26\"], [1.0, \"#f0f921\"]], \"type\": \"histogram2d\"}], \"histogram2dcontour\": [{\"colorbar\": {\"outlinewidth\": 0, \"ticks\": \"\"}, \"colorscale\": [[0.0, \"#0d0887\"], [0.1111111111111111, \"#46039f\"], [0.2222222222222222, \"#7201a8\"], [0.3333333333333333, \"#9c179e\"], [0.4444444444444444, \"#bd3786\"], [0.5555555555555556, \"#d8576b\"], [0.6666666666666666, \"#ed7953\"], [0.7777777777777778, \"#fb9f3a\"], [0.8888888888888888, \"#fdca26\"], [1.0, \"#f0f921\"]], \"type\": \"histogram2dcontour\"}], \"mesh3d\": [{\"colorbar\": {\"outlinewidth\": 0, \"ticks\": \"\"}, \"type\": \"mesh3d\"}], \"parcoords\": [{\"line\": {\"colorbar\": {\"outlinewidth\": 0, \"ticks\": \"\"}}, \"type\": \"parcoords\"}], \"pie\": [{\"automargin\": true, \"type\": \"pie\"}], \"scatter\": [{\"marker\": {\"colorbar\": {\"outlinewidth\": 0, \"ticks\": \"\"}}, \"type\": \"scatter\"}], \"scatter3d\": [{\"line\": {\"colorbar\": {\"outlinewidth\": 0, \"ticks\": \"\"}}, \"marker\": {\"colorbar\": {\"outlinewidth\": 0, \"ticks\": \"\"}}, \"type\": \"scatter3d\"}], \"scattercarpet\": [{\"marker\": {\"colorbar\": {\"outlinewidth\": 0, \"ticks\": \"\"}}, \"type\": \"scattercarpet\"}], \"scattergeo\": [{\"marker\": {\"colorbar\": {\"outlinewidth\": 0, \"ticks\": \"\"}}, \"type\": \"scattergeo\"}], \"scattergl\": [{\"marker\": {\"colorbar\": {\"outlinewidth\": 0, \"ticks\": \"\"}}, \"type\": \"scattergl\"}], \"scattermapbox\": [{\"marker\": {\"colorbar\": {\"outlinewidth\": 0, \"ticks\": \"\"}}, \"type\": \"scattermapbox\"}], \"scatterpolar\": [{\"marker\": {\"colorbar\": {\"outlinewidth\": 0, \"ticks\": \"\"}}, \"type\": \"scatterpolar\"}], \"scatterpolargl\": [{\"marker\": {\"colorbar\": {\"outlinewidth\": 0, \"ticks\": \"\"}}, \"type\": \"scatterpolargl\"}], \"scatterternary\": [{\"marker\": {\"colorbar\": {\"outlinewidth\": 0, \"ticks\": \"\"}}, \"type\": \"scatterternary\"}], \"surface\": [{\"colorbar\": {\"outlinewidth\": 0, \"ticks\": \"\"}, \"colorscale\": [[0.0, \"#0d0887\"], [0.1111111111111111, \"#46039f\"], [0.2222222222222222, \"#7201a8\"], [0.3333333333333333, \"#9c179e\"], [0.4444444444444444, \"#bd3786\"], [0.5555555555555556, \"#d8576b\"], [0.6666666666666666, \"#ed7953\"], [0.7777777777777778, \"#fb9f3a\"], [0.8888888888888888, \"#fdca26\"], [1.0, \"#f0f921\"]], \"type\": \"surface\"}], \"table\": [{\"cells\": {\"fill\": {\"color\": \"#EBF0F8\"}, \"line\": {\"color\": \"white\"}}, \"header\": {\"fill\": {\"color\": \"#C8D4E3\"}, \"line\": {\"color\": \"white\"}}, \"type\": \"table\"}]}, \"layout\": {\"annotationdefaults\": {\"arrowcolor\": \"#2a3f5f\", \"arrowhead\": 0, \"arrowwidth\": 1}, \"autotypenumbers\": \"strict\", \"coloraxis\": {\"colorbar\": {\"outlinewidth\": 0, \"ticks\": \"\"}}, \"colorscale\": {\"diverging\": [[0, \"#8e0152\"], [0.1, \"#c51b7d\"], [0.2, \"#de77ae\"], [0.3, \"#f1b6da\"], [0.4, \"#fde0ef\"], [0.5, \"#f7f7f7\"], [0.6, \"#e6f5d0\"], [0.7, \"#b8e186\"], [0.8, \"#7fbc41\"], [0.9, \"#4d9221\"], [1, \"#276419\"]], \"sequential\": [[0.0, \"#0d0887\"], [0.1111111111111111, \"#46039f\"], [0.2222222222222222, \"#7201a8\"], [0.3333333333333333, \"#9c179e\"], [0.4444444444444444, \"#bd3786\"], [0.5555555555555556, \"#d8576b\"], [0.6666666666666666, \"#ed7953\"], [0.7777777777777778, \"#fb9f3a\"], [0.8888888888888888, \"#fdca26\"], [1.0, \"#f0f921\"]], \"sequentialminus\": [[0.0, \"#0d0887\"], [0.1111111111111111, \"#46039f\"], [0.2222222222222222, \"#7201a8\"], [0.3333333333333333, \"#9c179e\"], [0.4444444444444444, \"#bd3786\"], [0.5555555555555556, \"#d8576b\"], [0.6666666666666666, \"#ed7953\"], [0.7777777777777778, \"#fb9f3a\"], [0.8888888888888888, \"#fdca26\"], [1.0, \"#f0f921\"]]}, \"colorway\": [\"#636efa\", \"#EF553B\", \"#00cc96\", \"#ab63fa\", \"#FFA15A\", \"#19d3f3\", \"#FF6692\", \"#B6E880\", \"#FF97FF\", \"#FECB52\"], \"font\": {\"color\": \"#2a3f5f\"}, \"geo\": {\"bgcolor\": \"white\", \"lakecolor\": \"white\", \"landcolor\": \"#E5ECF6\", \"showlakes\": true, \"showland\": true, \"subunitcolor\": \"white\"}, \"hoverlabel\": {\"align\": \"left\"}, \"hovermode\": \"closest\", \"mapbox\": {\"style\": \"light\"}, \"paper_bgcolor\": \"white\", \"plot_bgcolor\": \"#E5ECF6\", \"polar\": {\"angularaxis\": {\"gridcolor\": \"white\", \"linecolor\": \"white\", \"ticks\": \"\"}, \"bgcolor\": \"#E5ECF6\", \"radialaxis\": {\"gridcolor\": \"white\", \"linecolor\": \"white\", \"ticks\": \"\"}}, \"scene\": {\"xaxis\": {\"backgroundcolor\": \"#E5ECF6\", \"gridcolor\": \"white\", \"gridwidth\": 2, \"linecolor\": \"white\", \"showbackground\": true, \"ticks\": \"\", \"zerolinecolor\": \"white\"}, \"yaxis\": {\"backgroundcolor\": \"#E5ECF6\", \"gridcolor\": \"white\", \"gridwidth\": 2, \"linecolor\": \"white\", \"showbackground\": true, \"ticks\": \"\", \"zerolinecolor\": \"white\"}, \"zaxis\": {\"backgroundcolor\": \"#E5ECF6\", \"gridcolor\": \"white\", \"gridwidth\": 2, \"linecolor\": \"white\", \"showbackground\": true, \"ticks\": \"\", \"zerolinecolor\": \"white\"}}, \"shapedefaults\": {\"line\": {\"color\": \"#2a3f5f\"}}, \"ternary\": {\"aaxis\": {\"gridcolor\": \"white\", \"linecolor\": \"white\", \"ticks\": \"\"}, \"baxis\": {\"gridcolor\": \"white\", \"linecolor\": \"white\", \"ticks\": \"\"}, \"bgcolor\": \"#E5ECF6\", \"caxis\": {\"gridcolor\": \"white\", \"linecolor\": \"white\", \"ticks\": \"\"}}, \"title\": {\"x\": 0.05}, \"xaxis\": {\"automargin\": true, \"gridcolor\": \"white\", \"linecolor\": \"white\", \"ticks\": \"\", \"title\": {\"standoff\": 15}, \"zerolinecolor\": \"white\", \"zerolinewidth\": 2}, \"yaxis\": {\"automargin\": true, \"gridcolor\": \"white\", \"linecolor\": \"white\", \"ticks\": \"\", \"title\": {\"standoff\": 15}, \"zerolinecolor\": \"white\", \"zerolinewidth\": 2}}}, \"title\": {\"text\": \"Total Vaccination % of Population by Top 20 Countries\", \"x\": 0.5}, \"uniformtext\": {\"minsize\": 15}, \"xaxis\": {\"anchor\": \"y\", \"domain\": [0.0, 1.0], \"tickangle\": -45, \"title\": {\"text\": \"Country\"}}, \"yaxis\": {\"anchor\": \"x\", \"domain\": [0.0, 1.0], \"title\": {\"text\": \"% of Population Vaccinated\"}}},                        {\"responsive\": true}                    ).then(function(){\n",
       "                            \n",
       "var gd = document.getElementById('5f8fc6d9-8756-4b41-bd78-c302db60059d');\n",
       "var x = new MutationObserver(function (mutations, observer) {{\n",
       "        var display = window.getComputedStyle(gd).display;\n",
       "        if (!display || display === 'none') {{\n",
       "            console.log([gd, 'removed!']);\n",
       "            Plotly.purge(gd);\n",
       "            observer.disconnect();\n",
       "        }}\n",
       "}});\n",
       "\n",
       "// Listen for the removal of the full notebook cells\n",
       "var notebookContainer = gd.closest('#notebook-container');\n",
       "if (notebookContainer) {{\n",
       "    x.observe(notebookContainer, {childList: true});\n",
       "}}\n",
       "\n",
       "// Listen for the clearing of the current output cell\n",
       "var outputEl = gd.closest('.output');\n",
       "if (outputEl) {{\n",
       "    x.observe(outputEl, {childList: true});\n",
       "}}\n",
       "\n",
       "                        })                };                });            </script>        </div>"
      ]
     },
     "metadata": {},
     "output_type": "display_data"
    }
   ],
   "source": [
    "df_f['pct_vaccinated'] = df_f['people_vaccinated'] / df_f['Population (2020)']\n",
    "\n",
    "# Sort data frame by pct_vaccinated\n",
    "df_f_sorted = df_f.sort_values('pct_vaccinated', ascending = False)\n",
    "\n",
    "# Select first 10 rows\n",
    "df_f_sorted = df_f_sorted.iloc[0:19,:]\n",
    "\n",
    "# Plot the bar chart\n",
    "fig = px.bar(df_f_sorted,\n",
    "              x = 'country',\n",
    "              y = 'pct_vaccinated',\n",
    "              color='pct_vaccinated',\n",
    "              hover_name = 'country',\n",
    "              hover_data = ['pct_vaccinated'],\n",
    "              color_continuous_scale = 'Peach',\n",
    "              labels = {'country':'Country','pct_vaccinated':'% of Population Vaccinated'},\n",
    "              height=500)\n",
    "\n",
    "fig.update_layout(uniformtext_minsize = 15,\n",
    "                   xaxis_tickangle = -45,\n",
    "                   title = 'Total Vaccination % of Population by Top 20 Countries',\n",
    "                   title_x = 0.5)\n",
    "\n",
    "fig.update(layout_coloraxis_showscale=False)\n",
    "fig.update_layout({'plot_bgcolor': 'rgba(0, 0, 0, 0)', 'paper_bgcolor': 'rgba(0, 0, 0, 0)',})\n",
    "\n",
    "fig.show()"
   ]
  },
  {
   "cell_type": "markdown",
   "id": "armed-midnight",
   "metadata": {},
   "source": [
    "### Surprise surprise\n",
    "\n",
    "Let's be honest, no one is expecting Gibraltar or Seychelles to be the first in the vaccinated people % of the population, yet, here it is...\n",
    "\n",
    "The final results shows the top 5 best performing countries in the vaccination process, and they are\n",
    "\n",
    "- Gibraltar\n",
    "- Seychelles\n",
    "- Israel\n",
    "- Falkland Islands\n",
    "- United Arab Emirates\n",
    "\n"
   ]
  },
  {
   "cell_type": "code",
   "execution_count": 26,
   "id": "greatest-nepal",
   "metadata": {},
   "outputs": [
    {
     "data": {
      "application/vnd.plotly.v1+json": {
       "config": {
        "plotlyServerURL": "https://plot.ly"
       },
       "data": [
        {
         "coloraxis": "coloraxis",
         "customdata": [
          [
           0.0021107040464834518
          ],
          [
           0.047226571092162974
          ],
          [
           0.00018675787094816175
          ],
          [
           0.2614801011579928
          ],
          [
           0.04144507900146969
          ],
          [
           0.006234432167625421
          ],
          [
           0.07919316819370849
          ],
          [
           0.04434435997793398
          ],
          [
           0.18848466182014978
          ],
          [
           0.02556869106330474
          ],
          [
           0.17639691480220013
          ],
          [
           0.0022165843349802494
          ],
          [
           0.06510869425581053
          ],
          [
           0.018663891988115685
          ],
          [
           0.279496119671578
          ],
          [
           0.010925960540698125
          ],
          [
           0.0400003785323195
          ],
          [
           0.040371274436815124
          ],
          [
           0.009655906083904667
          ],
          [
           0.06192361694986379
          ],
          [
           0.2688067543353479
          ],
          [
           0.25098449406503814
          ],
          [
           0.013144180403391006
          ],
          [
           0.03681305047785662
          ],
          [
           0.00033232297383226534
          ],
          [
           0.04930037878723219
          ],
          [
           0.05834627913632882
          ],
          [
           0.07192610189927058
          ],
          [
           0.10016581029645708
          ],
          [
           0.1000041656831026
          ],
          [
           0.05576742160222633
          ],
          [
           0.006740047643117468
          ],
          [
           0.0024646010126737486
          ],
          [
           0.09635160508120567
          ],
          [
           0.10023314790575916
          ],
          [
           0.4952816700028596
          ],
          [
           0.10606691846631604
          ],
          [
           0.07432400500283848
          ],
          [
           0.07292631654086033
          ],
          [
           0.00962111164376436
          ],
          [
           0.8789219032918757
          ],
          [
           0.08425267833410921
          ],
          [
           0.06915315124940567
          ],
          [
           0.026639671799243432
          ],
          [
           0.0015877465628408543
          ],
          [
           0.002352597447965295
          ],
          [
           0.0002702557652633337
          ],
          [
           0.02357635134784136
          ],
          [
           0.13662679397840696
          ],
          [
           0.09957614715421452
          ],
          [
           0.01758434653095323
          ],
          [
           0.014544823991322961
          ],
          [
           0.00011879739637448641
          ],
          [
           0.08280571879383102
          ],
          [
           0.23411504840680514
          ],
          [
           0.5909087923662534
          ],
          [
           0.07678834517433608
          ],
          [
           0.0017973153506761653
          ],
          [
           0.004892078785167687
          ],
          [
           0.0010713129166471567
          ],
          [
           7.411698094335685e-05
          ],
          [
           0.07521044911382471
          ],
          [
           0.04194414813366709
          ],
          [
           0.011462943564610785
          ],
          [
           0.09338167595954834
          ],
          [
           0.06302014962466386
          ],
          [
           0.04246319405819503
          ],
          [
           0.008504217857880221
          ],
          [
           0.17835427277872098
          ],
          [
           0.003020893926769066
          ],
          [
           0.027905325075104112
          ],
          [
           0.0028348627357032996
          ],
          [
           0.005371927143039103
          ],
          [
           0.13058281594231924
          ],
          [
           0.1138488294803408
          ],
          [
           0.0018934430077087558
          ],
          [
           0.07046646439783955
          ],
          [
           0.0037274635997648384
          ],
          [
           0.08173313384644348
          ],
          [
           0.015434497815742333
          ],
          [
           0.00032887091780377204
          ],
          [
           0.001060362896224764
          ],
          [
           0.011118204358816348
          ],
          [
           0.0010425171831415156
          ],
          [
           0.07642203843601043
          ],
          [
           0.0798103579200874
          ],
          [
           0.034610650943278684
          ],
          [
           0.07153906028163572
          ],
          [
           0.03785128758042624
          ],
          [
           0.01845401064473469
          ],
          [
           0.011394430115250253
          ],
          [
           0.14158614188074475
          ],
          [
           0.004055828610155752
          ],
          [
           0.13953701723761353
          ],
          [
           0.6202959787919109
          ],
          [
           0.06701919081948722
          ],
          [
           0.07121506182385737
          ],
          [
           0.0810417948339313
          ],
          [
           0.0024487217288637624
          ],
          [
           0.011464872431929831
          ],
          [
           0.08061774695998415
          ],
          [
           0.07506098029590416
          ],
          [
           0.07691894920325909
          ],
          [
           0.0003142221965131334
          ],
          [
           0.09334897113675382
          ],
          [
           0.16577333402051228
          ],
          [
           0.0011705426131234772
          ],
          [
           0.3511707119803142
          ],
          [
           0.34856073329418397
          ],
          [
           0.20789458776689457
          ],
          [
           0.059615770797406785
          ],
          [
           0.00042904017197354364
          ],
          [
           0.0024402388466238842
          ]
         ],
         "geo": "geo",
         "hovertemplate": "<b>%{hovertext}</b><br><br>Country=%{location}<br>% of Population Vaccinated=%{z}<extra></extra>",
         "hovertext": [
          "Albania",
          "Andorra",
          "Angola",
          "Anguilla",
          "Argentina",
          "Australia",
          "Austria",
          "Azerbaijan",
          "Bahrain",
          "Bangladesh",
          "Barbados",
          "Belarus",
          "Belgium",
          "Belize",
          "Bermuda",
          "Bolivia",
          "Brazil",
          "Bulgaria",
          "Cambodia",
          "Canada",
          "Cayman Islands",
          "Chile",
          "Colombia",
          "Costa Rica",
          "Cote d'Ivoire",
          "Croatia",
          "Cyprus",
          "Czechia",
          "Denmark",
          "Dominica",
          "Dominican Republic",
          "Ecuador",
          "El Salvador",
          "Estonia",
          "Faeroe Islands",
          "Falkland Islands",
          "Finland",
          "France",
          "Germany",
          "Ghana",
          "Gibraltar",
          "Greece",
          "Greenland",
          "Grenada",
          "Guatemala",
          "Guyana",
          "Honduras",
          "Hong Kong",
          "Hungary",
          "Iceland",
          "India",
          "Indonesia",
          "Iran",
          "Ireland",
          "Isle of Man",
          "Israel",
          "Italy",
          "Japan",
          "Jordan",
          "Kazakhstan",
          "Kenya",
          "Kuwait",
          "Latvia",
          "Lebanon",
          "Lithuania",
          "Luxembourg",
          "Macao",
          "Malaysia",
          "Malta",
          "Mauritius",
          "Mexico",
          "Moldova",
          "Montenegro",
          "Montserrat",
          "Morocco",
          "Myanmar",
          "Netherlands",
          "New Zealand",
          "Norway",
          "Oman",
          "Pakistan",
          "Paraguay",
          "Peru",
          "Philippines",
          "Poland",
          "Portugal",
          "Qatar",
          "Romania",
          "Russia",
          "Rwanda",
          "Saint Lucia",
          "San Marino",
          "Senegal",
          "Serbia",
          "Seychelles",
          "Singapore",
          "Slovakia",
          "Slovenia",
          "South Africa",
          "South Korea",
          "Spain",
          "Sweden",
          "Switzerland",
          "Trinidad and Tobago",
          "Turkey",
          "Turks and Caicos Islands",
          "Ukraine",
          "United Arab Emirates",
          "United Kingdom",
          "United States",
          "Uruguay",
          "Venezuela",
          "Zimbabwe"
         ],
         "locationmode": "country names",
         "locations": [
          "Albania",
          "Andorra",
          "Angola",
          "Anguilla",
          "Argentina",
          "Australia",
          "Austria",
          "Azerbaijan",
          "Bahrain",
          "Bangladesh",
          "Barbados",
          "Belarus",
          "Belgium",
          "Belize",
          "Bermuda",
          "Bolivia",
          "Brazil",
          "Bulgaria",
          "Cambodia",
          "Canada",
          "Cayman Islands",
          "Chile",
          "Colombia",
          "Costa Rica",
          "Cote d'Ivoire",
          "Croatia",
          "Cyprus",
          "Czechia",
          "Denmark",
          "Dominica",
          "Dominican Republic",
          "Ecuador",
          "El Salvador",
          "Estonia",
          "Faeroe Islands",
          "Falkland Islands",
          "Finland",
          "France",
          "Germany",
          "Ghana",
          "Gibraltar",
          "Greece",
          "Greenland",
          "Grenada",
          "Guatemala",
          "Guyana",
          "Honduras",
          "Hong Kong",
          "Hungary",
          "Iceland",
          "India",
          "Indonesia",
          "Iran",
          "Ireland",
          "Isle of Man",
          "Israel",
          "Italy",
          "Japan",
          "Jordan",
          "Kazakhstan",
          "Kenya",
          "Kuwait",
          "Latvia",
          "Lebanon",
          "Lithuania",
          "Luxembourg",
          "Macao",
          "Malaysia",
          "Malta",
          "Mauritius",
          "Mexico",
          "Moldova",
          "Montenegro",
          "Montserrat",
          "Morocco",
          "Myanmar",
          "Netherlands",
          "New Zealand",
          "Norway",
          "Oman",
          "Pakistan",
          "Paraguay",
          "Peru",
          "Philippines",
          "Poland",
          "Portugal",
          "Qatar",
          "Romania",
          "Russia",
          "Rwanda",
          "Saint Lucia",
          "San Marino",
          "Senegal",
          "Serbia",
          "Seychelles",
          "Singapore",
          "Slovakia",
          "Slovenia",
          "South Africa",
          "South Korea",
          "Spain",
          "Sweden",
          "Switzerland",
          "Trinidad and Tobago",
          "Turkey",
          "Turks and Caicos Islands",
          "Ukraine",
          "United Arab Emirates",
          "United Kingdom",
          "United States",
          "Uruguay",
          "Venezuela",
          "Zimbabwe"
         ],
         "name": "",
         "type": "choropleth",
         "z": [
          0.0021107040464834518,
          0.047226571092162974,
          0.00018675787094816175,
          0.2614801011579928,
          0.04144507900146969,
          0.006234432167625421,
          0.07919316819370849,
          0.04434435997793398,
          0.18848466182014978,
          0.02556869106330474,
          0.17639691480220013,
          0.0022165843349802494,
          0.06510869425581053,
          0.018663891988115685,
          0.279496119671578,
          0.010925960540698125,
          0.0400003785323195,
          0.040371274436815124,
          0.009655906083904667,
          0.06192361694986379,
          0.2688067543353479,
          0.25098449406503814,
          0.013144180403391006,
          0.03681305047785662,
          0.00033232297383226534,
          0.04930037878723219,
          0.05834627913632882,
          0.07192610189927058,
          0.10016581029645708,
          0.1000041656831026,
          0.05576742160222633,
          0.006740047643117468,
          0.0024646010126737486,
          0.09635160508120567,
          0.10023314790575916,
          0.4952816700028596,
          0.10606691846631604,
          0.07432400500283848,
          0.07292631654086033,
          0.00962111164376436,
          0.8789219032918757,
          0.08425267833410921,
          0.06915315124940567,
          0.026639671799243432,
          0.0015877465628408543,
          0.002352597447965295,
          0.0002702557652633337,
          0.02357635134784136,
          0.13662679397840696,
          0.09957614715421452,
          0.01758434653095323,
          0.014544823991322961,
          0.00011879739637448641,
          0.08280571879383102,
          0.23411504840680514,
          0.5909087923662534,
          0.07678834517433608,
          0.0017973153506761653,
          0.004892078785167687,
          0.0010713129166471567,
          7.411698094335685e-05,
          0.07521044911382471,
          0.04194414813366709,
          0.011462943564610785,
          0.09338167595954834,
          0.06302014962466386,
          0.04246319405819503,
          0.008504217857880221,
          0.17835427277872098,
          0.003020893926769066,
          0.027905325075104112,
          0.0028348627357032996,
          0.005371927143039103,
          0.13058281594231924,
          0.1138488294803408,
          0.0018934430077087558,
          0.07046646439783955,
          0.0037274635997648384,
          0.08173313384644348,
          0.015434497815742333,
          0.00032887091780377204,
          0.001060362896224764,
          0.011118204358816348,
          0.0010425171831415156,
          0.07642203843601043,
          0.0798103579200874,
          0.034610650943278684,
          0.07153906028163572,
          0.03785128758042624,
          0.01845401064473469,
          0.011394430115250253,
          0.14158614188074475,
          0.004055828610155752,
          0.13953701723761353,
          0.6202959787919109,
          0.06701919081948722,
          0.07121506182385737,
          0.0810417948339313,
          0.0024487217288637624,
          0.011464872431929831,
          0.08061774695998415,
          0.07506098029590416,
          0.07691894920325909,
          0.0003142221965131334,
          0.09334897113675382,
          0.16577333402051228,
          0.0011705426131234772,
          0.3511707119803142,
          0.34856073329418397,
          0.20789458776689457,
          0.059615770797406785,
          0.00042904017197354364,
          0.0024402388466238842
         ]
        }
       ],
       "layout": {
        "coloraxis": {
         "colorbar": {
          "title": {
           "text": "% of Population Vaccinated"
          }
         },
         "colorscale": [
          [
           0,
           "rgb(253, 224, 197)"
          ],
          [
           0.16666666666666666,
           "rgb(250, 203, 166)"
          ],
          [
           0.3333333333333333,
           "rgb(248, 181, 139)"
          ],
          [
           0.5,
           "rgb(245, 158, 114)"
          ],
          [
           0.6666666666666666,
           "rgb(242, 133, 93)"
          ],
          [
           0.8333333333333334,
           "rgb(239, 106, 76)"
          ],
          [
           1,
           "rgb(235, 74, 64)"
          ]
         ],
         "showscale": false
        },
        "geo": {
         "center": {},
         "domain": {
          "x": [
           0,
           1
          ],
          "y": [
           0,
           1
          ]
         }
        },
        "legend": {
         "tracegroupgap": 0
        },
        "margin": {
         "t": 60
        },
        "template": {
         "data": {
          "bar": [
           {
            "error_x": {
             "color": "#2a3f5f"
            },
            "error_y": {
             "color": "#2a3f5f"
            },
            "marker": {
             "line": {
              "color": "#E5ECF6",
              "width": 0.5
             }
            },
            "type": "bar"
           }
          ],
          "barpolar": [
           {
            "marker": {
             "line": {
              "color": "#E5ECF6",
              "width": 0.5
             }
            },
            "type": "barpolar"
           }
          ],
          "carpet": [
           {
            "aaxis": {
             "endlinecolor": "#2a3f5f",
             "gridcolor": "white",
             "linecolor": "white",
             "minorgridcolor": "white",
             "startlinecolor": "#2a3f5f"
            },
            "baxis": {
             "endlinecolor": "#2a3f5f",
             "gridcolor": "white",
             "linecolor": "white",
             "minorgridcolor": "white",
             "startlinecolor": "#2a3f5f"
            },
            "type": "carpet"
           }
          ],
          "choropleth": [
           {
            "colorbar": {
             "outlinewidth": 0,
             "ticks": ""
            },
            "type": "choropleth"
           }
          ],
          "contour": [
           {
            "colorbar": {
             "outlinewidth": 0,
             "ticks": ""
            },
            "colorscale": [
             [
              0,
              "#0d0887"
             ],
             [
              0.1111111111111111,
              "#46039f"
             ],
             [
              0.2222222222222222,
              "#7201a8"
             ],
             [
              0.3333333333333333,
              "#9c179e"
             ],
             [
              0.4444444444444444,
              "#bd3786"
             ],
             [
              0.5555555555555556,
              "#d8576b"
             ],
             [
              0.6666666666666666,
              "#ed7953"
             ],
             [
              0.7777777777777778,
              "#fb9f3a"
             ],
             [
              0.8888888888888888,
              "#fdca26"
             ],
             [
              1,
              "#f0f921"
             ]
            ],
            "type": "contour"
           }
          ],
          "contourcarpet": [
           {
            "colorbar": {
             "outlinewidth": 0,
             "ticks": ""
            },
            "type": "contourcarpet"
           }
          ],
          "heatmap": [
           {
            "colorbar": {
             "outlinewidth": 0,
             "ticks": ""
            },
            "colorscale": [
             [
              0,
              "#0d0887"
             ],
             [
              0.1111111111111111,
              "#46039f"
             ],
             [
              0.2222222222222222,
              "#7201a8"
             ],
             [
              0.3333333333333333,
              "#9c179e"
             ],
             [
              0.4444444444444444,
              "#bd3786"
             ],
             [
              0.5555555555555556,
              "#d8576b"
             ],
             [
              0.6666666666666666,
              "#ed7953"
             ],
             [
              0.7777777777777778,
              "#fb9f3a"
             ],
             [
              0.8888888888888888,
              "#fdca26"
             ],
             [
              1,
              "#f0f921"
             ]
            ],
            "type": "heatmap"
           }
          ],
          "heatmapgl": [
           {
            "colorbar": {
             "outlinewidth": 0,
             "ticks": ""
            },
            "colorscale": [
             [
              0,
              "#0d0887"
             ],
             [
              0.1111111111111111,
              "#46039f"
             ],
             [
              0.2222222222222222,
              "#7201a8"
             ],
             [
              0.3333333333333333,
              "#9c179e"
             ],
             [
              0.4444444444444444,
              "#bd3786"
             ],
             [
              0.5555555555555556,
              "#d8576b"
             ],
             [
              0.6666666666666666,
              "#ed7953"
             ],
             [
              0.7777777777777778,
              "#fb9f3a"
             ],
             [
              0.8888888888888888,
              "#fdca26"
             ],
             [
              1,
              "#f0f921"
             ]
            ],
            "type": "heatmapgl"
           }
          ],
          "histogram": [
           {
            "marker": {
             "colorbar": {
              "outlinewidth": 0,
              "ticks": ""
             }
            },
            "type": "histogram"
           }
          ],
          "histogram2d": [
           {
            "colorbar": {
             "outlinewidth": 0,
             "ticks": ""
            },
            "colorscale": [
             [
              0,
              "#0d0887"
             ],
             [
              0.1111111111111111,
              "#46039f"
             ],
             [
              0.2222222222222222,
              "#7201a8"
             ],
             [
              0.3333333333333333,
              "#9c179e"
             ],
             [
              0.4444444444444444,
              "#bd3786"
             ],
             [
              0.5555555555555556,
              "#d8576b"
             ],
             [
              0.6666666666666666,
              "#ed7953"
             ],
             [
              0.7777777777777778,
              "#fb9f3a"
             ],
             [
              0.8888888888888888,
              "#fdca26"
             ],
             [
              1,
              "#f0f921"
             ]
            ],
            "type": "histogram2d"
           }
          ],
          "histogram2dcontour": [
           {
            "colorbar": {
             "outlinewidth": 0,
             "ticks": ""
            },
            "colorscale": [
             [
              0,
              "#0d0887"
             ],
             [
              0.1111111111111111,
              "#46039f"
             ],
             [
              0.2222222222222222,
              "#7201a8"
             ],
             [
              0.3333333333333333,
              "#9c179e"
             ],
             [
              0.4444444444444444,
              "#bd3786"
             ],
             [
              0.5555555555555556,
              "#d8576b"
             ],
             [
              0.6666666666666666,
              "#ed7953"
             ],
             [
              0.7777777777777778,
              "#fb9f3a"
             ],
             [
              0.8888888888888888,
              "#fdca26"
             ],
             [
              1,
              "#f0f921"
             ]
            ],
            "type": "histogram2dcontour"
           }
          ],
          "mesh3d": [
           {
            "colorbar": {
             "outlinewidth": 0,
             "ticks": ""
            },
            "type": "mesh3d"
           }
          ],
          "parcoords": [
           {
            "line": {
             "colorbar": {
              "outlinewidth": 0,
              "ticks": ""
             }
            },
            "type": "parcoords"
           }
          ],
          "pie": [
           {
            "automargin": true,
            "type": "pie"
           }
          ],
          "scatter": [
           {
            "marker": {
             "colorbar": {
              "outlinewidth": 0,
              "ticks": ""
             }
            },
            "type": "scatter"
           }
          ],
          "scatter3d": [
           {
            "line": {
             "colorbar": {
              "outlinewidth": 0,
              "ticks": ""
             }
            },
            "marker": {
             "colorbar": {
              "outlinewidth": 0,
              "ticks": ""
             }
            },
            "type": "scatter3d"
           }
          ],
          "scattercarpet": [
           {
            "marker": {
             "colorbar": {
              "outlinewidth": 0,
              "ticks": ""
             }
            },
            "type": "scattercarpet"
           }
          ],
          "scattergeo": [
           {
            "marker": {
             "colorbar": {
              "outlinewidth": 0,
              "ticks": ""
             }
            },
            "type": "scattergeo"
           }
          ],
          "scattergl": [
           {
            "marker": {
             "colorbar": {
              "outlinewidth": 0,
              "ticks": ""
             }
            },
            "type": "scattergl"
           }
          ],
          "scattermapbox": [
           {
            "marker": {
             "colorbar": {
              "outlinewidth": 0,
              "ticks": ""
             }
            },
            "type": "scattermapbox"
           }
          ],
          "scatterpolar": [
           {
            "marker": {
             "colorbar": {
              "outlinewidth": 0,
              "ticks": ""
             }
            },
            "type": "scatterpolar"
           }
          ],
          "scatterpolargl": [
           {
            "marker": {
             "colorbar": {
              "outlinewidth": 0,
              "ticks": ""
             }
            },
            "type": "scatterpolargl"
           }
          ],
          "scatterternary": [
           {
            "marker": {
             "colorbar": {
              "outlinewidth": 0,
              "ticks": ""
             }
            },
            "type": "scatterternary"
           }
          ],
          "surface": [
           {
            "colorbar": {
             "outlinewidth": 0,
             "ticks": ""
            },
            "colorscale": [
             [
              0,
              "#0d0887"
             ],
             [
              0.1111111111111111,
              "#46039f"
             ],
             [
              0.2222222222222222,
              "#7201a8"
             ],
             [
              0.3333333333333333,
              "#9c179e"
             ],
             [
              0.4444444444444444,
              "#bd3786"
             ],
             [
              0.5555555555555556,
              "#d8576b"
             ],
             [
              0.6666666666666666,
              "#ed7953"
             ],
             [
              0.7777777777777778,
              "#fb9f3a"
             ],
             [
              0.8888888888888888,
              "#fdca26"
             ],
             [
              1,
              "#f0f921"
             ]
            ],
            "type": "surface"
           }
          ],
          "table": [
           {
            "cells": {
             "fill": {
              "color": "#EBF0F8"
             },
             "line": {
              "color": "white"
             }
            },
            "header": {
             "fill": {
              "color": "#C8D4E3"
             },
             "line": {
              "color": "white"
             }
            },
            "type": "table"
           }
          ]
         },
         "layout": {
          "annotationdefaults": {
           "arrowcolor": "#2a3f5f",
           "arrowhead": 0,
           "arrowwidth": 1
          },
          "autotypenumbers": "strict",
          "coloraxis": {
           "colorbar": {
            "outlinewidth": 0,
            "ticks": ""
           }
          },
          "colorscale": {
           "diverging": [
            [
             0,
             "#8e0152"
            ],
            [
             0.1,
             "#c51b7d"
            ],
            [
             0.2,
             "#de77ae"
            ],
            [
             0.3,
             "#f1b6da"
            ],
            [
             0.4,
             "#fde0ef"
            ],
            [
             0.5,
             "#f7f7f7"
            ],
            [
             0.6,
             "#e6f5d0"
            ],
            [
             0.7,
             "#b8e186"
            ],
            [
             0.8,
             "#7fbc41"
            ],
            [
             0.9,
             "#4d9221"
            ],
            [
             1,
             "#276419"
            ]
           ],
           "sequential": [
            [
             0,
             "#0d0887"
            ],
            [
             0.1111111111111111,
             "#46039f"
            ],
            [
             0.2222222222222222,
             "#7201a8"
            ],
            [
             0.3333333333333333,
             "#9c179e"
            ],
            [
             0.4444444444444444,
             "#bd3786"
            ],
            [
             0.5555555555555556,
             "#d8576b"
            ],
            [
             0.6666666666666666,
             "#ed7953"
            ],
            [
             0.7777777777777778,
             "#fb9f3a"
            ],
            [
             0.8888888888888888,
             "#fdca26"
            ],
            [
             1,
             "#f0f921"
            ]
           ],
           "sequentialminus": [
            [
             0,
             "#0d0887"
            ],
            [
             0.1111111111111111,
             "#46039f"
            ],
            [
             0.2222222222222222,
             "#7201a8"
            ],
            [
             0.3333333333333333,
             "#9c179e"
            ],
            [
             0.4444444444444444,
             "#bd3786"
            ],
            [
             0.5555555555555556,
             "#d8576b"
            ],
            [
             0.6666666666666666,
             "#ed7953"
            ],
            [
             0.7777777777777778,
             "#fb9f3a"
            ],
            [
             0.8888888888888888,
             "#fdca26"
            ],
            [
             1,
             "#f0f921"
            ]
           ]
          },
          "colorway": [
           "#636efa",
           "#EF553B",
           "#00cc96",
           "#ab63fa",
           "#FFA15A",
           "#19d3f3",
           "#FF6692",
           "#B6E880",
           "#FF97FF",
           "#FECB52"
          ],
          "font": {
           "color": "#2a3f5f"
          },
          "geo": {
           "bgcolor": "white",
           "lakecolor": "white",
           "landcolor": "#E5ECF6",
           "showlakes": true,
           "showland": true,
           "subunitcolor": "white"
          },
          "hoverlabel": {
           "align": "left"
          },
          "hovermode": "closest",
          "mapbox": {
           "style": "light"
          },
          "paper_bgcolor": "white",
          "plot_bgcolor": "#E5ECF6",
          "polar": {
           "angularaxis": {
            "gridcolor": "white",
            "linecolor": "white",
            "ticks": ""
           },
           "bgcolor": "#E5ECF6",
           "radialaxis": {
            "gridcolor": "white",
            "linecolor": "white",
            "ticks": ""
           }
          },
          "scene": {
           "xaxis": {
            "backgroundcolor": "#E5ECF6",
            "gridcolor": "white",
            "gridwidth": 2,
            "linecolor": "white",
            "showbackground": true,
            "ticks": "",
            "zerolinecolor": "white"
           },
           "yaxis": {
            "backgroundcolor": "#E5ECF6",
            "gridcolor": "white",
            "gridwidth": 2,
            "linecolor": "white",
            "showbackground": true,
            "ticks": "",
            "zerolinecolor": "white"
           },
           "zaxis": {
            "backgroundcolor": "#E5ECF6",
            "gridcolor": "white",
            "gridwidth": 2,
            "linecolor": "white",
            "showbackground": true,
            "ticks": "",
            "zerolinecolor": "white"
           }
          },
          "shapedefaults": {
           "line": {
            "color": "#2a3f5f"
           }
          },
          "ternary": {
           "aaxis": {
            "gridcolor": "white",
            "linecolor": "white",
            "ticks": ""
           },
           "baxis": {
            "gridcolor": "white",
            "linecolor": "white",
            "ticks": ""
           },
           "bgcolor": "#E5ECF6",
           "caxis": {
            "gridcolor": "white",
            "linecolor": "white",
            "ticks": ""
           }
          },
          "title": {
           "x": 0.05
          },
          "xaxis": {
           "automargin": true,
           "gridcolor": "white",
           "linecolor": "white",
           "ticks": "",
           "title": {
            "standoff": 15
           },
           "zerolinecolor": "white",
           "zerolinewidth": 2
          },
          "yaxis": {
           "automargin": true,
           "gridcolor": "white",
           "linecolor": "white",
           "ticks": "",
           "title": {
            "standoff": 15
           },
           "zerolinecolor": "white",
           "zerolinewidth": 2
          }
         }
        },
        "title": {
         "text": "Total Vaccination % of Population by Country",
         "x": 0.5
        }
       }
      },
      "text/html": [
       "<div>                            <div id=\"abda3219-525e-412c-bf51-b6cb6e7d5d5c\" class=\"plotly-graph-div\" style=\"height:525px; width:100%;\"></div>            <script type=\"text/javascript\">                require([\"plotly\"], function(Plotly) {                    window.PLOTLYENV=window.PLOTLYENV || {};                                    if (document.getElementById(\"abda3219-525e-412c-bf51-b6cb6e7d5d5c\")) {                    Plotly.newPlot(                        \"abda3219-525e-412c-bf51-b6cb6e7d5d5c\",                        [{\"coloraxis\": \"coloraxis\", \"customdata\": [[0.0021107040464834518], [0.047226571092162974], [0.00018675787094816175], [0.2614801011579928], [0.04144507900146969], [0.006234432167625421], [0.07919316819370849], [0.04434435997793398], [0.18848466182014978], [0.02556869106330474], [0.17639691480220013], [0.0022165843349802494], [0.06510869425581053], [0.018663891988115685], [0.279496119671578], [0.010925960540698125], [0.0400003785323195], [0.040371274436815124], [0.009655906083904667], [0.06192361694986379], [0.2688067543353479], [0.25098449406503814], [0.013144180403391006], [0.03681305047785662], [0.00033232297383226534], [0.04930037878723219], [0.05834627913632882], [0.07192610189927058], [0.10016581029645708], [0.1000041656831026], [0.05576742160222633], [0.006740047643117468], [0.0024646010126737486], [0.09635160508120567], [0.10023314790575916], [0.4952816700028596], [0.10606691846631604], [0.07432400500283848], [0.07292631654086033], [0.00962111164376436], [0.8789219032918757], [0.08425267833410921], [0.06915315124940567], [0.026639671799243432], [0.0015877465628408543], [0.002352597447965295], [0.0002702557652633337], [0.02357635134784136], [0.13662679397840696], [0.09957614715421452], [0.01758434653095323], [0.014544823991322961], [0.00011879739637448641], [0.08280571879383102], [0.23411504840680514], [0.5909087923662534], [0.07678834517433608], [0.0017973153506761653], [0.004892078785167687], [0.0010713129166471567], [7.411698094335685e-05], [0.07521044911382471], [0.04194414813366709], [0.011462943564610785], [0.09338167595954834], [0.06302014962466386], [0.04246319405819503], [0.008504217857880221], [0.17835427277872098], [0.003020893926769066], [0.027905325075104112], [0.0028348627357032996], [0.005371927143039103], [0.13058281594231924], [0.1138488294803408], [0.0018934430077087558], [0.07046646439783955], [0.0037274635997648384], [0.08173313384644348], [0.015434497815742333], [0.00032887091780377204], [0.001060362896224764], [0.011118204358816348], [0.0010425171831415156], [0.07642203843601043], [0.0798103579200874], [0.034610650943278684], [0.07153906028163572], [0.03785128758042624], [0.01845401064473469], [0.011394430115250253], [0.14158614188074475], [0.004055828610155752], [0.13953701723761353], [0.6202959787919109], [0.06701919081948722], [0.07121506182385737], [0.0810417948339313], [0.0024487217288637624], [0.011464872431929831], [0.08061774695998415], [0.07506098029590416], [0.07691894920325909], [0.0003142221965131334], [0.09334897113675382], [0.16577333402051228], [0.0011705426131234772], [0.3511707119803142], [0.34856073329418397], [0.20789458776689457], [0.059615770797406785], [0.00042904017197354364], [0.0024402388466238842]], \"geo\": \"geo\", \"hovertemplate\": \"<b>%{hovertext}</b><br><br>Country=%{location}<br>% of Population Vaccinated=%{z}<extra></extra>\", \"hovertext\": [\"Albania\", \"Andorra\", \"Angola\", \"Anguilla\", \"Argentina\", \"Australia\", \"Austria\", \"Azerbaijan\", \"Bahrain\", \"Bangladesh\", \"Barbados\", \"Belarus\", \"Belgium\", \"Belize\", \"Bermuda\", \"Bolivia\", \"Brazil\", \"Bulgaria\", \"Cambodia\", \"Canada\", \"Cayman Islands\", \"Chile\", \"Colombia\", \"Costa Rica\", \"Cote d'Ivoire\", \"Croatia\", \"Cyprus\", \"Czechia\", \"Denmark\", \"Dominica\", \"Dominican Republic\", \"Ecuador\", \"El Salvador\", \"Estonia\", \"Faeroe Islands\", \"Falkland Islands\", \"Finland\", \"France\", \"Germany\", \"Ghana\", \"Gibraltar\", \"Greece\", \"Greenland\", \"Grenada\", \"Guatemala\", \"Guyana\", \"Honduras\", \"Hong Kong\", \"Hungary\", \"Iceland\", \"India\", \"Indonesia\", \"Iran\", \"Ireland\", \"Isle of Man\", \"Israel\", \"Italy\", \"Japan\", \"Jordan\", \"Kazakhstan\", \"Kenya\", \"Kuwait\", \"Latvia\", \"Lebanon\", \"Lithuania\", \"Luxembourg\", \"Macao\", \"Malaysia\", \"Malta\", \"Mauritius\", \"Mexico\", \"Moldova\", \"Montenegro\", \"Montserrat\", \"Morocco\", \"Myanmar\", \"Netherlands\", \"New Zealand\", \"Norway\", \"Oman\", \"Pakistan\", \"Paraguay\", \"Peru\", \"Philippines\", \"Poland\", \"Portugal\", \"Qatar\", \"Romania\", \"Russia\", \"Rwanda\", \"Saint Lucia\", \"San Marino\", \"Senegal\", \"Serbia\", \"Seychelles\", \"Singapore\", \"Slovakia\", \"Slovenia\", \"South Africa\", \"South Korea\", \"Spain\", \"Sweden\", \"Switzerland\", \"Trinidad and Tobago\", \"Turkey\", \"Turks and Caicos Islands\", \"Ukraine\", \"United Arab Emirates\", \"United Kingdom\", \"United States\", \"Uruguay\", \"Venezuela\", \"Zimbabwe\"], \"locationmode\": \"country names\", \"locations\": [\"Albania\", \"Andorra\", \"Angola\", \"Anguilla\", \"Argentina\", \"Australia\", \"Austria\", \"Azerbaijan\", \"Bahrain\", \"Bangladesh\", \"Barbados\", \"Belarus\", \"Belgium\", \"Belize\", \"Bermuda\", \"Bolivia\", \"Brazil\", \"Bulgaria\", \"Cambodia\", \"Canada\", \"Cayman Islands\", \"Chile\", \"Colombia\", \"Costa Rica\", \"Cote d'Ivoire\", \"Croatia\", \"Cyprus\", \"Czechia\", \"Denmark\", \"Dominica\", \"Dominican Republic\", \"Ecuador\", \"El Salvador\", \"Estonia\", \"Faeroe Islands\", \"Falkland Islands\", \"Finland\", \"France\", \"Germany\", \"Ghana\", \"Gibraltar\", \"Greece\", \"Greenland\", \"Grenada\", \"Guatemala\", \"Guyana\", \"Honduras\", \"Hong Kong\", \"Hungary\", \"Iceland\", \"India\", \"Indonesia\", \"Iran\", \"Ireland\", \"Isle of Man\", \"Israel\", \"Italy\", \"Japan\", \"Jordan\", \"Kazakhstan\", \"Kenya\", \"Kuwait\", \"Latvia\", \"Lebanon\", \"Lithuania\", \"Luxembourg\", \"Macao\", \"Malaysia\", \"Malta\", \"Mauritius\", \"Mexico\", \"Moldova\", \"Montenegro\", \"Montserrat\", \"Morocco\", \"Myanmar\", \"Netherlands\", \"New Zealand\", \"Norway\", \"Oman\", \"Pakistan\", \"Paraguay\", \"Peru\", \"Philippines\", \"Poland\", \"Portugal\", \"Qatar\", \"Romania\", \"Russia\", \"Rwanda\", \"Saint Lucia\", \"San Marino\", \"Senegal\", \"Serbia\", \"Seychelles\", \"Singapore\", \"Slovakia\", \"Slovenia\", \"South Africa\", \"South Korea\", \"Spain\", \"Sweden\", \"Switzerland\", \"Trinidad and Tobago\", \"Turkey\", \"Turks and Caicos Islands\", \"Ukraine\", \"United Arab Emirates\", \"United Kingdom\", \"United States\", \"Uruguay\", \"Venezuela\", \"Zimbabwe\"], \"name\": \"\", \"type\": \"choropleth\", \"z\": [0.0021107040464834518, 0.047226571092162974, 0.00018675787094816175, 0.2614801011579928, 0.04144507900146969, 0.006234432167625421, 0.07919316819370849, 0.04434435997793398, 0.18848466182014978, 0.02556869106330474, 0.17639691480220013, 0.0022165843349802494, 0.06510869425581053, 0.018663891988115685, 0.279496119671578, 0.010925960540698125, 0.0400003785323195, 0.040371274436815124, 0.009655906083904667, 0.06192361694986379, 0.2688067543353479, 0.25098449406503814, 0.013144180403391006, 0.03681305047785662, 0.00033232297383226534, 0.04930037878723219, 0.05834627913632882, 0.07192610189927058, 0.10016581029645708, 0.1000041656831026, 0.05576742160222633, 0.006740047643117468, 0.0024646010126737486, 0.09635160508120567, 0.10023314790575916, 0.4952816700028596, 0.10606691846631604, 0.07432400500283848, 0.07292631654086033, 0.00962111164376436, 0.8789219032918757, 0.08425267833410921, 0.06915315124940567, 0.026639671799243432, 0.0015877465628408543, 0.002352597447965295, 0.0002702557652633337, 0.02357635134784136, 0.13662679397840696, 0.09957614715421452, 0.01758434653095323, 0.014544823991322961, 0.00011879739637448641, 0.08280571879383102, 0.23411504840680514, 0.5909087923662534, 0.07678834517433608, 0.0017973153506761653, 0.004892078785167687, 0.0010713129166471567, 7.411698094335685e-05, 0.07521044911382471, 0.04194414813366709, 0.011462943564610785, 0.09338167595954834, 0.06302014962466386, 0.04246319405819503, 0.008504217857880221, 0.17835427277872098, 0.003020893926769066, 0.027905325075104112, 0.0028348627357032996, 0.005371927143039103, 0.13058281594231924, 0.1138488294803408, 0.0018934430077087558, 0.07046646439783955, 0.0037274635997648384, 0.08173313384644348, 0.015434497815742333, 0.00032887091780377204, 0.001060362896224764, 0.011118204358816348, 0.0010425171831415156, 0.07642203843601043, 0.0798103579200874, 0.034610650943278684, 0.07153906028163572, 0.03785128758042624, 0.01845401064473469, 0.011394430115250253, 0.14158614188074475, 0.004055828610155752, 0.13953701723761353, 0.6202959787919109, 0.06701919081948722, 0.07121506182385737, 0.0810417948339313, 0.0024487217288637624, 0.011464872431929831, 0.08061774695998415, 0.07506098029590416, 0.07691894920325909, 0.0003142221965131334, 0.09334897113675382, 0.16577333402051228, 0.0011705426131234772, 0.3511707119803142, 0.34856073329418397, 0.20789458776689457, 0.059615770797406785, 0.00042904017197354364, 0.0024402388466238842]}],                        {\"coloraxis\": {\"colorbar\": {\"title\": {\"text\": \"% of Population Vaccinated\"}}, \"colorscale\": [[0.0, \"rgb(253, 224, 197)\"], [0.16666666666666666, \"rgb(250, 203, 166)\"], [0.3333333333333333, \"rgb(248, 181, 139)\"], [0.5, \"rgb(245, 158, 114)\"], [0.6666666666666666, \"rgb(242, 133, 93)\"], [0.8333333333333334, \"rgb(239, 106, 76)\"], [1.0, \"rgb(235, 74, 64)\"]], \"showscale\": false}, \"geo\": {\"center\": {}, \"domain\": {\"x\": [0.0, 1.0], \"y\": [0.0, 1.0]}}, \"legend\": {\"tracegroupgap\": 0}, \"margin\": {\"t\": 60}, \"template\": {\"data\": {\"bar\": [{\"error_x\": {\"color\": \"#2a3f5f\"}, \"error_y\": {\"color\": \"#2a3f5f\"}, \"marker\": {\"line\": {\"color\": \"#E5ECF6\", \"width\": 0.5}}, \"type\": \"bar\"}], \"barpolar\": [{\"marker\": {\"line\": {\"color\": \"#E5ECF6\", \"width\": 0.5}}, \"type\": \"barpolar\"}], \"carpet\": [{\"aaxis\": {\"endlinecolor\": \"#2a3f5f\", \"gridcolor\": \"white\", \"linecolor\": \"white\", \"minorgridcolor\": \"white\", \"startlinecolor\": \"#2a3f5f\"}, \"baxis\": {\"endlinecolor\": \"#2a3f5f\", \"gridcolor\": \"white\", \"linecolor\": \"white\", \"minorgridcolor\": \"white\", \"startlinecolor\": \"#2a3f5f\"}, \"type\": \"carpet\"}], \"choropleth\": [{\"colorbar\": {\"outlinewidth\": 0, \"ticks\": \"\"}, \"type\": \"choropleth\"}], \"contour\": [{\"colorbar\": {\"outlinewidth\": 0, \"ticks\": \"\"}, \"colorscale\": [[0.0, \"#0d0887\"], [0.1111111111111111, \"#46039f\"], [0.2222222222222222, \"#7201a8\"], [0.3333333333333333, \"#9c179e\"], [0.4444444444444444, \"#bd3786\"], [0.5555555555555556, \"#d8576b\"], [0.6666666666666666, \"#ed7953\"], [0.7777777777777778, \"#fb9f3a\"], [0.8888888888888888, \"#fdca26\"], [1.0, \"#f0f921\"]], \"type\": \"contour\"}], \"contourcarpet\": [{\"colorbar\": {\"outlinewidth\": 0, \"ticks\": \"\"}, \"type\": \"contourcarpet\"}], \"heatmap\": [{\"colorbar\": {\"outlinewidth\": 0, \"ticks\": \"\"}, \"colorscale\": [[0.0, \"#0d0887\"], [0.1111111111111111, \"#46039f\"], [0.2222222222222222, \"#7201a8\"], [0.3333333333333333, \"#9c179e\"], [0.4444444444444444, \"#bd3786\"], [0.5555555555555556, \"#d8576b\"], [0.6666666666666666, \"#ed7953\"], [0.7777777777777778, \"#fb9f3a\"], [0.8888888888888888, \"#fdca26\"], [1.0, \"#f0f921\"]], \"type\": \"heatmap\"}], \"heatmapgl\": [{\"colorbar\": {\"outlinewidth\": 0, \"ticks\": \"\"}, \"colorscale\": [[0.0, \"#0d0887\"], [0.1111111111111111, \"#46039f\"], [0.2222222222222222, \"#7201a8\"], [0.3333333333333333, \"#9c179e\"], [0.4444444444444444, \"#bd3786\"], [0.5555555555555556, \"#d8576b\"], [0.6666666666666666, \"#ed7953\"], [0.7777777777777778, \"#fb9f3a\"], [0.8888888888888888, \"#fdca26\"], [1.0, \"#f0f921\"]], \"type\": \"heatmapgl\"}], \"histogram\": [{\"marker\": {\"colorbar\": {\"outlinewidth\": 0, \"ticks\": \"\"}}, \"type\": \"histogram\"}], \"histogram2d\": [{\"colorbar\": {\"outlinewidth\": 0, \"ticks\": \"\"}, \"colorscale\": [[0.0, \"#0d0887\"], [0.1111111111111111, \"#46039f\"], [0.2222222222222222, \"#7201a8\"], [0.3333333333333333, \"#9c179e\"], [0.4444444444444444, \"#bd3786\"], [0.5555555555555556, \"#d8576b\"], [0.6666666666666666, \"#ed7953\"], [0.7777777777777778, \"#fb9f3a\"], [0.8888888888888888, \"#fdca26\"], [1.0, \"#f0f921\"]], \"type\": \"histogram2d\"}], \"histogram2dcontour\": [{\"colorbar\": {\"outlinewidth\": 0, \"ticks\": \"\"}, \"colorscale\": [[0.0, \"#0d0887\"], [0.1111111111111111, \"#46039f\"], [0.2222222222222222, \"#7201a8\"], [0.3333333333333333, \"#9c179e\"], [0.4444444444444444, \"#bd3786\"], [0.5555555555555556, \"#d8576b\"], [0.6666666666666666, \"#ed7953\"], [0.7777777777777778, \"#fb9f3a\"], [0.8888888888888888, \"#fdca26\"], [1.0, \"#f0f921\"]], \"type\": \"histogram2dcontour\"}], \"mesh3d\": [{\"colorbar\": {\"outlinewidth\": 0, \"ticks\": \"\"}, \"type\": \"mesh3d\"}], \"parcoords\": [{\"line\": {\"colorbar\": {\"outlinewidth\": 0, \"ticks\": \"\"}}, \"type\": \"parcoords\"}], \"pie\": [{\"automargin\": true, \"type\": \"pie\"}], \"scatter\": [{\"marker\": {\"colorbar\": {\"outlinewidth\": 0, \"ticks\": \"\"}}, \"type\": \"scatter\"}], \"scatter3d\": [{\"line\": {\"colorbar\": {\"outlinewidth\": 0, \"ticks\": \"\"}}, \"marker\": {\"colorbar\": {\"outlinewidth\": 0, \"ticks\": \"\"}}, \"type\": \"scatter3d\"}], \"scattercarpet\": [{\"marker\": {\"colorbar\": {\"outlinewidth\": 0, \"ticks\": \"\"}}, \"type\": \"scattercarpet\"}], \"scattergeo\": [{\"marker\": {\"colorbar\": {\"outlinewidth\": 0, \"ticks\": \"\"}}, \"type\": \"scattergeo\"}], \"scattergl\": [{\"marker\": {\"colorbar\": {\"outlinewidth\": 0, \"ticks\": \"\"}}, \"type\": \"scattergl\"}], \"scattermapbox\": [{\"marker\": {\"colorbar\": {\"outlinewidth\": 0, \"ticks\": \"\"}}, \"type\": \"scattermapbox\"}], \"scatterpolar\": [{\"marker\": {\"colorbar\": {\"outlinewidth\": 0, \"ticks\": \"\"}}, \"type\": \"scatterpolar\"}], \"scatterpolargl\": [{\"marker\": {\"colorbar\": {\"outlinewidth\": 0, \"ticks\": \"\"}}, \"type\": \"scatterpolargl\"}], \"scatterternary\": [{\"marker\": {\"colorbar\": {\"outlinewidth\": 0, \"ticks\": \"\"}}, \"type\": \"scatterternary\"}], \"surface\": [{\"colorbar\": {\"outlinewidth\": 0, \"ticks\": \"\"}, \"colorscale\": [[0.0, \"#0d0887\"], [0.1111111111111111, \"#46039f\"], [0.2222222222222222, \"#7201a8\"], [0.3333333333333333, \"#9c179e\"], [0.4444444444444444, \"#bd3786\"], [0.5555555555555556, \"#d8576b\"], [0.6666666666666666, \"#ed7953\"], [0.7777777777777778, \"#fb9f3a\"], [0.8888888888888888, \"#fdca26\"], [1.0, \"#f0f921\"]], \"type\": \"surface\"}], \"table\": [{\"cells\": {\"fill\": {\"color\": \"#EBF0F8\"}, \"line\": {\"color\": \"white\"}}, \"header\": {\"fill\": {\"color\": \"#C8D4E3\"}, \"line\": {\"color\": \"white\"}}, \"type\": \"table\"}]}, \"layout\": {\"annotationdefaults\": {\"arrowcolor\": \"#2a3f5f\", \"arrowhead\": 0, \"arrowwidth\": 1}, \"autotypenumbers\": \"strict\", \"coloraxis\": {\"colorbar\": {\"outlinewidth\": 0, \"ticks\": \"\"}}, \"colorscale\": {\"diverging\": [[0, \"#8e0152\"], [0.1, \"#c51b7d\"], [0.2, \"#de77ae\"], [0.3, \"#f1b6da\"], [0.4, \"#fde0ef\"], [0.5, \"#f7f7f7\"], [0.6, \"#e6f5d0\"], [0.7, \"#b8e186\"], [0.8, \"#7fbc41\"], [0.9, \"#4d9221\"], [1, \"#276419\"]], \"sequential\": [[0.0, \"#0d0887\"], [0.1111111111111111, \"#46039f\"], [0.2222222222222222, \"#7201a8\"], [0.3333333333333333, \"#9c179e\"], [0.4444444444444444, \"#bd3786\"], [0.5555555555555556, \"#d8576b\"], [0.6666666666666666, \"#ed7953\"], [0.7777777777777778, \"#fb9f3a\"], [0.8888888888888888, \"#fdca26\"], [1.0, \"#f0f921\"]], \"sequentialminus\": [[0.0, \"#0d0887\"], [0.1111111111111111, \"#46039f\"], [0.2222222222222222, \"#7201a8\"], [0.3333333333333333, \"#9c179e\"], [0.4444444444444444, \"#bd3786\"], [0.5555555555555556, \"#d8576b\"], [0.6666666666666666, \"#ed7953\"], [0.7777777777777778, \"#fb9f3a\"], [0.8888888888888888, \"#fdca26\"], [1.0, \"#f0f921\"]]}, \"colorway\": [\"#636efa\", \"#EF553B\", \"#00cc96\", \"#ab63fa\", \"#FFA15A\", \"#19d3f3\", \"#FF6692\", \"#B6E880\", \"#FF97FF\", \"#FECB52\"], \"font\": {\"color\": \"#2a3f5f\"}, \"geo\": {\"bgcolor\": \"white\", \"lakecolor\": \"white\", \"landcolor\": \"#E5ECF6\", \"showlakes\": true, \"showland\": true, \"subunitcolor\": \"white\"}, \"hoverlabel\": {\"align\": \"left\"}, \"hovermode\": \"closest\", \"mapbox\": {\"style\": \"light\"}, \"paper_bgcolor\": \"white\", \"plot_bgcolor\": \"#E5ECF6\", \"polar\": {\"angularaxis\": {\"gridcolor\": \"white\", \"linecolor\": \"white\", \"ticks\": \"\"}, \"bgcolor\": \"#E5ECF6\", \"radialaxis\": {\"gridcolor\": \"white\", \"linecolor\": \"white\", \"ticks\": \"\"}}, \"scene\": {\"xaxis\": {\"backgroundcolor\": \"#E5ECF6\", \"gridcolor\": \"white\", \"gridwidth\": 2, \"linecolor\": \"white\", \"showbackground\": true, \"ticks\": \"\", \"zerolinecolor\": \"white\"}, \"yaxis\": {\"backgroundcolor\": \"#E5ECF6\", \"gridcolor\": \"white\", \"gridwidth\": 2, \"linecolor\": \"white\", \"showbackground\": true, \"ticks\": \"\", \"zerolinecolor\": \"white\"}, \"zaxis\": {\"backgroundcolor\": \"#E5ECF6\", \"gridcolor\": \"white\", \"gridwidth\": 2, \"linecolor\": \"white\", \"showbackground\": true, \"ticks\": \"\", \"zerolinecolor\": \"white\"}}, \"shapedefaults\": {\"line\": {\"color\": \"#2a3f5f\"}}, \"ternary\": {\"aaxis\": {\"gridcolor\": \"white\", \"linecolor\": \"white\", \"ticks\": \"\"}, \"baxis\": {\"gridcolor\": \"white\", \"linecolor\": \"white\", \"ticks\": \"\"}, \"bgcolor\": \"#E5ECF6\", \"caxis\": {\"gridcolor\": \"white\", \"linecolor\": \"white\", \"ticks\": \"\"}}, \"title\": {\"x\": 0.05}, \"xaxis\": {\"automargin\": true, \"gridcolor\": \"white\", \"linecolor\": \"white\", \"ticks\": \"\", \"title\": {\"standoff\": 15}, \"zerolinecolor\": \"white\", \"zerolinewidth\": 2}, \"yaxis\": {\"automargin\": true, \"gridcolor\": \"white\", \"linecolor\": \"white\", \"ticks\": \"\", \"title\": {\"standoff\": 15}, \"zerolinecolor\": \"white\", \"zerolinewidth\": 2}}}, \"title\": {\"text\": \"Total Vaccination % of Population by Country\", \"x\": 0.5}},                        {\"responsive\": true}                    ).then(function(){\n",
       "                            \n",
       "var gd = document.getElementById('abda3219-525e-412c-bf51-b6cb6e7d5d5c');\n",
       "var x = new MutationObserver(function (mutations, observer) {{\n",
       "        var display = window.getComputedStyle(gd).display;\n",
       "        if (!display || display === 'none') {{\n",
       "            console.log([gd, 'removed!']);\n",
       "            Plotly.purge(gd);\n",
       "            observer.disconnect();\n",
       "        }}\n",
       "}});\n",
       "\n",
       "// Listen for the removal of the full notebook cells\n",
       "var notebookContainer = gd.closest('#notebook-container');\n",
       "if (notebookContainer) {{\n",
       "    x.observe(notebookContainer, {childList: true});\n",
       "}}\n",
       "\n",
       "// Listen for the clearing of the current output cell\n",
       "var outputEl = gd.closest('.output');\n",
       "if (outputEl) {{\n",
       "    x.observe(outputEl, {childList: true});\n",
       "}}\n",
       "\n",
       "                        })                };                });            </script>        </div>"
      ]
     },
     "metadata": {},
     "output_type": "display_data"
    }
   ],
   "source": [
    "fig = px.choropleth(df_f,\n",
    "                    locations=\"country\", \n",
    "                    locationmode='country names',\n",
    "                    color=\"pct_vaccinated\", \n",
    "                    hover_name=\"country\", \n",
    "                    hover_data=['pct_vaccinated'],\n",
    "                    color_continuous_scale=\"Peach\",\n",
    "                    labels={'country':'Country','pct_vaccinated':'% of Population Vaccinated'})\n",
    "\n",
    "fig.update_layout(title=\"Total Vaccination % of Population by Country\", title_x=0.5)\n",
    "\n",
    "fig.update(layout_coloraxis_showscale=False)\n",
    "\n",
    "fig.show()"
   ]
  },
  {
   "cell_type": "markdown",
   "id": "amateur-jacksonville",
   "metadata": {},
   "source": [
    "## 6. Conclusion"
   ]
  },
  {
   "cell_type": "markdown",
   "id": "reported-connectivity",
   "metadata": {},
   "source": [
    "### Relativity is everything\n",
    "\n",
    "Considering every single country is responsible for their own people (apart from minority groups such as immigrants), we can understand that the success in vaccination process should not only be assessed with the number of people vaccinated. When we look at the total vaccination % of the population, we see a more accurate indicator of success and understand that the measure of success is quality rather than quantity."
   ]
  },
  {
   "cell_type": "markdown",
   "id": "neutral-island",
   "metadata": {},
   "source": [
    "## Before closing..."
   ]
  },
  {
   "cell_type": "markdown",
   "id": "described-assembly",
   "metadata": {},
   "source": [
    "### If you've made it so far in the notebook, first, congratulations! and second, please let me know about your thoughts!\n",
    "\n",
    "- LinkedIn: https://www.linkedin.com/in/emrecanokten/\n",
    "- Kaggle:https://www.kaggle.com/emrecano\n",
    "\n",
    "### And do not forget the vote the notebook or like the post (whichever is applicable)!\n",
    "\n",
    "# Thanks a lot!"
   ]
  },
  {
   "cell_type": "code",
   "execution_count": null,
   "id": "artificial-emphasis",
   "metadata": {},
   "outputs": [],
   "source": []
  }
 ],
 "metadata": {
  "kernelspec": {
   "display_name": "Python 3",
   "language": "python",
   "name": "python3"
  },
  "language_info": {
   "codemirror_mode": {
    "name": "ipython",
    "version": 3
   },
   "file_extension": ".py",
   "mimetype": "text/x-python",
   "name": "python",
   "nbconvert_exporter": "python",
   "pygments_lexer": "ipython3",
   "version": "3.8.5"
  }
 },
 "nbformat": 4,
 "nbformat_minor": 5
}
